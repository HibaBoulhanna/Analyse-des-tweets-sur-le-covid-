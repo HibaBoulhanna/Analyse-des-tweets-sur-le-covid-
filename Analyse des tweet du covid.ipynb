{
 "cells": [
  {
   "cell_type": "markdown",
   "metadata": {},
   "source": [
    "### **<span style=\"color:#FCF16D\">0. Importation des librairies</span>**"
   ]
  },
  {
   "cell_type": "code",
   "execution_count": 1,
   "metadata": {},
   "outputs": [],
   "source": [
    "# lecture du notebook\n",
    "%matplotlib inline\n",
    "import warnings\n",
    "warnings.filterwarnings('ignore','int', category=DeprecationWarning)\n",
    "\n",
    "# typographie \n",
    "class color:\n",
    "   PURPLE = '\\033[95m'\n",
    "   CYAN = '\\033[96m'\n",
    "   DARKCYAN = '\\033[36m'\n",
    "   BLUE = '\\033[94m'\n",
    "   GREEN = '\\033[92m'\n",
    "   YELLOW = '\\033[93m'\n",
    "   RED = '\\033[91m'\n",
    "   BOLD = '\\033[1m'\n",
    "   UNDERLINE = '\\033[4m'\n",
    "   END = '\\033[0m'\n",
    "\n",
    "# librairies\n",
    "import json, requests, emoji, regex, re, string\n",
    "from collections import Counter\n",
    "import numpy as np\n",
    "import pandas as pd\n",
    "from sklearn.feature_extraction.text import TfidfVectorizer\n",
    "from sklearn.cluster import KMeans\n",
    "\n",
    "# visualisation\n",
    "import chart_studio\n",
    "import chart_studio.plotly as py \n",
    "import chart_studio.tools as tls\n",
    "import matplotlib.pyplot as plt \n",
    "import plotly.express as px\n",
    "import plotly.graph_objects as go\n",
    "import seaborn as sns\n",
    "\n",
    "# traitement du language\n",
    "import gensim as gs\n",
    "from gensim.corpora import Dictionary\n",
    "from gensim.models.ldamulticore import LdaMulticore\n",
    "from gensim.models.coherencemodel import CoherenceModel\n",
    "from gensim.parsing.preprocessing import STOPWORDS as SW\n",
    "from pprint import pprint\n",
    "import pyLDAvis.gensim_models\n",
    "import snscrape.modules.twitter as sntwitter\n",
    "import spacy as scy\n",
    "from spacy.tokenizer import Tokenizer\n",
    "from sklearn.decomposition import LatentDirichletAllocation, TruncatedSVD\n",
    "from sklearn.feature_extraction.text import CountVectorizer, TfidfVectorizer\n",
    "from sklearn.model_selection import GridSearchCV\n",
    "from wordcloud import STOPWORDS\n",
    "from nltk.corpus import stopwords\n",
    "stopwords = set(stopwords.words('french'))"
   ]
  },
  {
   "cell_type": "markdown",
   "metadata": {},
   "source": [
    "### **<span style=\"color:#FCF16D\">1. Récupération des données</span>**"
   ]
  },
  {
   "cell_type": "markdown",
   "metadata": {},
   "source": [
    "#### **<span style=\"color:#8EA3EB\">1.1. Scrapping tweet généraux</span>**"
   ]
  },
  {
   "cell_type": "code",
   "execution_count": null,
   "metadata": {},
   "outputs": [],
   "source": [
    "# création de liste pour récupérer les tweets\n",
    "tweets_like = []\n",
    "tweets_base = []\n",
    "\n",
    "# création d'une boucle for pour analyser les tweets\n",
    "# paramètres (mots clef, date, langue etc)\n",
    "for i,tweet in enumerate(sntwitter.TwitterSearchScraper('#covid since:2021-01-01 until:2021-12-30 lang:fr').get_items()):\n",
    "    if i>1000000:\n",
    "        break\n",
    "\n",
    "    # définission du nombre de like\n",
    "    elif tweet.likeCount > 200:\n",
    "        tweets_like.append([tweet.date, tweet.id, tweet.content, tweet.user.username, tweet.likeCount, tweet.user.displayname, tweet.user.verified, tweet.lang])\n",
    "    else :\n",
    "        tweets_base.append([tweet.date, tweet.id, tweet.content, tweet.user.username, tweet.likeCount, tweet.user.displayname, tweet.user.verified, tweet.lang])"
   ]
  },
  {
   "cell_type": "code",
   "execution_count": null,
   "metadata": {},
   "outputs": [],
   "source": [
    "# création de la liste de colonne\n",
    "cols_name = ['Datetime', 'Tweet Id', 'Text', 'Username', 'Like Count', 'Display Name', 'Vérifié', 'Language']\n",
    "\n",
    "# création des DataFrame finaux\n",
    "df_tweets_base = pd.DataFrame(tweets_base, columns=cols_name)\n",
    "df_tweets_like = pd.DataFrame(tweets_like, columns=cols_name)"
   ]
  },
  {
   "cell_type": "code",
   "execution_count": null,
   "metadata": {},
   "outputs": [],
   "source": [
    "# enregistrement en csv du jeu de donnée final\n",
    "df_tweets_base.to_csv('Tweets_scrapé_base.csv')\n",
    "df_tweets_like.to_csv('Tweets_scrapé_like.csv')"
   ]
  },
  {
   "cell_type": "markdown",
   "metadata": {},
   "source": [
    "#### **<span style=\"color:#8EA3EB\">1.2. Scrapping tweet comptes vérifiés | influenceurs</span>**"
   ]
  },
  {
   "cell_type": "code",
   "execution_count": null,
   "metadata": {},
   "outputs": [],
   "source": [
    "# création de liste pour récupérer les tweets de personne ou entreprise vérifiées\n",
    "tweets_influence = []\n",
    "\n",
    "# création d'une boucle for pour scraper uniquement les tweets souhaités\n",
    "# initialisation du compteur\n",
    "j = 0\n",
    "for i,tweet in enumerate(sntwitter.TwitterSearchScraper('#covid since:2021-01-01 until:2021-12-30 lang:fr').get_items()):\n",
    "    if j>1000000:\n",
    "        break\n",
    "    # condition pour récupérer uniquement les tweets de compte influents\n",
    "    elif tweet.user.verified == True:\n",
    "        tweets_influence.append([tweet.date, tweet.id, tweet.content, tweet.user.username, tweet.likeCount, tweet.user.displayname, tweet.user.verified, tweet.lang])\n",
    "        j = j + 1"
   ]
  },
  {
   "cell_type": "code",
   "execution_count": null,
   "metadata": {},
   "outputs": [],
   "source": [
    "# création du DataFrame\n",
    "df_tweets_influence = pd.DataFrame(tweets_influence, columns=cols_name)"
   ]
  },
  {
   "cell_type": "code",
   "execution_count": null,
   "metadata": {},
   "outputs": [],
   "source": [
    "# enregistrement en csv du jeu de donnée final\n",
    "df_tweets_influence.to_csv('Tweets_scrapé_influence.csv')"
   ]
  },
  {
   "cell_type": "markdown",
   "metadata": {},
   "source": [
    "#### **<span style=\"color:#8EA3EB\">1.3. Scrapping tweet Gouvernement français</span>**"
   ]
  },
  {
   "cell_type": "code",
   "execution_count": null,
   "metadata": {},
   "outputs": [],
   "source": [
    "tweets_gouv = []\n",
    "\n",
    "# création d'une boucle for pour analyser les tweets du gouvernement\n",
    "# paramètres (mots clef, date, langue etc)\n",
    "for i,tweet in enumerate(sntwitter.TwitterSearchScraper('covid from:gouvernementFR since:2021-01-01 until:2021-12-30 lang:fr').get_items()):\n",
    "    if i>1000000:\n",
    "        break\n",
    "    # récupération des tweets \n",
    "    tweets_gouv.append([tweet.date, tweet.id, tweet.content, tweet.user.username, tweet.likeCount, tweet.user.displayname, tweet.user.verified, tweet.lang])\n",
    "\n",
    "for i,tweet in enumerate(sntwitter.TwitterSearchScraper('covid from:olivierveran since:2021-01-01 until:2021-12-30 lang:fr').get_items()):\n",
    "    if i>1000000:\n",
    "        break\n",
    "    # récupération des tweets \n",
    "    tweets_gouv.append([tweet.date, tweet.id, tweet.content, tweet.user.username, tweet.likeCount, tweet.user.displayname, tweet.user.verified, tweet.lang])\n",
    "\n",
    "for i,tweet in enumerate(sntwitter.TwitterSearchScraper('covid from:JeanCASTEX since:2021-01-01 until:2021-12-30 lang:fr').get_items()):\n",
    "    if i>1000000:\n",
    "        break\n",
    "    # récupération des tweets \n",
    "    tweets_gouv.append([tweet.date, tweet.id, tweet.content, tweet.user.username, tweet.likeCount, tweet.user.displayname, tweet.user.verified, tweet.lang])\n",
    "\n",
    "for i,tweet in enumerate(sntwitter.TwitterSearchScraper('covid from:EmmanuelMacron since:2021-01-01 until:2021-12-30 lang:fr').get_items()):\n",
    "    if i>1000000:\n",
    "        break\n",
    "    # récupération des tweets \n",
    "    tweets_gouv.append([tweet.date, tweet.id, tweet.content, tweet.user.username, tweet.likeCount, tweet.user.displayname, tweet.user.verified, tweet.lang])\n",
    "\n",
    "for i,tweet in enumerate(sntwitter.TwitterSearchScraper('covid from:Sante_Gouv since:2021-01-01 until:2021-12-30 lang:fr').get_items()):\n",
    "    if i>1000000:\n",
    "        break\n",
    "    # récupération des tweets \n",
    "    tweets_gouv.append([tweet.date, tweet.id, tweet.content, tweet.user.username, tweet.likeCount, tweet.user.displayname, tweet.user.verified, tweet.lang])"
   ]
  },
  {
   "cell_type": "code",
   "execution_count": null,
   "metadata": {},
   "outputs": [],
   "source": [
    "# création du DataFrame\n",
    "cols_name = ['Datetime', 'Tweet Id', 'Text', 'Username', 'Like Count', 'Display Name', 'Vérifié', 'Language']\n",
    "df_tweets_gouv = pd.DataFrame(tweets_gouv, columns=cols_name)"
   ]
  },
  {
   "cell_type": "code",
   "execution_count": null,
   "metadata": {},
   "outputs": [],
   "source": [
    "# enregistrement en csv du jeu de donnée final\n",
    "df_tweets_gouv.to_csv('Tweets_scrapé_gouv.csv')"
   ]
  },
  {
   "cell_type": "markdown",
   "metadata": {},
   "source": [
    "#### **<span style=\"color:#8EA3EB\">1.4. Compilation des données</span>**"
   ]
  },
  {
   "cell_type": "code",
   "execution_count": null,
   "metadata": {},
   "outputs": [],
   "source": [
    "# concaténation des dataframes\n",
    "df_tweet = pd.concat([df_tweets_base, df_tweets_like, df_tweets_influence, df_tweets_gouv], axis=0, ignore_index=True)"
   ]
  },
  {
   "cell_type": "code",
   "execution_count": null,
   "metadata": {},
   "outputs": [],
   "source": [
    "# enregistrement en csv du jeu de donnée final\n",
    "df_tweet.to_csv('Tweets_finaux.csv')"
   ]
  },
  {
   "cell_type": "markdown",
   "metadata": {},
   "source": [
    "### **<span style=\"color:#FCF16D\">2. Data cleaning</span>**"
   ]
  },
  {
   "cell_type": "markdown",
   "metadata": {},
   "source": [
    "#### **<span style=\"color:#8EA3EB\">2.1. Chargement des données scrapées</span>**"
   ]
  },
  {
   "cell_type": "code",
   "execution_count": 2,
   "metadata": {},
   "outputs": [],
   "source": [
    "# pour travailler avec les données scrapper précédemment\n",
    "df_tweet = pd.read_csv(r'Tweets_finaux.csv', header=0)\n",
    "df_tweet = pd.DataFrame(df_tweet)\n",
    "cols_sup = ['Unnamed: 0']\n",
    "df_tweet = df_tweet.drop(columns=cols_sup)"
   ]
  },
  {
   "cell_type": "markdown",
   "metadata": {},
   "source": [
    "#### **<span style=\"color:#8EA3EB\">2.2. Pipeline NLP</span>**"
   ]
  },
  {
   "cell_type": "code",
   "execution_count": 3,
   "metadata": {},
   "outputs": [],
   "source": [
    "def nlp_pipeline(text):\n",
    "\n",
    "    # remplacement des nom d'utilisateur\n",
    "    text = re.sub(r'@\\S+', '', text)\n",
    "\n",
    "    # remplacement des syntaxe de base (minuscules, ponctuations, caractère spéciaux, chiffres)\n",
    "    text = text.lower()\n",
    "    text = text.replace('\\n', ' ').replace('\\r', '')\n",
    "    text = ' '.join(text.split())\n",
    "    text = re.sub(r\"[A-Za-z\\.]*[0-9]+[A-Za-z%°\\.]*\", \"\", text)\n",
    "    text = re.sub(r\"(\\s\\-\\s|-$)\", \"\", text)\n",
    "    text = re.sub(r\"[,\\!\\?\\%\\(\\)\\/\\\"]\", \"\", text)\n",
    "    text = re.sub(r\"\\&\\S*\\s\", \"\", text)\n",
    "    text = re.sub(r\"\\&\", \"\", text)\n",
    "    text = re.sub(r\"\\+\", \"\", text)\n",
    "    text = re.sub(r\"\\#\", \"\", text)\n",
    "    text = re.sub(r\"\\$\", \"\", text)\n",
    "    text = re.sub(r\"\\'\", \"\", text)\n",
    "    text = re.sub(r\"\\£\", \"\", text)\n",
    "    text = re.sub(r\"\\%\", \"\", text)\n",
    "    text = re.sub(r\"\\:\", \"\", text)\n",
    "    text = re.sub(r\"\\@\", \"\", text)\n",
    "    text = re.sub(r\"\\-\", \"\", text)\n",
    "\n",
    "    # suppression des emojis\n",
    "    text = emoji.get_emoji_regexp().sub(r'', text)\n",
    "\n",
    "    # remplacement des adresses internet et liens\n",
    "    text = re.sub(r'http\\S+', '', text)\n",
    "\n",
    "    return text"
   ]
  },
  {
   "cell_type": "code",
   "execution_count": 4,
   "metadata": {},
   "outputs": [],
   "source": [
    "# application de la fonction\n",
    "nettoyage_nlp = lambda x: nlp_pipeline(x)\n",
    "\n",
    "# création d'une nouvelle colonne en appliquant le traitement de cleaning du texte\n",
    "df_tweet['Texte_clean'] = df_tweet['Text'].apply(nettoyage_nlp)"
   ]
  },
  {
   "cell_type": "markdown",
   "metadata": {},
   "source": [
    "#### **<span style=\"color:#8EA3EB\">2.3. Tokenisation</span>**"
   ]
  },
  {
   "cell_type": "code",
   "execution_count": 9,
   "metadata": {},
   "outputs": [],
   "source": [
    "# après quelques recherches, j'ai du telecharger les référence spacy du language français\n",
    "# je le charge ci-dessous pour pouvoir l'utiliser\n",
    "nlp = scy.load('fr_core_news_lg')"
   ]
  },
  {
   "cell_type": "code",
   "execution_count": 10,
   "metadata": {},
   "outputs": [],
   "source": [
    "# tokenisation\n",
    "tokenizer = Tokenizer(nlp.vocab)\n",
    "\n",
    "# je rajoute les stopswords qui me semble cohérent (avec ma connaissance de la langue française)\n",
    "custom_stopwords = ['bonjour','\\n','\\n\\n', \"l'\",'&amp;', ' ','  ', '.', '-', 'salut','|', 'il','=','le','la','les','d', 'nous', \"c'est\", 'cest', \"je\", 'veux', \"j'aime\", '$', '@']\n",
    "\n",
    "# j'ajoute mes stopword personnels à la liste définis par défault\n",
    "STOP_WORDS = nlp.Defaults.stop_words.union(custom_stopwords)\n",
    "\n",
    "# ALL_STOP_WORDS = spacy + gensim + ntlk | cette opération me permet d'avoir le maximum de STOPWORD pour le traitement de mes tweets\n",
    "ALL_STOP_WORDS = STOP_WORDS.union(SW).union(stopwords)"
   ]
  },
  {
   "cell_type": "code",
   "execution_count": 11,
   "metadata": {},
   "outputs": [],
   "source": [
    "# initialisation de liste \n",
    "tokens = []\n",
    "\n",
    "# iteration de la boucle sur le texte traité précédemment\n",
    "for doc in tokenizer.pipe(df_tweet['Texte_clean']):\n",
    "    doc_tokens = []\n",
    "    # pour chaque ligne\n",
    "    for token in doc: \n",
    "        # si ce n'est pas un STOPWORD\n",
    "        if token.text.lower() not in STOP_WORDS:\n",
    "            doc_tokens.append(token.text.lower())   \n",
    "    tokens.append(doc_tokens)\n",
    "\n",
    "# création de la colonne 'token'\n",
    "df_tweet['tokens'] = tokens\n",
    "\n",
    "# création de la colonne en string à partir des token (pour lemmatiser)\n",
    "df_tweet['tokens_back_to_text'] = [' '.join(map(str, l)) for l in df_tweet['tokens']]"
   ]
  },
  {
   "cell_type": "markdown",
   "metadata": {},
   "source": [
    "#### **<span style=\"color:#8EA3EB\">2.4. Lemmatisation</span>**"
   ]
  },
  {
   "cell_type": "code",
   "execution_count": 12,
   "metadata": {},
   "outputs": [],
   "source": [
    "def get_lemmas(text):\n",
    "    lemmas = []\n",
    "    doc = nlp(text)\n",
    "    \n",
    "    # itération sur chaque mot présent en utilisant le package spacy sur le vocabulaire et la grammaire\n",
    "    for token in doc: \n",
    "        # si ce n'est pas égal à de la ponctuation, stopword\n",
    "        if ((token.is_stop == False) and (token.is_punct == False)) and (token.pos_ != 'PRON'):\n",
    "            lemmas.append(token.lemma_)\n",
    "    \n",
    "    return lemmas\n",
    "\n",
    "# création de la nouvelle colonne lematiser en appliquant la fonction récemment créée\n",
    "df_tweet['lemmas'] = df_tweet['tokens_back_to_text'].apply(get_lemmas)"
   ]
  },
  {
   "cell_type": "code",
   "execution_count": 13,
   "metadata": {},
   "outputs": [],
   "source": [
    "# repassage en string\n",
    "df_tweet['lemmas'] = [' '.join(map(str, l)) for l in df_tweet['lemmas']]"
   ]
  },
  {
   "cell_type": "code",
   "execution_count": 14,
   "metadata": {},
   "outputs": [],
   "source": [
    "# on retokenise notre colonne lematiser pour regrouper à nouveau\n",
    "text_lemmas = []\n",
    "\n",
    "for doc in tokenizer.pipe(df_tweet['lemmas']):\n",
    "    doc_lemma = []    \n",
    "    for token in doc: \n",
    "        if token.text.lower() not in STOP_WORDS:\n",
    "            doc_lemma.append(token.text.lower())   \n",
    "    text_lemmas.append(doc_lemma)\n",
    "\n",
    "# création de la colonne du texte tokeniser et lematiser\n",
    "df_tweet['lemma_token'] = text_lemmas"
   ]
  },
  {
   "cell_type": "markdown",
   "metadata": {},
   "source": [
    "#### **<span style=\"color:#8EA3EB\">2.5. Enregistrement des données cleans</span>**"
   ]
  },
  {
   "cell_type": "code",
   "execution_count": 15,
   "metadata": {},
   "outputs": [],
   "source": [
    "# enregistrement en csv du jeu de donnée final tokeniser et lemmaliser\n",
    "df_tweet.to_csv('Tweets_finaux_token.csv')"
   ]
  },
  {
   "cell_type": "markdown",
   "metadata": {},
   "source": [
    "### **<span style=\"color:#FCF16D\">3. Modelisations</span>**"
   ]
  },
  {
   "cell_type": "markdown",
   "metadata": {},
   "source": [
    "##### Informations supplémentaires"
   ]
  },
  {
   "cell_type": "code",
   "execution_count": 16,
   "metadata": {},
   "outputs": [],
   "source": [
    "#df_tweet = pd.read_csv(r'Tweets_finaux_token.csv', header=0)\n",
    "#df_tweet = pd.DataFrame(df_tweet)\n",
    "#cols_sup = ['Unnamed: 0']\n",
    "#df_tweet = df_tweet.drop(columns=cols_sup)"
   ]
  },
  {
   "cell_type": "code",
   "execution_count": 17,
   "metadata": {},
   "outputs": [
    {
     "name": "stderr",
     "output_type": "stream",
     "text": [
      "C:\\Users\\PEGON\\AppData\\Local\\Temp/ipykernel_22276/367567942.py:20: SettingWithCopyWarning: \n",
      "A value is trying to be set on a copy of a slice from a DataFrame\n",
      "\n",
      "See the caveats in the documentation: https://pandas.pydata.org/pandas-docs/stable/user_guide/indexing.html#returning-a-view-versus-a-copy\n",
      "  df_tweet['Famille'][i] = \"Base\"\n",
      "C:\\Users\\PEGON\\AppData\\Local\\Temp/ipykernel_22276/367567942.py:18: SettingWithCopyWarning: \n",
      "A value is trying to be set on a copy of a slice from a DataFrame\n",
      "\n",
      "See the caveats in the documentation: https://pandas.pydata.org/pandas-docs/stable/user_guide/indexing.html#returning-a-view-versus-a-copy\n",
      "  df_tweet['Famille'][i] = \"Certifié\"\n",
      "C:\\Users\\PEGON\\AppData\\Local\\Temp/ipykernel_22276/367567942.py:16: SettingWithCopyWarning: \n",
      "A value is trying to be set on a copy of a slice from a DataFrame\n",
      "\n",
      "See the caveats in the documentation: https://pandas.pydata.org/pandas-docs/stable/user_guide/indexing.html#returning-a-view-versus-a-copy\n",
      "  df_tweet['Famille'][i] = \"Gouvernement\"\n",
      "C:\\Users\\PEGON\\AppData\\Local\\Temp/ipykernel_22276/367567942.py:8: SettingWithCopyWarning: \n",
      "A value is trying to be set on a copy of a slice from a DataFrame\n",
      "\n",
      "See the caveats in the documentation: https://pandas.pydata.org/pandas-docs/stable/user_guide/indexing.html#returning-a-view-versus-a-copy\n",
      "  df_tweet['Famille'][i] = \"Gouvernement\"\n",
      "C:\\Users\\PEGON\\AppData\\Local\\Temp/ipykernel_22276/367567942.py:6: SettingWithCopyWarning: \n",
      "A value is trying to be set on a copy of a slice from a DataFrame\n",
      "\n",
      "See the caveats in the documentation: https://pandas.pydata.org/pandas-docs/stable/user_guide/indexing.html#returning-a-view-versus-a-copy\n",
      "  df_tweet['Famille'][i] = \"Liké +\"\n",
      "C:\\Users\\PEGON\\AppData\\Local\\Temp/ipykernel_22276/367567942.py:10: SettingWithCopyWarning: \n",
      "A value is trying to be set on a copy of a slice from a DataFrame\n",
      "\n",
      "See the caveats in the documentation: https://pandas.pydata.org/pandas-docs/stable/user_guide/indexing.html#returning-a-view-versus-a-copy\n",
      "  df_tweet['Famille'][i] = \"Gouvernement\"\n",
      "C:\\Users\\PEGON\\AppData\\Local\\Temp/ipykernel_22276/367567942.py:12: SettingWithCopyWarning: \n",
      "A value is trying to be set on a copy of a slice from a DataFrame\n",
      "\n",
      "See the caveats in the documentation: https://pandas.pydata.org/pandas-docs/stable/user_guide/indexing.html#returning-a-view-versus-a-copy\n",
      "  df_tweet['Famille'][i] = \"Gouvernement\"\n"
     ]
    }
   ],
   "source": [
    "# création d'une nouvelle colonne pour classer les familles de Tweets\n",
    "df_tweet['Famille'] = \"\"\n",
    "\n",
    "for i in range(len(df_tweet['Text'])):\n",
    "    if df_tweet['Like Count'][i] > 500:\n",
    "        df_tweet['Famille'][i] = \"Liké +\"\n",
    "    elif df_tweet['Username'][i] == \"gouvernementFR\":\n",
    "        df_tweet['Famille'][i] = \"Gouvernement\"\n",
    "    elif df_tweet['Username'][i] == \"olivierveran\":\n",
    "        df_tweet['Famille'][i] = \"Gouvernement\"\n",
    "    elif df_tweet['Username'][i] == \"JeanCASTEX\":\n",
    "        df_tweet['Famille'][i] = \"Gouvernement\"\n",
    "    elif df_tweet['Username'][i] == \"EmmanuelMacron\":\n",
    "        df_tweet['Famille'][i] = \"Gouvernement\"\n",
    "    elif df_tweet['Username'][i] == \"Sante_Gouv\":\n",
    "        df_tweet['Famille'][i] = \"Gouvernement\"\n",
    "    elif df_tweet['Vérifié'][i] == True:\n",
    "        df_tweet['Famille'][i] = \"Certifié\"\n",
    "    else:\n",
    "        df_tweet['Famille'][i] = \"Base\""
   ]
  },
  {
   "cell_type": "code",
   "execution_count": 18,
   "metadata": {},
   "outputs": [
    {
     "name": "stderr",
     "output_type": "stream",
     "text": [
      "C:\\Users\\PEGON\\AppData\\Local\\Temp/ipykernel_22276/1626060106.py:6: SettingWithCopyWarning: \n",
      "A value is trying to be set on a copy of a slice from a DataFrame\n",
      "\n",
      "See the caveats in the documentation: https://pandas.pydata.org/pandas-docs/stable/user_guide/indexing.html#returning-a-view-versus-a-copy\n",
      "  df_tweet['Jour_tweet'][i] = df_tweet['Datetime'][i].weekday()\n"
     ]
    }
   ],
   "source": [
    "df_tweet['Datetime'] = pd.to_datetime(df_tweet['Datetime'])\n",
    "\n",
    "df_tweet['Jour_tweet'] = \"\"\n",
    "\n",
    "for i in range(len(df_tweet['Text'])):\n",
    "    df_tweet['Jour_tweet'][i] = df_tweet['Datetime'][i].weekday()"
   ]
  },
  {
   "cell_type": "code",
   "execution_count": 19,
   "metadata": {},
   "outputs": [
    {
     "data": {
      "text/html": [
       "<style type=\"text/css\">\n",
       "#T_64865_row0_col0, #T_64865_row4_col2 {\n",
       "  background-color: #810823;\n",
       "  color: #f1f1f1;\n",
       "}\n",
       "#T_64865_row0_col1, #T_64865_row4_col1 {\n",
       "  background-color: #a21328;\n",
       "  color: #f1f1f1;\n",
       "}\n",
       "#T_64865_row0_col2 {\n",
       "  background-color: #bf3338;\n",
       "  color: #f1f1f1;\n",
       "}\n",
       "#T_64865_row0_col3, #T_64865_row4_col0 {\n",
       "  background-color: #8a0b25;\n",
       "  color: #f1f1f1;\n",
       "}\n",
       "#T_64865_row0_col4, #T_64865_row1_col0, #T_64865_row1_col2 {\n",
       "  background-color: #870a24;\n",
       "  color: #f1f1f1;\n",
       "}\n",
       "#T_64865_row1_col1, #T_64865_row2_col2, #T_64865_row3_col2 {\n",
       "  background-color: #a81529;\n",
       "  color: #f1f1f1;\n",
       "}\n",
       "#T_64865_row1_col3, #T_64865_row6_col0, #T_64865_row6_col1, #T_64865_row6_col2, #T_64865_row6_col3, #T_64865_row6_col4 {\n",
       "  background-color: #67001f;\n",
       "  color: #f1f1f1;\n",
       "}\n",
       "#T_64865_row1_col4, #T_64865_row3_col0, #T_64865_row4_col4 {\n",
       "  background-color: #8d0c25;\n",
       "  color: #f1f1f1;\n",
       "}\n",
       "#T_64865_row2_col0 {\n",
       "  background-color: #900d26;\n",
       "  color: #f1f1f1;\n",
       "}\n",
       "#T_64865_row2_col1 {\n",
       "  background-color: #b41c2d;\n",
       "  color: #f1f1f1;\n",
       "}\n",
       "#T_64865_row2_col3, #T_64865_row5_col3 {\n",
       "  background-color: #6a011f;\n",
       "  color: #f1f1f1;\n",
       "}\n",
       "#T_64865_row2_col4 {\n",
       "  background-color: #960f27;\n",
       "  color: #f1f1f1;\n",
       "}\n",
       "#T_64865_row3_col1 {\n",
       "  background-color: #b3192c;\n",
       "  color: #f1f1f1;\n",
       "}\n",
       "#T_64865_row3_col3 {\n",
       "  background-color: #840924;\n",
       "  color: #f1f1f1;\n",
       "}\n",
       "#T_64865_row3_col4 {\n",
       "  background-color: #930e26;\n",
       "  color: #f1f1f1;\n",
       "}\n",
       "#T_64865_row4_col3 {\n",
       "  background-color: #700320;\n",
       "  color: #f1f1f1;\n",
       "}\n",
       "#T_64865_row5_col0, #T_64865_row5_col1, #T_64865_row5_col4 {\n",
       "  background-color: #6d0220;\n",
       "  color: #f1f1f1;\n",
       "}\n",
       "#T_64865_row5_col2 {\n",
       "  background-color: #b1182b;\n",
       "  color: #f1f1f1;\n",
       "}\n",
       "#T_64865_row7_col0, #T_64865_row7_col1, #T_64865_row7_col2, #T_64865_row7_col3, #T_64865_row7_col4 {\n",
       "  background-color: #053061;\n",
       "  color: #f1f1f1;\n",
       "}\n",
       "</style>\n",
       "<table id=\"T_64865_\">\n",
       "  <thead>\n",
       "    <tr>\n",
       "      <th class=\"index_name level0\" >Famille</th>\n",
       "      <th class=\"col_heading level0 col0\" >Base</th>\n",
       "      <th class=\"col_heading level0 col1\" >Certifié</th>\n",
       "      <th class=\"col_heading level0 col2\" >Gouvernement</th>\n",
       "      <th class=\"col_heading level0 col3\" >Liké +</th>\n",
       "      <th class=\"col_heading level0 col4\" >All</th>\n",
       "    </tr>\n",
       "    <tr>\n",
       "      <th class=\"index_name level0\" >Jour_tweet</th>\n",
       "      <th class=\"blank col0\" >&nbsp;</th>\n",
       "      <th class=\"blank col1\" >&nbsp;</th>\n",
       "      <th class=\"blank col2\" >&nbsp;</th>\n",
       "      <th class=\"blank col3\" >&nbsp;</th>\n",
       "      <th class=\"blank col4\" >&nbsp;</th>\n",
       "    </tr>\n",
       "  </thead>\n",
       "  <tbody>\n",
       "    <tr>\n",
       "      <th id=\"T_64865_level0_row0\" class=\"row_heading level0 row0\" >0</th>\n",
       "      <td id=\"T_64865_row0_col0\" class=\"data row0 col0\" >27187</td>\n",
       "      <td id=\"T_64865_row0_col1\" class=\"data row0 col1\" >5866</td>\n",
       "      <td id=\"T_64865_row0_col2\" class=\"data row0 col2\" >40</td>\n",
       "      <td id=\"T_64865_row0_col3\" class=\"data row0 col3\" >188</td>\n",
       "      <td id=\"T_64865_row0_col4\" class=\"data row0 col4\" >33281</td>\n",
       "    </tr>\n",
       "    <tr>\n",
       "      <th id=\"T_64865_level0_row1\" class=\"row_heading level0 row1\" >1</th>\n",
       "      <td id=\"T_64865_row1_col0\" class=\"data row1 col0\" >28332</td>\n",
       "      <td id=\"T_64865_row1_col1\" class=\"data row1 col1\" >6144</td>\n",
       "      <td id=\"T_64865_row1_col2\" class=\"data row1 col2\" >23</td>\n",
       "      <td id=\"T_64865_row1_col3\" class=\"data row1 col3\" >141</td>\n",
       "      <td id=\"T_64865_row1_col4\" class=\"data row1 col4\" >34640</td>\n",
       "    </tr>\n",
       "    <tr>\n",
       "      <th id=\"T_64865_level0_row2\" class=\"row_heading level0 row2\" >2</th>\n",
       "      <td id=\"T_64865_row2_col0\" class=\"data row2 col0\" >30219</td>\n",
       "      <td id=\"T_64865_row2_col1\" class=\"data row2 col1\" >6860</td>\n",
       "      <td id=\"T_64865_row2_col2\" class=\"data row2 col2\" >31</td>\n",
       "      <td id=\"T_64865_row2_col3\" class=\"data row2 col3\" >147</td>\n",
       "      <td id=\"T_64865_row2_col4\" class=\"data row2 col4\" >37257</td>\n",
       "    </tr>\n",
       "    <tr>\n",
       "      <th id=\"T_64865_level0_row3\" class=\"row_heading level0 row3\" >3</th>\n",
       "      <td id=\"T_64865_row3_col0\" class=\"data row3 col0\" >29396</td>\n",
       "      <td id=\"T_64865_row3_col1\" class=\"data row3 col1\" >6620</td>\n",
       "      <td id=\"T_64865_row3_col2\" class=\"data row3 col2\" >31</td>\n",
       "      <td id=\"T_64865_row3_col3\" class=\"data row3 col3\" >179</td>\n",
       "      <td id=\"T_64865_row3_col4\" class=\"data row3 col4\" >36226</td>\n",
       "    </tr>\n",
       "    <tr>\n",
       "      <th id=\"T_64865_level0_row4\" class=\"row_heading level0 row4\" >4</th>\n",
       "      <td id=\"T_64865_row4_col0\" class=\"data row4 col0\" >28687</td>\n",
       "      <td id=\"T_64865_row4_col1\" class=\"data row4 col1\" >5930</td>\n",
       "      <td id=\"T_64865_row4_col2\" class=\"data row4 col2\" >22</td>\n",
       "      <td id=\"T_64865_row4_col3\" class=\"data row4 col3\" >155</td>\n",
       "      <td id=\"T_64865_row4_col4\" class=\"data row4 col4\" >34794</td>\n",
       "    </tr>\n",
       "    <tr>\n",
       "      <th id=\"T_64865_level0_row5\" class=\"row_heading level0 row5\" >5</th>\n",
       "      <td id=\"T_64865_row5_col0\" class=\"data row5 col0\" >22444</td>\n",
       "      <td id=\"T_64865_row5_col1\" class=\"data row5 col1\" >3446</td>\n",
       "      <td id=\"T_64865_row5_col2\" class=\"data row5 col2\" >33</td>\n",
       "      <td id=\"T_64865_row5_col3\" class=\"data row5 col3\" >146</td>\n",
       "      <td id=\"T_64865_row5_col4\" class=\"data row5 col4\" >26069</td>\n",
       "    </tr>\n",
       "    <tr>\n",
       "      <th id=\"T_64865_level0_row6\" class=\"row_heading level0 row6\" >6</th>\n",
       "      <td id=\"T_64865_row6_col0\" class=\"data row6 col0\" >20888</td>\n",
       "      <td id=\"T_64865_row6_col1\" class=\"data row6 col1\" >3078</td>\n",
       "      <td id=\"T_64865_row6_col2\" class=\"data row6 col2\" >15</td>\n",
       "      <td id=\"T_64865_row6_col3\" class=\"data row6 col3\" >142</td>\n",
       "      <td id=\"T_64865_row6_col4\" class=\"data row6 col4\" >24123</td>\n",
       "    </tr>\n",
       "    <tr>\n",
       "      <th id=\"T_64865_level0_row7\" class=\"row_heading level0 row7\" >All</th>\n",
       "      <td id=\"T_64865_row7_col0\" class=\"data row7 col0\" >187153</td>\n",
       "      <td id=\"T_64865_row7_col1\" class=\"data row7 col1\" >37944</td>\n",
       "      <td id=\"T_64865_row7_col2\" class=\"data row7 col2\" >195</td>\n",
       "      <td id=\"T_64865_row7_col3\" class=\"data row7 col3\" >1098</td>\n",
       "      <td id=\"T_64865_row7_col4\" class=\"data row7 col4\" >226390</td>\n",
       "    </tr>\n",
       "  </tbody>\n",
       "</table>\n"
      ],
      "text/plain": [
       "<pandas.io.formats.style.Styler at 0x1bdc3bede50>"
      ]
     },
     "execution_count": 19,
     "metadata": {},
     "output_type": "execute_result"
    }
   ],
   "source": [
    "pd.crosstab(df_tweet.Jour_tweet,df_tweet['Famille'],margins=True).style.background_gradient(cmap='RdBu')"
   ]
  },
  {
   "cell_type": "markdown",
   "metadata": {},
   "source": [
    "#### **<span style=\"color:#8EA3EB\">3.1. LDA</span>**"
   ]
  },
  {
   "cell_type": "markdown",
   "metadata": {},
   "source": [
    "##### **<span style=\"color:#6DEFA2\">3.1.1. Réglages et configuration pré-LDA</span>**"
   ]
  },
  {
   "cell_type": "code",
   "execution_count": 20,
   "metadata": {},
   "outputs": [
    {
     "name": "stdout",
     "output_type": "stream",
     "text": [
      "128088\n"
     ]
    }
   ],
   "source": [
    "# création du dictionnaire\n",
    "id2word = Dictionary(df_tweet['lemma_token'])\n",
    "print(len(id2word))"
   ]
  },
  {
   "cell_type": "code",
   "execution_count": 21,
   "metadata": {},
   "outputs": [
    {
     "name": "stdout",
     "output_type": "stream",
     "text": [
      "1564\n"
     ]
    }
   ],
   "source": [
    "# filtre des extremes (je décide de mettre 300 dans 'no_below', qui correspond à un peu moins de 0.1% de mon jeu de donnée)\n",
    "id2word.filter_extremes(no_below=300, no_above=0.99)\n",
    "print(len(id2word))"
   ]
  },
  {
   "cell_type": "code",
   "execution_count": 22,
   "metadata": {},
   "outputs": [],
   "source": [
    "# création du corpus de référence\n",
    "corpus = [id2word.doc2bow(d) for d in df_tweet['lemma_token']]"
   ]
  },
  {
   "cell_type": "markdown",
   "metadata": {},
   "source": [
    "##### **<span style=\"color:#6DEFA2\">3.1.2. LDA et paramétrage</span>**"
   ]
  },
  {
   "cell_type": "code",
   "execution_count": 23,
   "metadata": {},
   "outputs": [],
   "source": [
    "# initialisation du model LDA (topic= 10 --> choisis après analyse de la perplexcité et de la cohérence)\n",
    "base_model = LdaMulticore(corpus=corpus, num_topics=6, id2word=id2word, passes=5, random_state=69, alpha='symmetric')"
   ]
  },
  {
   "cell_type": "code",
   "execution_count": 24,
   "metadata": {},
   "outputs": [],
   "source": [
    "# filtre par mot\n",
    "words = [re.findall(r'\"([^\"]*)\"',t[1]) for t in base_model.print_topics()]"
   ]
  },
  {
   "cell_type": "code",
   "execution_count": 25,
   "metadata": {},
   "outputs": [],
   "source": [
    "# création des différents sujets\n",
    "topics = [' '.join(t[0:10]) for t in words]"
   ]
  },
  {
   "cell_type": "markdown",
   "metadata": {},
   "source": [
    "##### **<span style=\"color:#6DEFA2\">3.1.3. Evaluation du modèle</span>**"
   ]
  },
  {
   "cell_type": "code",
   "execution_count": 26,
   "metadata": {},
   "outputs": [
    {
     "name": "stdout",
     "output_type": "stream",
     "text": [
      "\u001b[1m\u001b[36m Topic0: \u001b[0m covid crise pandémie sanitaire retrouver travail entreprise santé question vie\n",
      "\u001b[1m\u001b[36m Topic1: \u001b[0m covid france coronavirus sanitaire janvier cas décès annoncer confinement mesure\n",
      "\u001b[1m\u001b[36m Topic2: \u001b[0m covid vacciner an faire patient test non santé hôpital médecin\n",
      "\u001b[1m\u001b[36m Topic3: \u001b[0m covid cas variant mort jour nombre varier france décès coronavirus\n",
      "\u001b[1m\u001b[36m Topic4: \u001b[0m covid vaccin vaccination contre dose ⁦ vacciner coronavirus france centre\n",
      "\u001b[1m\u001b[36m Topic5: \u001b[0m covid faire bien masque contre falloir vaccin macron virus voir\n"
     ]
    }
   ],
   "source": [
    "# affichage de mes sujets\n",
    "for id, t in enumerate(topics): \n",
    "    print(color.BOLD + color.DARKCYAN, f\"Topic{id}:\", color.END, t, end=\"\\n\")"
   ]
  },
  {
   "cell_type": "code",
   "execution_count": 27,
   "metadata": {},
   "outputs": [
    {
     "name": "stdout",
     "output_type": "stream",
     "text": [
      "\u001b[1m\u001b[91m Perplexcité:  \u001b[0m -6.38\n",
      "\u001b[1m\u001b[92m Cohérence:  \u001b[0m 0.39\n"
     ]
    }
   ],
   "source": [
    "# perplexcité (plus elle est faible, mieux est le modèle)\n",
    "base_perplexity = round(base_model.log_perplexity(corpus),2)\n",
    "print(color.BOLD + color.RED, 'Perplexcité: ', color.END, base_perplexity) \n",
    "\n",
    "# cohérence (plus elle est élevée, mieux elle le modèle)\n",
    "coherence_model = CoherenceModel(model=base_model, texts=df_tweet['lemma_token'], dictionary=id2word, coherence='c_v')\n",
    "coherence_lda_model_base = round(coherence_model.get_coherence(),2)\n",
    "print(color.BOLD + color.GREEN, 'Cohérence: ', color.END, coherence_lda_model_base) "
   ]
  },
  {
   "cell_type": "markdown",
   "metadata": {},
   "source": [
    "#### **<span style=\"color:#8EA3EB\">3.2. Prédictions nouvelles valeurs</span>**"
   ]
  },
  {
   "cell_type": "code",
   "execution_count": 28,
   "metadata": {},
   "outputs": [],
   "source": [
    "# 4 phrases à prédire\n",
    "new_text = ['le confinement imposé par Macron et son gouvernement est une véritable atteinte aux libertés fondamentales',\n",
    "            'A l’heure d’aujourd’hui, nous ne pouvons pas dire que le vaccins pfizer soit totalement efficace',\n",
    "            'La France détient le record du nombre de cas de covid par jour',\n",
    "            'HELP ! Je ne peux plus emmener mon enfant à l’école car il y a la queue dans les centres de dépistages',\n",
    "            'Le covid est vraiment une maladie de merde: courage à nos soignants',\n",
    "            'Le port du masque et la vaccination obligatoire pour entrer à l’hôpital ? Ce gouvernement est au top !']\n",
    "\n",
    "# création du Df pour les phrases à prédire\n",
    "df_pred = pd.DataFrame(new_text, columns=['Texte_prediction'])"
   ]
  },
  {
   "cell_type": "code",
   "execution_count": 29,
   "metadata": {},
   "outputs": [],
   "source": [
    "# cleaning du texte \n",
    "df_pred['Texte_clean'] = df_pred['Texte_prediction'].apply(nettoyage_nlp)\n",
    "\n",
    "# initialisation de liste \n",
    "tokens1 = []\n",
    "\n",
    "# iteration de la boucle sur le texte traité précédemment\n",
    "for doc in tokenizer.pipe(df_pred['Texte_prediction']):\n",
    "    doc_tokens = []\n",
    "    # pour chaque ligne\n",
    "    for token in doc: \n",
    "        # si ce n'est pas un STOPWORD\n",
    "        if token.text.lower() not in STOP_WORDS:\n",
    "            doc_tokens.append(token.text.lower())   \n",
    "    tokens1.append(doc_tokens)\n",
    "\n",
    "# création de la colonne 'token'\n",
    "df_pred['tokens'] = tokens1\n",
    "\n",
    "# création de la colonne en string à partir des token (pour lemmatiser)\n",
    "df_pred['tokens_back_to_text'] = [' '.join(map(str, l)) for l in df_pred['tokens']]\n",
    "\n",
    "# création de la nouvelle colonne lematiser en appliquant la fonction récemment créée\n",
    "df_pred['lemmas'] = df_pred['tokens_back_to_text'].apply(get_lemmas)\n",
    "\n",
    "# repassage en string\n",
    "df_pred['lemmas'] = [' '.join(map(str, l)) for l in df_pred['lemmas']]\n",
    "\n",
    "# on retokenise notre colonne lematiser pour regrouper à nouveau\n",
    "text_lemmas1 = []\n",
    "\n",
    "for doc in tokenizer.pipe(df_pred['lemmas']):\n",
    "    doc_lemma = []    \n",
    "    for token in doc: \n",
    "        if token.text.lower() not in STOP_WORDS:\n",
    "            doc_lemma.append(token.text.lower())   \n",
    "    text_lemmas1.append(doc_lemma)\n",
    "\n",
    "# création de la colonne du texte tokeniser et lematiser\n",
    "df_pred['lemma_token'] = text_lemmas1"
   ]
  },
  {
   "cell_type": "code",
   "execution_count": 30,
   "metadata": {},
   "outputs": [
    {
     "data": {
      "text/plain": [
       "[(0, 0.018554106),\n",
       " (1, 0.80225533),\n",
       " (2, 0.12298595),\n",
       " (3, 0.018545179),\n",
       " (4, 0.018935515),\n",
       " (5, 0.018723968)]"
      ]
     },
     "execution_count": 30,
     "metadata": {},
     "output_type": "execute_result"
    }
   ],
   "source": [
    "# prédictions\n",
    "base_model[id2word.doc2bow(df_pred['lemma_token'][5])]"
   ]
  },
  {
   "cell_type": "markdown",
   "metadata": {},
   "source": [
    "### **<span style=\"color:#FCF16D\">4. Analyse et visualisation</span>**"
   ]
  },
  {
   "cell_type": "markdown",
   "metadata": {},
   "source": [
    "#### **<span style=\"color:#8EA3EB\">4.1 Visualisation interactive du modèle</span>**"
   ]
  },
  {
   "cell_type": "markdown",
   "metadata": {},
   "source": [
    "##### **<span style=\"color:#6DEFA2\">4.1.1. Visualisation LDA</span>**"
   ]
  },
  {
   "cell_type": "code",
   "execution_count": 32,
   "metadata": {},
   "outputs": [
    {
     "name": "stderr",
     "output_type": "stream",
     "text": [
      "c:\\Users\\PEGON\\AppData\\Local\\Programs\\Python\\Python39\\lib\\site-packages\\pyLDAvis\\_prepare.py:246: FutureWarning: In a future version of pandas all arguments of DataFrame.drop except for the argument 'labels' will be keyword-only\n",
      "  default_term_info = default_term_info.sort_values(\n"
     ]
    },
    {
     "data": {
      "text/html": [
       "\n",
       "<link rel=\"stylesheet\" type=\"text/css\" href=\"https://cdn.jsdelivr.net/gh/bmabey/pyLDAvis@3.3.1/pyLDAvis/js/ldavis.v1.0.0.css\">\n",
       "\n",
       "\n",
       "<div id=\"ldavis_el2227619143979895687557120401\"></div>\n",
       "<script type=\"text/javascript\">\n",
       "\n",
       "var ldavis_el2227619143979895687557120401_data = {\"mdsDat\": {\"x\": [0.1418635565585674, 0.05240693203990415, 0.07946791213162552, 0.07991898541288439, -0.1418764313434846, -0.21178095479949663], \"y\": [-0.01080991548420006, -0.044733636141992, -0.15847385029673056, 0.21662010452446737, -0.01990987207144252, 0.017307169469897882], \"topics\": [1, 2, 3, 4, 5, 6], \"cluster\": [1, 1, 1, 1, 1, 1], \"Freq\": [22.550220715432616, 17.186659603937944, 17.171070183091906, 15.26958490848071, 14.42873866873337, 13.393725920323451]}, \"tinfo\": {\"Term\": [\"vaccin\", \"vaccination\", \"cas\", \"crise\", \"dose\", \"variant\", \"contre\", \"mort\", \"masque\", \"\\u2066\", \"coronavirus\", \"varier\", \"patient\", \"d\\u00e9c\\u00e8s\", \"france\", \"nombre\", \"vacciner\", \"an\", \"sanitaire\", \"bien\", \"test\", \"janvier\", \"annoncer\", \"jour\", \"non\", \"pfizer\", \"faire\", \"virus\", \"centre\", \"covid\", \"brevet\", \"spectacle\", \"eric\", \"y\\u2019\", \"t\", \"islam\", \"apocalypse\", \"onu\", \"qu\", \"nwo\", \"gauche\", \"barri\\u00e8re\", \"catholique\", \"bah\", \"geste\", \"t\\u00e9l\\u00e9\", \"distanciation\", \"zemmour\", \"lutter\", \"foutre\", \"aimer\", \"d\\u00e9sinformation\", \"c\", \"lair\", \"dieu\", \"n\", \"cerveau\", \"manifestation\", \"twitter\", \"cha\\u00eene\", \"guerre\", \"con\", \"peur\", \"masque\", \"bien\", \"croire\", \"porter\", \"salle\", \"quebec\", \"respecter\", \"falloir\", \"trop\", \"comprendre\", \"finir\", \"voir\", \"chose\", \"vouloir\", \"mieux\", \"faire\", \"virus\", \"sport\", \"macron\", \"covid\", \"monde\", \"jamais\", \"aller\", \"bon\", \"oui\", \"contre\", \"vivre\", \"savoir\", \"non\", \"vaccin\", \"gouvernement\", \"france\", \"prot\\u00e9ger\", \"nest\", \"vacciner\", \"fran\\u00e7ais\", \"confinement\", \"passer\", \"pouvoir\", \"d\\u00e9confinement\", \"pasessentiel\", \"laurent\", \"alexandre\", \"climatonegationnist\", \"soin\", \"charge\", \"mental\", \"formation\", \"autotest\", \"joueur\", \"professionnel\", \"d\\u00e9pistage\", \"voire\", \"agent\", \"patient\", \"diffusion\", \"saturer\", \"pharmacie\", \"prison\", \"critique\", \"infecter\", \"lit\", \"jeunesse\", \"\\u00e9l\\u00e9ment\", \"admettre\", \"prise\", \"r\\u00e9a\", \"intensif\", \"visite\", \"h\\u00f4pital\", \"service\", \"personnel\", \"r\\u00e9animation\", \"m\\u00e9decin\", \"tester\", \"fois\", \"famille\", \"test\", \"an\", \"m\\u00e9dical\", \"non\", \"sympt\\u00f4me\", \"jeune\", \"malade\", \"vacciner\", \"hospitaliser\", \"long\", \"covid\", \"sant\\u00e9\", \"soignant\", \"faire\", \"prendre\", \"mort\", \"positif\", \"confinement\", \"mettre\", \"jour\", \"devoir\", \"dun\", \"public\", \"pouvoir\", \"management\", \"postcovid\", \"entreprise\", \"emploi\", \"replay\", \"digital\", \"r\\u00e9forme\", \"deconfinement\", \"\\u00e9conomie\", \"lyc\\u00e9e\", \"in\\u00e9galit\\u00e9\", \"changement\", \"teletravail\", \"\\u00e9conomique\", \"relance\", \"\\u00e9mission\", \"avocat\", \"crise\", \"podcast\", \"t\\u00e9l\\u00e9travail\", \"education\", \"inscription\", \"scolaire\", \"d\\u00e9fi\", \"ch\\u00f4mage\", \"poste\", \"programme\", \"enjeu\", \"aide\", \"cdanslair\", \"salari\\u00e9\", \"secteur\", \"projet\", \"coll\\u00e8ge\", \"r\\u00e9pondre\", \"economie\", \"retraite\", \"gestion\", \"difficult\\u00e9\", \"passeport\", \"dette\", \"reprendre\", \"retrouver\", \"travail\", \"num\\u00e9rique\", \"loi\", \"soutien\", \"\\u00e9tudiant\", \"social\", \"question\", \"\\u00e9cole\", \"pand\\u00e9mie\", \"plan\", \"covid\", \"vie\", \"sanitaire\", \"face\", \"ann\\u00e9e\", \"strat\\u00e9gie\", \"politique\", \"temps\", \"mettre\", \"sant\\u00e9\", \"fran\\u00e7ais\", \"droit\", \"grand\", \"pouvoir\", \"monde\", \"point\", \"gouvernement\", \"sanofi\", \"\\u2066\", \"br\\u00e9silien\", \"pfizerbiontech\", \"toulouse\", \"vaccinationcovid\", \"raoult\", \"resistance\", \"montpellier\", \"stopcouvrefeu\", \"moderna\", \"perpignan\", \"stopdictaturesanitair\", \"pfizer\", \"noussavon\", \"gard\", \"dose\", \"administrer\", \"classique\", \"ind\\u00e9sirable\", \"macrondestitution\", \"secondaire\", \"alsace\", \"bordeaux\", \"injection\", \"g\\u00e9n\\u00e9ration\", \"doctolib\", \"vaccinobligatoir\", \"arn\", \"exp\\u00e9rimental\", \"astrazeneca\", \"recevoir\", \"vaccination\", \"vaccin\", \"essai\", \"rappel\", \"anticovid\", \"centre\", \"radio\", \"campagne\", \"anti\", \"contre\", \"efficace\", \"covid\", \"m\\u00e9dicament\", \"vacciner\", \"coronavirus\", \"million\", \"vaccinationobligatoir\", \"an\", \"france\", \"passsanitair\", \"rendezvou\", \"passsanitaire\", \"fran\\u00e7ais\", \"macron\", \"     \", \"pays\", \"olivier\", \"gen\\u00e8ve\", \"\\u00e9dition\", \"voyageur\", \"provenance\", \"mercredi\", \"festival\", \"l\\u00e9volution\", \"alg\\u00e9rie\", \"d\\u00e9cembre\", \"v\\u00e9ran\", \"fake\", \"jean\", \"rouge\", \"pr\\u00e9fet\", \"rdc\", \"lallemagne\", \"vigueur\", \"vol\", \"emmanuel\", \"ao\\u00fbt\", \"allemand\", \"tunisi\", \"annonce\", \"annoncer\", \"voyage\", \"d\\u00e9placement\", \"suspendre\", \"dici\", \"emmanuelmacron\", \"samedi\", \"covidle\", \"dimanche\", \"janvier\", \"retenir\", \"partir\", \"jeudi\", \"castex\", \"restriction\", \"luxembourg\", \"f\\u00e9vrier\", \"obligatoire\", \"r\\u00e9ouverture\", \"minist\\u00e8re\", \"couvrefeu\", \"pass\", \"direct\", \"france\", \"ministre\", \"d\\u00e9c\\u00e8s\", \"sanitaire\", \"coronavirus\", \"covid\", \"lundi\", \"info\", \"mesure\", \"confinement\", \"chiffre\", \"cas\", \"situation\", \"fin\", \"positif\", \"semaine\", \"pays\", \"sant\\u00e9\", \"macron\", \"gouvernement\", \"vaccination\", \"positivit\\u00e9\", \"afriqu\", \"limpact\", \"r\\u00e9f\\u00e9rence\", \"progresser\", \"concret\", \"linvestigation\", \"debutant\", \"allezvou\", \"socio\\u00e9conomique\", \"journalistique\", \"l\\u00e9galit\\u00e9\", \"inclusion\", \"concr\\u00e9tiser\", \"s\\u00e9n\\u00e9gal\", \"autonomisation\", \"engagements\", \"glblctzn\", \"actforequal\", \"sarscov\", \"varier\", \"delter\", \"sudafricain\", \"incidence\", \"wuhan\", \"delta\", \"dincidence\", \"tal\", \"anglais\", \"indien\", \"taux\", \"variant\", \"gu\\u00e9rison\", \"origine\", \"contagieux\", \"\\u00e9lev\\u00e9\", \"d\\u00e9tecter\", \"moyenne\", \"mortalit\\u00e9\", \"identifier\", \"nombre\", \"baisse\", \"confirmer\", \"ind\", \"afrique\", \"cas\", \"mutation\", \"habitant\", \"femme\", \"hausse\", \"omicron\", \"mort\", \"bretagne\", \"actuel\", \"jour\", \"grave\", \"covid\", \"chine\", \"d\\u00e9c\\u00e8s\", \"heure\", \"vague\", \"maladie\", \"virus\", \"lire\", \"million\", \"contamination\", \"coronavirus\", \"france\", \"semaine\", \"situation\", \"dernier\", \"mettre\", \"pand\\u00e9mie\", \"test\"], \"Freq\": [42215.0, 25699.0, 14639.0, 10573.0, 8407.0, 6348.0, 19624.0, 8853.0, 8372.0, 4660.0, 13476.0, 4317.0, 5134.0, 6456.0, 18918.0, 5179.0, 14783.0, 10758.0, 8192.0, 9092.0, 8109.0, 3902.0, 3537.0, 9366.0, 7614.0, 3275.0, 16182.0, 7786.0, 4239.0, 247682.0, 675.6406764190432, 761.9077703158513, 462.7387966791465, 337.5208305532446, 423.49416529686397, 262.1645285852482, 288.6031717335122, 272.328760288906, 477.6437603301643, 375.6857546656535, 390.6332199807084, 1527.4975633135252, 292.5730187713539, 291.43284576529214, 1310.8100813824553, 302.8239038363799, 639.3321728294352, 375.4207912547868, 1447.6485134341729, 651.1894185329206, 418.8406988199974, 331.5663394376045, 1320.3382252513277, 378.71420448246386, 361.81823614143417, 540.613395428306, 305.8896390829436, 882.7594023714596, 579.7385058505441, 817.3868397555241, 1183.8205383811855, 812.2143047405353, 2076.603520424721, 7201.624176683293, 7697.788123611336, 1904.1375694918381, 1512.141076035673, 1307.1036807893877, 612.9331837071044, 1212.0108781649706, 5615.290258445881, 1947.481708592732, 1655.2333471786665, 1186.2612037572164, 3950.5727328015914, 1750.4801883950981, 3606.8676040763753, 1852.2362512751918, 8108.062621359345, 4401.424849312365, 1134.9283486237473, 4837.793718745905, 54592.8269766987, 3896.467395919383, 1915.2783813845028, 2067.296055202183, 3318.9763950957263, 1575.815541484698, 6697.339936874208, 1706.9393227440712, 2126.4971207108947, 2671.004275351443, 5470.277667910109, 2412.5066530139707, 3299.416793976472, 1829.555851701551, 1808.6234228818, 2516.5405070159263, 2161.339010836658, 2079.380260323896, 1841.2112610743804, 1851.2225985639534, 542.4366123210697, 359.8038338962874, 427.17168253380385, 312.41901112357607, 226.43562612913502, 2535.663834888723, 1076.019582490345, 552.267429668753, 645.3374037446737, 583.793296968111, 455.69125947108284, 1440.5686469657069, 2151.748543795729, 438.3612877919118, 518.8981218491527, 5055.553965619028, 354.0630513211023, 258.60697346541554, 598.565120695905, 367.9735183179798, 939.6103388216219, 635.7572897642518, 1509.4312637219102, 542.8037832235104, 673.4575591036264, 488.37583878971105, 949.2289102117791, 940.7677932673671, 688.8527741978778, 696.9304529177986, 3245.0310408995356, 2132.2155872688013, 1667.9726655594993, 2024.081951273488, 3085.3902763996834, 2073.238472025179, 2603.480475007148, 1320.0615422225135, 5007.501351021046, 6278.813096110017, 1235.276665364379, 4539.356219230252, 1018.3339546901109, 2179.6325998670663, 2556.4013034513673, 6482.026592642574, 1542.945030229345, 1408.875035584856, 39166.62278709617, 4090.5267677147594, 1894.7063568975266, 5373.393909690091, 2420.961446136055, 2722.9517448345396, 1852.6629965388938, 2624.583856898708, 2258.728132963881, 2371.623347994095, 1829.7500069116056, 1617.8986840709172, 1573.507474507814, 1549.9819248731394, 433.7422944145334, 499.9690712136004, 2472.1880272063236, 817.1947707393699, 351.29557781007736, 400.6000688551864, 347.3619703490341, 318.2721864778182, 1080.1092565370895, 547.5127324511278, 392.83588142466095, 785.7447980734734, 324.86239955475855, 1431.2593718502303, 555.2190834416621, 595.6590356131329, 319.69280670075625, 10507.083069445081, 690.5463420886387, 1001.9062836507286, 396.3066757755011, 352.74059714785403, 943.4803740146272, 316.46539554693595, 408.7794465388795, 489.65100168305577, 1017.1604319154371, 402.2872554872501, 1759.5276568149418, 649.6192992823993, 897.9210660370651, 946.5574995906707, 1051.1201899422424, 541.9815503894298, 1216.9412758761152, 473.0010376111588, 452.8923571555677, 2159.9072419745767, 518.7885300015804, 696.4694096011251, 781.9514247276155, 1180.8498782383087, 2961.127482610132, 2503.32421590697, 624.1018376402143, 1087.1705711278616, 989.963443828405, 1381.963756895071, 1838.9486399988616, 2415.298208022687, 2100.5257949108413, 3656.566130934553, 1187.5149706585455, 40675.34056484184, 2338.366258793036, 3259.3449747136965, 2260.1465875091444, 1610.0322536941223, 1202.8482336610696, 1837.29079715275, 1926.0328906864827, 2338.077522424082, 2436.0419950057226, 2020.6695185485714, 1292.8908567578285, 1643.9254613113512, 1595.1958085482293, 1567.0604677921874, 1225.8463043107565, 1191.4913778957841, 538.5673034433675, 4652.384603508353, 444.4388133974502, 506.54365971743636, 687.7038853247316, 2051.5149645275055, 1006.573326123401, 371.235158174207, 361.41839501819385, 394.99223608563074, 1631.2742735386541, 689.2597412415464, 526.0020224880496, 3262.562387159593, 332.64183643073767, 274.0090666910517, 8363.245709305651, 572.8456911995992, 1226.9153653063038, 341.72738190605355, 238.35714087278663, 1186.6689826930997, 398.5681313040051, 585.3761196560391, 1607.90068124053, 571.5740255140687, 351.85641191861055, 414.1457926690566, 567.8429699982081, 333.84376107663144, 2377.713305565908, 3164.027056330018, 21667.52304823471, 34790.48377583503, 630.5599155823544, 1309.232138043789, 2512.3512118721965, 3307.4146338230566, 1118.6704238327775, 2323.4985315720337, 1639.0322163292064, 9373.032529534481, 1519.9266307017353, 42076.07378473919, 931.8502893668635, 4650.138473487599, 3797.5830613919165, 2165.9483690437705, 772.5710536419436, 2931.682926623509, 3471.801941167382, 1060.7431198498505, 915.6388675672014, 1118.948018399848, 1432.466104882705, 1391.0727254501735, 1194.3785572794181, 1164.0007300051511, 732.1767524173042, 694.3169608075003, 366.80572242490047, 730.9649982334694, 300.6330456924371, 1149.527779749712, 723.2608572150976, 739.6137489776096, 285.79232642898234, 1022.5385977432371, 1197.7542339794572, 426.66777545040225, 1086.3261825981758, 516.2929701587163, 462.1294994001059, 598.297668263372, 316.9165970525239, 363.1793828524897, 494.09767269147335, 850.4735904993322, 595.3329914308023, 425.5854725777746, 465.089544457268, 839.5376281903244, 3431.3933221960488, 1134.2401282165981, 588.6717491369217, 815.327201906237, 509.6598931461744, 265.834023226324, 1561.248611616834, 914.0666407871527, 1137.4261766679122, 3618.8715157094816, 1299.300324414331, 2350.2031654957764, 1201.5554230735038, 1711.8193201671295, 2058.039082735887, 1843.173473694835, 1562.5190803653945, 1958.1760977469128, 975.5031228223369, 979.1395433176936, 2613.633212142638, 1674.771247197503, 1383.1370940357158, 7672.694532842782, 2004.0891163892625, 3458.5532358139426, 4075.2430711917004, 5548.3721556794035, 36068.764162163185, 1892.4048869593355, 2024.1035628401517, 2792.9333250305535, 3417.9772484993164, 1884.9215726449545, 3560.2217958397405, 2214.8162341036455, 1955.131386559874, 1716.2846241174095, 1823.556406328178, 1913.7226332727034, 2095.9466225009955, 2042.5235887213269, 1767.0025648303651, 1647.6998822271069, 838.8319941013494, 675.9696341054708, 665.4789814867958, 471.5901071259059, 401.7897443671825, 380.8422662792563, 307.53930768970105, 305.20890162180865, 288.12606470602674, 274.1345234210702, 336.76972687692836, 269.8177997846605, 261.80059149328827, 230.57045033440744, 491.8669224588022, 223.2967596259601, 216.4669475076889, 216.46675782273888, 216.46650490947215, 371.50888154078405, 4298.598354236796, 1603.8793246825135, 729.8885928078166, 699.109301161026, 955.621207526813, 283.0756396828568, 753.1538313002991, 387.42585152529455, 1397.5971944257162, 566.1392659855443, 2653.9122327085015, 6161.930776892123, 829.0523439037463, 717.0672179796657, 738.3856566015562, 929.7987629945052, 1211.7528587960837, 507.4486559082728, 948.1292842833429, 410.25582628574864, 4433.581705472017, 1674.8715728248224, 1414.3542158256435, 632.3363418191221, 1073.3028254139049, 10832.664700130481, 554.1104581069832, 969.2379313504877, 1672.7258566699536, 1361.1236870353148, 1429.5472215841626, 5434.207248104079, 1125.20543309731, 1187.7162348400993, 4643.209372421013, 2055.903618896595, 35102.528305644955, 1124.9421503866524, 2983.754633595758, 2141.8480993675034, 1957.0724487464047, 1865.720935546248, 2761.7000732863817, 1781.7388091118348, 2268.1545022480295, 1651.4089355276633, 2909.090843560447, 3156.716705528276, 1904.9725687149562, 1812.8533372936654, 1683.0453502353746, 1692.5737311024893, 1564.2003945496785, 1563.5885973574782], \"Total\": [42215.0, 25699.0, 14639.0, 10573.0, 8407.0, 6348.0, 19624.0, 8853.0, 8372.0, 4660.0, 13476.0, 4317.0, 5134.0, 6456.0, 18918.0, 5179.0, 14783.0, 10758.0, 8192.0, 9092.0, 8109.0, 3902.0, 3537.0, 9366.0, 7614.0, 3275.0, 16182.0, 7786.0, 4239.0, 247682.0, 676.7970679439233, 763.6135617658042, 463.8320837440782, 338.57373399998716, 424.9106123188691, 263.1517756925334, 289.6899978245248, 273.37722171268945, 479.4904856978339, 377.1772242407593, 392.4644502868029, 1535.2787217358416, 294.14189103720184, 293.3040885025217, 1319.648693392119, 305.6723425634381, 646.1159834704787, 381.23412400209753, 1470.1879231703647, 661.5959404159913, 426.29505982142024, 338.7066121840019, 1353.741943003177, 389.69808201261816, 372.8656177614326, 559.3817759060764, 318.3831432815388, 925.5019617784102, 609.9983967720198, 860.8381741014964, 1257.2944589702488, 858.2889632670804, 2242.064368913302, 8372.799908570147, 9092.286787851679, 2120.3216649033184, 1664.676758496486, 1430.918211050254, 646.271763125664, 1364.3344234459958, 7656.405253659495, 2407.528371760969, 2023.3063226647153, 1405.358025707454, 5614.051139268531, 2217.842234463419, 5355.951658384516, 2443.6434195319457, 16182.550216444175, 7786.663758276044, 1416.0654391429914, 9405.673122462023, 247682.15658118404, 7366.409254220537, 2879.0282821138485, 3215.763034733013, 6362.749882797058, 2199.4679399112874, 19624.670355741233, 2634.448702515088, 4355.177508253146, 7614.034388030609, 42215.74439025277, 6504.4940406473015, 18918.400418852838, 3569.1299069260185, 3583.0549395505454, 14783.725482822114, 8360.816927073425, 10094.196444169902, 5374.24584727008, 5792.918390930868, 543.3172209619165, 360.66525322710555, 428.20627825165724, 313.2894750550577, 227.29355273823728, 2545.840264102743, 1080.8936155421784, 554.9628875020853, 649.1552956876592, 587.306469129348, 458.60606022828637, 1450.8685243751015, 2168.97209905947, 442.22613580360405, 523.9886756697641, 5134.510995352985, 360.3654623261282, 266.018620386146, 615.834595830919, 378.92874617939, 974.145002049131, 661.0031707844038, 1571.9787265021014, 565.7726888823601, 707.26094797378, 513.269906257193, 1007.4907634798277, 1005.4488052989383, 745.5471844936928, 773.757697173795, 3841.900195446206, 2567.611329172552, 2005.1936312354924, 2520.9905977610047, 4061.410585112366, 2663.083155348465, 3657.03032705935, 1654.6353235391534, 8109.2371754206815, 10758.273275986974, 1529.4167349347351, 7614.034388030609, 1225.1889589796378, 3258.4081750492774, 4087.4609499691055, 14783.725482822114, 2289.566392358897, 2048.918917989007, 247682.15658118404, 9538.770934442658, 3166.796204709323, 16182.550216444175, 6694.4912326684325, 8853.784487665074, 4365.057614270898, 10094.196444169902, 7822.635785764214, 9366.913077451227, 5845.752028448881, 4094.8556084440115, 3507.715260082841, 5792.918390930868, 434.6706491539014, 501.0985491583939, 2478.0602601621185, 819.3171174763794, 352.25475922772154, 401.71000898350354, 348.40802319660236, 319.2976193694091, 1084.0285393003935, 549.5702717458956, 394.3401375481691, 789.1913648464053, 326.42121710253025, 1438.4621238420923, 558.0249906012614, 598.6873477872294, 321.40681185908204, 10573.708110213847, 695.1362176013273, 1010.1596745400861, 399.7868363913197, 355.9638828876251, 953.5226893045075, 319.8427022245235, 413.1745223243652, 494.9294540089599, 1028.1416372451874, 407.2025900300145, 1784.1798403069224, 658.7903511378258, 913.7879434921915, 970.0563448530688, 1082.3388969462344, 550.8327855537457, 1269.7985850315913, 480.04160239452983, 459.52027842460615, 2405.5537942331352, 531.9689706185235, 728.290549796026, 826.8287979628966, 1297.2552092474436, 3599.527334544744, 2999.522575493371, 652.8033401720859, 1229.1993138509345, 1132.8717157947065, 1684.1400545485508, 2449.2358730312344, 3805.860931950732, 3222.6382210976353, 6701.066152155583, 1527.5561006849055, 247682.15658118404, 4604.900342196588, 8192.54558515269, 4979.177393840684, 2848.540843086668, 1714.4552807294444, 4125.44065098741, 4623.240780949808, 7822.635785764214, 9538.770934442658, 8360.816927073425, 2267.408312638923, 5152.5345432080785, 5792.918390930868, 7366.409254220537, 3395.3304238060928, 6504.4940406473015, 539.5434840897348, 4660.8564291883185, 445.3127359848587, 507.5762028485613, 689.2172325528975, 2056.557911399824, 1009.1248930839599, 372.19036401871904, 362.45342464836017, 396.347498024512, 1637.0903857469193, 691.8465014751699, 528.0731227435073, 3275.4642776544647, 333.9973742756566, 275.1400645249375, 8407.392378360988, 575.9921791669002, 1234.057303795274, 343.8138559492645, 239.8162881447141, 1194.9330785994205, 401.406559657286, 590.1429226777931, 1625.0900150337543, 578.0219576031428, 356.31800046085635, 421.4384175418915, 578.7005467061499, 342.97334310386304, 2460.4747176093038, 3435.303178504925, 25699.51013221963, 42215.74439025277, 652.5075914439076, 1436.5596248867903, 2926.9303474925455, 4239.0770001447745, 1291.6736094997898, 3243.292861404569, 2199.340233064398, 19624.670355741233, 2268.7051469666985, 247682.15658118404, 1209.1567563923038, 14783.725482822114, 13476.47359250033, 5387.601333156116, 949.5440173122943, 10758.273275986974, 18918.400418852838, 1872.4028037456305, 1394.3140078643228, 2574.9127911396645, 8360.816927073425, 9405.673122462023, 4403.00543294401, 6679.035989781581, 733.4418048518206, 695.6523831169804, 367.78900615578334, 732.9897745463282, 301.5714831556008, 1155.2464662711072, 727.7613827595488, 745.1377098768818, 288.03777468323256, 1030.8664522447118, 1209.1074586797722, 430.769145867004, 1097.5483213716916, 522.6438204130228, 467.97893710878, 606.7797383669322, 321.67437901653597, 369.9230909095164, 505.07517718821646, 870.3509939865456, 611.0793750919721, 437.2233184047763, 478.97325194252244, 865.1098323095493, 3537.7699629853687, 1169.7936163909162, 608.6116637912688, 845.9135391292932, 529.6618152386055, 277.12135745615353, 1633.1841872370967, 952.9400417896609, 1190.9831323853314, 3902.1804388199503, 1371.4647520344927, 2533.0878183751306, 1278.2462982871998, 1871.7690910554472, 2318.287749796093, 2076.6485675720483, 1773.2228433683297, 2389.314134565738, 1094.3121840872955, 1107.990155513202, 3643.257425633716, 2161.9994745527365, 1778.0390153407918, 18918.400418852838, 2955.7512027807466, 6456.78536139413, 8192.54558515269, 13476.47359250033, 247682.15658118404, 3108.5250005961943, 3465.1619683517742, 6294.764831498385, 10094.196444169902, 3531.6375471274905, 14639.314225505273, 5175.353917986253, 4141.043242595738, 4365.057614270898, 5428.399441878331, 6679.035989781581, 9538.770934442658, 9405.673122462023, 6504.4940406473015, 25699.51013221963, 839.982719253357, 677.0769198525519, 666.6511939047843, 472.5629220511758, 402.73129729327246, 381.8136619889858, 308.3684431565479, 306.03910909287526, 288.9883787600702, 274.9959509765524, 337.8635282215071, 270.75551396224427, 262.7781278261479, 231.43459781205627, 493.715327267852, 224.14738968848562, 217.33540045766762, 217.33536620029864, 217.3353182779754, 373.08232145191045, 4317.729094471482, 1611.58849912828, 733.8537341709076, 703.0674195830513, 961.4946002376835, 285.0095104747253, 758.5314427189514, 390.2073173334407, 1408.4485978023151, 570.7101665002924, 2682.104696019848, 6348.787606629485, 837.9168633617306, 724.4187402406344, 747.8146399524927, 945.3602014794538, 1239.4252706159389, 514.0943673307994, 991.8139583625194, 418.0166407977234, 5179.542394533192, 1856.5001173920273, 1555.7994970610725, 663.1728273777426, 1175.319495594728, 14639.314225505273, 577.3179727685504, 1075.8870375572214, 2002.1058353751953, 1631.8674001316524, 1744.2160058495397, 8853.784487665074, 1335.4522824907785, 1485.847260218168, 9366.913077451227, 3229.0560509082707, 247682.15658118404, 1433.6098362095265, 6456.78536139413, 4031.491646996614, 3684.853527261407, 3467.452583265738, 7786.663758276044, 3408.371953212193, 5387.601333156116, 3026.7000059488955, 13476.47359250033, 18918.400418852838, 5428.399441878331, 5175.353917986253, 4851.6873531194715, 7822.635785764214, 6701.066152155583, 8109.2371754206815], \"Category\": [\"Default\", \"Default\", \"Default\", \"Default\", \"Default\", \"Default\", \"Default\", \"Default\", \"Default\", \"Default\", \"Default\", \"Default\", \"Default\", \"Default\", \"Default\", \"Default\", \"Default\", \"Default\", \"Default\", \"Default\", \"Default\", \"Default\", \"Default\", \"Default\", \"Default\", \"Default\", \"Default\", \"Default\", \"Default\", \"Default\", \"Topic1\", \"Topic1\", \"Topic1\", \"Topic1\", \"Topic1\", \"Topic1\", \"Topic1\", \"Topic1\", \"Topic1\", \"Topic1\", \"Topic1\", \"Topic1\", \"Topic1\", \"Topic1\", \"Topic1\", \"Topic1\", \"Topic1\", \"Topic1\", \"Topic1\", \"Topic1\", \"Topic1\", \"Topic1\", \"Topic1\", \"Topic1\", \"Topic1\", \"Topic1\", \"Topic1\", \"Topic1\", \"Topic1\", \"Topic1\", \"Topic1\", \"Topic1\", \"Topic1\", \"Topic1\", \"Topic1\", \"Topic1\", \"Topic1\", \"Topic1\", \"Topic1\", \"Topic1\", \"Topic1\", \"Topic1\", \"Topic1\", \"Topic1\", \"Topic1\", \"Topic1\", \"Topic1\", \"Topic1\", \"Topic1\", \"Topic1\", \"Topic1\", \"Topic1\", \"Topic1\", \"Topic1\", \"Topic1\", \"Topic1\", \"Topic1\", \"Topic1\", \"Topic1\", \"Topic1\", \"Topic1\", \"Topic1\", \"Topic1\", \"Topic1\", \"Topic1\", \"Topic1\", \"Topic1\", \"Topic1\", \"Topic1\", \"Topic1\", \"Topic1\", \"Topic1\", \"Topic2\", \"Topic2\", \"Topic2\", \"Topic2\", \"Topic2\", \"Topic2\", \"Topic2\", \"Topic2\", \"Topic2\", \"Topic2\", \"Topic2\", \"Topic2\", \"Topic2\", \"Topic2\", \"Topic2\", \"Topic2\", \"Topic2\", \"Topic2\", \"Topic2\", \"Topic2\", \"Topic2\", \"Topic2\", \"Topic2\", \"Topic2\", \"Topic2\", \"Topic2\", \"Topic2\", \"Topic2\", \"Topic2\", \"Topic2\", \"Topic2\", \"Topic2\", \"Topic2\", \"Topic2\", \"Topic2\", \"Topic2\", \"Topic2\", \"Topic2\", \"Topic2\", \"Topic2\", \"Topic2\", \"Topic2\", \"Topic2\", \"Topic2\", \"Topic2\", \"Topic2\", \"Topic2\", \"Topic2\", \"Topic2\", \"Topic2\", \"Topic2\", \"Topic2\", \"Topic2\", \"Topic2\", \"Topic2\", \"Topic2\", \"Topic2\", \"Topic2\", \"Topic2\", \"Topic2\", \"Topic2\", \"Topic2\", \"Topic3\", \"Topic3\", \"Topic3\", \"Topic3\", \"Topic3\", \"Topic3\", \"Topic3\", \"Topic3\", \"Topic3\", \"Topic3\", \"Topic3\", \"Topic3\", \"Topic3\", \"Topic3\", \"Topic3\", \"Topic3\", \"Topic3\", \"Topic3\", \"Topic3\", \"Topic3\", \"Topic3\", \"Topic3\", \"Topic3\", \"Topic3\", \"Topic3\", \"Topic3\", \"Topic3\", \"Topic3\", \"Topic3\", \"Topic3\", \"Topic3\", \"Topic3\", \"Topic3\", \"Topic3\", \"Topic3\", \"Topic3\", \"Topic3\", \"Topic3\", \"Topic3\", \"Topic3\", \"Topic3\", \"Topic3\", \"Topic3\", \"Topic3\", \"Topic3\", \"Topic3\", \"Topic3\", \"Topic3\", \"Topic3\", \"Topic3\", \"Topic3\", \"Topic3\", \"Topic3\", \"Topic3\", \"Topic3\", \"Topic3\", \"Topic3\", \"Topic3\", \"Topic3\", \"Topic3\", \"Topic3\", \"Topic3\", \"Topic3\", \"Topic3\", \"Topic3\", \"Topic3\", \"Topic3\", \"Topic3\", \"Topic3\", \"Topic3\", \"Topic4\", \"Topic4\", \"Topic4\", \"Topic4\", \"Topic4\", \"Topic4\", \"Topic4\", \"Topic4\", \"Topic4\", \"Topic4\", \"Topic4\", \"Topic4\", \"Topic4\", \"Topic4\", \"Topic4\", \"Topic4\", \"Topic4\", \"Topic4\", \"Topic4\", \"Topic4\", \"Topic4\", \"Topic4\", \"Topic4\", \"Topic4\", \"Topic4\", \"Topic4\", \"Topic4\", \"Topic4\", \"Topic4\", \"Topic4\", \"Topic4\", \"Topic4\", \"Topic4\", \"Topic4\", \"Topic4\", \"Topic4\", \"Topic4\", \"Topic4\", \"Topic4\", \"Topic4\", \"Topic4\", \"Topic4\", \"Topic4\", \"Topic4\", \"Topic4\", \"Topic4\", \"Topic4\", \"Topic4\", \"Topic4\", \"Topic4\", \"Topic4\", \"Topic4\", \"Topic4\", \"Topic4\", \"Topic4\", \"Topic4\", \"Topic4\", \"Topic4\", \"Topic5\", \"Topic5\", \"Topic5\", \"Topic5\", \"Topic5\", \"Topic5\", \"Topic5\", \"Topic5\", \"Topic5\", \"Topic5\", \"Topic5\", \"Topic5\", \"Topic5\", \"Topic5\", \"Topic5\", \"Topic5\", \"Topic5\", \"Topic5\", \"Topic5\", \"Topic5\", \"Topic5\", \"Topic5\", \"Topic5\", \"Topic5\", \"Topic5\", \"Topic5\", \"Topic5\", \"Topic5\", \"Topic5\", \"Topic5\", \"Topic5\", \"Topic5\", \"Topic5\", \"Topic5\", \"Topic5\", \"Topic5\", \"Topic5\", \"Topic5\", \"Topic5\", \"Topic5\", \"Topic5\", \"Topic5\", \"Topic5\", \"Topic5\", \"Topic5\", \"Topic5\", \"Topic5\", \"Topic5\", \"Topic5\", \"Topic5\", \"Topic5\", \"Topic5\", \"Topic5\", \"Topic5\", \"Topic5\", \"Topic5\", \"Topic5\", \"Topic5\", \"Topic5\", \"Topic5\", \"Topic5\", \"Topic5\", \"Topic5\", \"Topic5\", \"Topic5\", \"Topic5\", \"Topic5\", \"Topic5\", \"Topic6\", \"Topic6\", \"Topic6\", \"Topic6\", \"Topic6\", \"Topic6\", \"Topic6\", \"Topic6\", \"Topic6\", \"Topic6\", \"Topic6\", \"Topic6\", \"Topic6\", \"Topic6\", \"Topic6\", \"Topic6\", \"Topic6\", \"Topic6\", \"Topic6\", \"Topic6\", \"Topic6\", \"Topic6\", \"Topic6\", \"Topic6\", \"Topic6\", \"Topic6\", \"Topic6\", \"Topic6\", \"Topic6\", \"Topic6\", \"Topic6\", \"Topic6\", \"Topic6\", \"Topic6\", \"Topic6\", \"Topic6\", \"Topic6\", \"Topic6\", \"Topic6\", \"Topic6\", \"Topic6\", \"Topic6\", \"Topic6\", \"Topic6\", \"Topic6\", \"Topic6\", \"Topic6\", \"Topic6\", \"Topic6\", \"Topic6\", \"Topic6\", \"Topic6\", \"Topic6\", \"Topic6\", \"Topic6\", \"Topic6\", \"Topic6\", \"Topic6\", \"Topic6\", \"Topic6\", \"Topic6\", \"Topic6\", \"Topic6\", \"Topic6\", \"Topic6\", \"Topic6\", \"Topic6\", \"Topic6\", \"Topic6\", \"Topic6\", \"Topic6\", \"Topic6\", \"Topic6\", \"Topic6\"], \"logprob\": [30.0, 29.0, 28.0, 27.0, 26.0, 25.0, 24.0, 23.0, 22.0, 21.0, 20.0, 19.0, 18.0, 17.0, 16.0, 15.0, 14.0, 13.0, 12.0, 11.0, 10.0, 9.0, 8.0, 7.0, 6.0, 5.0, 4.0, 3.0, 2.0, 1.0, -6.5172, -6.3971, -6.8957, -7.2113, -6.9844, -7.4639, -7.3679, -7.4259, -6.864, -7.1042, -7.0651, -5.7015, -7.3542, -7.3581, -5.8545, -7.3198, -6.5725, -7.1049, -5.7552, -6.5541, -6.9954, -7.2291, -5.8473, -7.0961, -7.1418, -6.7402, -7.3097, -6.2499, -6.6703, -6.3268, -5.9564, -6.3331, -5.3944, -4.1508, -4.0842, -5.4811, -5.7116, -5.8573, -6.6147, -5.9329, -4.3997, -5.4586, -5.6212, -5.9543, -4.7513, -5.5653, -4.8423, -5.5088, -4.0323, -4.6432, -5.9986, -4.5487, -2.1253, -4.7651, -5.4753, -5.3989, -4.9255, -5.6704, -4.2234, -5.5905, -5.3707, -5.1427, -4.4258, -5.2445, -4.9314, -5.5211, -5.5326, -5.2023, -5.3544, -5.3931, -5.5147, -5.5093, -6.4652, -6.8757, -6.7041, -7.017, -7.3388, -4.9231, -5.7803, -6.4473, -6.2915, -6.3918, -6.6395, -5.4885, -5.0873, -6.6783, -6.5096, -4.2331, -6.8918, -7.206, -6.3668, -6.8533, -5.9158, -6.3065, -5.4418, -6.4646, -6.2489, -6.5702, -5.9056, -5.9146, -6.2263, -6.2146, -4.6764, -5.0964, -5.3419, -5.1484, -4.7269, -5.1244, -4.8967, -5.5759, -4.2426, -4.0164, -5.6422, -4.3408, -5.8354, -5.0744, -4.9149, -3.9845, -5.4199, -5.5108, -2.1857, -4.4449, -5.2145, -4.1721, -4.9694, -4.8518, -5.2369, -4.8886, -5.0387, -4.99, -5.2494, -5.3724, -5.4002, -5.4153, -6.6879, -6.5458, -4.9475, -6.0545, -6.8988, -6.7674, -6.91, -6.9975, -5.7756, -6.455, -6.787, -6.0938, -6.977, -5.4941, -6.441, -6.3707, -6.993, -3.5006, -6.2229, -5.8507, -6.7782, -6.8947, -5.9108, -7.0032, -6.7472, -6.5667, -5.8356, -6.7632, -5.2876, -6.284, -5.9603, -5.9076, -5.8028, -6.4652, -5.6563, -6.6013, -6.6447, -5.0826, -6.5089, -6.2144, -6.0986, -5.6864, -4.7671, -4.935, -6.3241, -5.7691, -5.8627, -5.5291, -5.2434, -4.9708, -5.1104, -4.5561, -5.6808, -2.147, -5.0032, -4.6711, -5.0372, -5.3764, -5.6679, -5.2443, -5.1972, -5.0033, -4.9623, -5.1492, -5.5958, -5.3555, -5.3856, -5.4034, -5.649, -5.6774, -6.3541, -4.1979, -6.5462, -6.4154, -6.1097, -5.0167, -5.7287, -6.7262, -6.753, -6.6642, -5.2459, -6.1074, -6.3777, -4.5528, -6.836, -7.0299, -3.6114, -6.2924, -5.5308, -6.809, -7.1693, -5.5641, -6.6551, -6.2708, -5.2603, -6.2946, -6.7798, -6.6168, -6.3012, -6.8324, -4.8691, -4.5834, -2.6595, -2.1859, -6.1964, -5.4658, -4.8141, -4.5391, -5.6231, -4.8922, -5.2412, -3.4974, -5.3166, -1.9958, -5.8059, -4.1984, -4.4009, -4.9624, -5.9933, -4.6597, -4.4906, -5.6763, -5.8234, -5.6229, -5.3759, -5.4052, -5.5576, -5.5834, -5.9904, -6.0435, -6.6816, -5.992, -6.8805, -5.5393, -6.0026, -5.9803, -6.9311, -5.6563, -5.4982, -6.5304, -5.5958, -6.3397, -6.4505, -6.1923, -6.8277, -6.6915, -6.3837, -5.8406, -6.1973, -6.5329, -6.4442, -5.8535, -4.4457, -5.5527, -6.2085, -5.8828, -6.3526, -7.0035, -5.2331, -5.7685, -5.5499, -4.3925, -5.4168, -4.8241, -5.495, -5.1411, -4.9569, -5.0671, -5.2323, -5.0066, -5.7034, -5.6997, -4.7179, -5.163, -5.3543, -3.641, -4.9834, -4.4378, -4.2737, -3.9651, -2.0932, -5.0408, -4.9735, -4.6515, -4.4496, -5.0447, -4.4088, -4.8835, -5.0082, -5.1385, -5.0778, -5.0296, -4.9386, -4.9644, -5.1093, -5.1793, -5.7799, -5.9958, -6.0114, -6.3558, -6.516, -6.5696, -6.7833, -6.791, -6.8486, -6.8983, -6.6926, -6.9142, -6.9444, -7.0714, -6.3137, -7.1034, -7.1345, -7.1345, -7.1345, -6.5944, -4.1459, -5.1318, -5.9191, -5.9621, -5.6496, -6.8662, -5.8877, -6.5524, -5.2694, -6.1731, -4.6282, -3.7858, -5.7917, -5.9368, -5.9075, -5.677, -5.4121, -6.2826, -5.6575, -6.4952, -4.115, -5.0885, -5.2575, -6.0625, -5.5335, -3.2216, -6.1946, -5.6354, -5.0897, -5.2959, -5.2468, -3.9115, -5.4862, -5.4322, -4.0688, -4.8835, -2.0459, -5.4865, -4.511, -4.8425, -4.9327, -4.9805, -4.5883, -5.0266, -4.7852, -5.1026, -4.5364, -4.4547, -4.9597, -5.0093, -5.0836, -5.0779, -5.1568, -5.1572], \"loglift\": [30.0, 29.0, 28.0, 27.0, 26.0, 25.0, 24.0, 23.0, 22.0, 21.0, 20.0, 19.0, 18.0, 17.0, 16.0, 15.0, 14.0, 13.0, 12.0, 11.0, 10.0, 9.0, 8.0, 7.0, 6.0, 5.0, 4.0, 3.0, 2.0, 1.0, 1.4877, 1.4872, 1.4871, 1.4863, 1.4861, 1.4857, 1.4857, 1.4856, 1.4856, 1.4855, 1.4847, 1.4843, 1.4841, 1.483, 1.4827, 1.4801, 1.4789, 1.4741, 1.474, 1.4736, 1.4718, 1.4681, 1.4644, 1.4608, 1.4593, 1.4553, 1.4494, 1.4421, 1.4385, 1.4376, 1.4292, 1.4342, 1.4128, 1.3387, 1.3229, 1.3819, 1.3933, 1.3989, 1.4365, 1.371, 1.1794, 1.2774, 1.2886, 1.3199, 1.138, 1.2528, 1.0941, 1.2123, 0.7984, 0.9189, 1.2681, 0.8246, -0.0228, 0.8526, 1.0818, 1.0476, 0.8386, 1.156, 0.4143, 1.0555, 0.7725, 0.4419, -0.554, 0.4976, -0.257, 0.8212, 0.8058, -0.2812, 0.1366, -0.0905, 0.4182, 0.3486, 1.7594, 1.7586, 1.7586, 1.7583, 1.7573, 1.757, 1.7565, 1.7562, 1.7551, 1.755, 1.7547, 1.7539, 1.7531, 1.7523, 1.7513, 1.7455, 1.7434, 1.7328, 1.7326, 1.7317, 1.7249, 1.7221, 1.7204, 1.7196, 1.7121, 1.7113, 1.7015, 1.6945, 1.6819, 1.6565, 1.5922, 1.5752, 1.5769, 1.5415, 1.4862, 1.5107, 1.4212, 1.5351, 1.279, 1.2225, 1.5474, 1.2438, 1.5761, 1.359, 1.2917, 0.9365, 1.3664, 1.3865, -0.0833, 0.9143, 1.2474, 0.6586, 0.7439, 0.5819, 0.904, 0.414, 0.5188, 0.3874, 0.5995, 0.8324, 0.9594, 0.4426, 1.7598, 1.7597, 1.7596, 1.7594, 1.7592, 1.7592, 1.7589, 1.7587, 1.7583, 1.7582, 1.7581, 1.7576, 1.7572, 1.7569, 1.7569, 1.7569, 1.7566, 1.7556, 1.7553, 1.7537, 1.7532, 1.7528, 1.7514, 1.7513, 1.7512, 1.7512, 1.7512, 1.7498, 1.748, 1.7479, 1.7444, 1.7374, 1.7327, 1.7457, 1.7194, 1.7472, 1.7474, 1.6542, 1.7369, 1.7173, 1.7061, 1.6679, 1.5667, 1.5811, 1.717, 1.6392, 1.6271, 1.5642, 1.4754, 1.3072, 1.3339, 1.1562, 1.5101, -0.0446, 1.0843, 0.8402, 0.9721, 1.1914, 1.4075, 0.9531, 0.8863, 0.5543, 0.397, 0.3418, 1.2002, 0.6195, 0.4723, 0.2142, 0.7432, 0.0647, 1.8775, 1.8775, 1.8773, 1.8773, 1.8771, 1.8769, 1.8768, 1.8767, 1.8764, 1.8759, 1.8757, 1.8756, 1.8754, 1.8754, 1.8752, 1.8752, 1.874, 1.8738, 1.8735, 1.8732, 1.8732, 1.8724, 1.8722, 1.8712, 1.8687, 1.8681, 1.8667, 1.8619, 1.8604, 1.8523, 1.8451, 1.797, 1.7086, 1.6859, 1.8451, 1.7865, 1.7266, 1.6311, 1.7355, 1.5458, 1.5853, 1.1404, 1.4788, 0.1066, 1.6188, 0.7227, 0.6127, 0.9681, 1.673, 0.5792, 0.1838, 1.3111, 1.4588, 1.0459, 0.1151, -0.0319, 0.5746, 0.1322, 1.9342, 1.934, 1.9333, 1.9332, 1.9328, 1.931, 1.9297, 1.9285, 1.9281, 1.9278, 1.9265, 1.9264, 1.9257, 1.9237, 1.9234, 1.9219, 1.921, 1.9176, 1.914, 1.9128, 1.9098, 1.909, 1.9065, 1.9059, 1.9054, 1.9051, 1.9026, 1.8991, 1.8975, 1.8944, 1.8909, 1.8943, 1.8899, 1.8606, 1.8819, 1.861, 1.8741, 1.8466, 1.8169, 1.8167, 1.8094, 1.737, 1.821, 1.8123, 1.6038, 1.6806, 1.6848, 1.0335, 1.5474, 1.3117, 1.2377, 1.0485, 0.0092, 1.4396, 1.3983, 1.1233, 0.853, 1.3081, 0.5221, 1.0872, 1.1855, 1.0025, 0.8451, 0.686, 0.4206, 0.4088, 0.6327, -0.8111, 2.009, 2.0087, 2.0086, 2.0083, 2.008, 2.0078, 2.0077, 2.0077, 2.0074, 2.0072, 2.0071, 2.0069, 2.0067, 2.0066, 2.0066, 2.0066, 2.0064, 2.0064, 2.0064, 2.0062, 2.0059, 2.0056, 2.005, 2.0047, 2.0043, 2.0036, 2.0033, 2.0032, 2.0026, 2.0023, 1.9998, 1.9805, 1.9997, 2.0002, 1.9977, 1.9938, 1.9878, 1.9974, 1.9653, 1.9916, 1.8549, 1.9074, 1.9151, 1.9628, 1.9196, 1.7092, 1.9694, 1.906, 1.8306, 1.829, 1.8114, 1.5223, 1.8391, 1.7864, 1.3086, 1.5589, 0.0565, 1.7679, 1.2384, 1.3779, 1.3776, 1.3906, 0.9738, 1.3617, 1.1453, 1.4045, 0.4773, 0.2198, 0.9632, 0.9614, 0.9517, 0.4796, 0.5555, 0.3644]}, \"token.table\": {\"Topic\": [1, 2, 3, 4, 5, 6, 6, 1, 2, 3, 4, 5, 6, 1, 2, 4, 6, 1, 4, 5, 6, 1, 3, 4, 5, 6, 2, 3, 4, 6, 1, 2, 3, 6, 1, 2, 3, 4, 2, 2, 5, 1, 2, 4, 5, 6, 1, 2, 3, 4, 5, 6, 6, 3, 4, 6, 1, 2, 3, 4, 5, 6, 1, 2, 5, 6, 1, 2, 3, 4, 5, 6, 1, 2, 3, 4, 5, 6, 1, 2, 3, 4, 5, 6, 1, 2, 3, 4, 5, 1, 2, 3, 4, 5, 6, 2, 4, 5, 6, 1, 1, 4, 4, 5, 6, 1, 2, 3, 5, 2, 3, 1, 4, 1, 2, 3, 4, 5, 6, 1, 2, 5, 6, 1, 2, 3, 4, 5, 6, 1, 2, 3, 4, 5, 6, 1, 2, 4, 5, 1, 2, 4, 5, 6, 1, 4, 1, 2, 3, 4, 6, 1, 2, 3, 4, 5, 6, 1, 2, 3, 4, 5, 6, 1, 2, 4, 5, 1, 5, 1, 3, 1, 2, 3, 4, 5, 6, 1, 2, 4, 2, 3, 6, 2, 3, 1, 2, 5, 6, 1, 2, 3, 4, 5, 6, 1, 2, 3, 4, 5, 6, 1, 2, 3, 4, 5, 6, 3, 6, 1, 3, 4, 2, 2, 3, 4, 5, 1, 2, 3, 4, 5, 6, 1, 2, 3, 4, 5, 6, 6, 6, 1, 2, 3, 4, 5, 6, 5, 6, 1, 2, 4, 5, 6, 1, 2, 3, 4, 5, 6, 1, 2, 3, 4, 5, 6, 1, 2, 3, 4, 5, 6, 1, 2, 3, 4, 5, 6, 1, 2, 3, 4, 5, 6, 3, 4, 5, 6, 1, 2, 3, 4, 5, 6, 1, 2, 3, 4, 5, 6, 1, 2, 3, 4, 5, 6, 6, 3, 1, 6, 1, 2, 4, 5, 6, 1, 2, 3, 4, 5, 6, 2, 3, 6, 1, 2, 3, 4, 5, 6, 3, 4, 5, 6, 1, 2, 3, 4, 5, 2, 3, 6, 2, 5, 3, 1, 2, 3, 4, 5, 6, 4, 5, 6, 1, 2, 3, 4, 5, 6, 1, 2, 5, 2, 3, 4, 5, 1, 2, 4, 5, 6, 1, 2, 3, 4, 5, 6, 1, 2, 3, 4, 5, 6, 1, 2, 4, 5, 6, 2, 1, 2, 4, 5, 6, 3, 4, 5, 2, 3, 5, 6, 1, 2, 5, 1, 2, 4, 6, 4, 5, 6, 3, 6, 1, 3, 4, 5, 1, 2, 3, 4, 5, 6, 3, 5, 1, 2, 3, 4, 5, 2, 3, 6, 6, 2, 3, 6, 1, 2, 3, 5, 6, 1, 1, 4, 1, 2, 3, 4, 5, 1, 2, 3, 4, 5, 6, 1, 2, 3, 4, 5, 6, 1, 4, 5, 1, 2, 3, 4, 5, 6, 1, 2, 3, 4, 5, 6, 1, 2, 3, 4, 6, 2, 5, 6, 1, 2, 3, 4, 5, 6, 1, 2, 3, 4, 5, 6, 1, 2, 4, 5, 6, 2, 3, 6, 1, 2, 3, 4, 6, 1, 2, 3, 4, 5, 6, 1, 2, 3, 4, 5, 6, 1, 2, 3, 4, 5, 6, 4, 1, 5, 5, 1, 2, 4, 6, 1, 2, 3, 4, 5, 6, 6, 1, 2, 3, 4, 5, 6, 1, 2, 3, 4, 5, 6, 1, 2, 3, 4, 5, 6, 1, 2, 3, 4, 5, 6, 5, 6, 1, 2, 3, 4, 2, 3, 4, 5, 6, 1, 2, 3, 4, 5, 6, 1, 2, 3, 4, 5, 6, 2, 4, 5, 6, 1, 2, 3, 4, 5, 6, 1, 2, 3, 4, 5, 6, 4, 6, 6, 1, 2, 5, 6, 2, 4, 6, 4, 5, 2, 3, 4, 6, 1, 2, 3, 4, 5, 6, 1, 2, 3, 4, 5, 3, 4, 2, 6, 1, 3, 1, 1, 2, 3, 4, 5, 6, 1, 2, 3, 4, 5, 6, 1, 2, 3, 4, 5, 2, 3, 4, 5, 6, 1, 2, 3, 4, 5, 6, 1, 2, 4, 5, 2, 5, 1, 2, 3, 4, 5, 6, 6, 1, 2, 5, 6, 1, 4, 5, 6, 2, 6, 6, 1, 2, 3, 4, 5, 6, 1, 2, 3, 4, 5, 6, 1, 2, 3, 4, 5, 1, 2, 3, 4, 5, 6, 2, 3, 4, 5, 6, 1, 2, 4, 5, 6, 1, 2, 3, 4, 5, 3, 5, 6, 6, 1, 5, 6, 1, 2, 3, 4, 5, 6, 4, 6, 1, 2, 3, 4, 5, 6, 1, 2, 3, 4, 5, 6, 3, 1, 2, 3, 4, 5, 1, 2, 3, 4, 5, 6, 1, 2, 6, 2, 3, 4, 5, 1, 2, 3, 4, 5, 6, 1, 2, 3, 4, 5, 6, 1, 2, 3, 4, 5, 6, 1, 2, 3, 4, 5, 6, 1, 2, 3, 4, 5, 6, 2, 5, 6, 1, 4, 5, 1, 2, 3, 4, 5, 6, 4, 1, 2, 3, 4, 5, 6, 1, 2, 3, 4, 5, 6, 2, 4, 6, 1, 4, 5, 6, 1, 2, 3, 4, 5, 6, 1, 2, 3, 4, 5, 6, 1, 2, 3, 4, 6, 1, 2, 3, 4, 5, 6, 1, 2, 3, 4, 5, 6, 1, 2, 3, 4, 5, 6, 1, 2, 3, 4, 5, 6, 4, 2, 3, 5, 6, 1, 3, 1, 2, 3, 4, 5, 6, 5, 1, 2, 3, 4, 5, 6, 1, 1, 4, 6, 1, 2, 3, 4, 5, 6, 1, 2, 3, 4, 5, 6, 1, 2, 3, 4, 5, 6, 2, 1, 2, 3, 4, 5, 2, 3, 4, 5, 1, 2, 3, 4, 5, 6, 1, 2, 3, 4, 5, 1, 2, 3, 4, 5, 6, 1, 2, 4, 5, 6, 1, 2, 3, 4, 5, 6, 4, 5, 1, 2, 3, 4, 5, 6, 1, 2, 3, 4, 5, 6, 1, 2, 4, 5, 6, 4, 1, 2, 4, 5, 6, 1, 2, 3, 4, 5, 6, 3, 4, 5, 1, 2, 3, 4, 5, 6, 1, 2, 3, 4, 5, 6, 1, 2, 3, 5, 6, 1, 2, 3, 4, 5, 6, 6, 3, 1, 2, 3, 5, 1, 2, 3, 4, 5, 6, 1, 2, 3, 4, 5, 6, 1, 2, 3, 4, 5, 6, 2, 4, 2, 3, 4, 5, 1, 2, 3, 4, 5, 6, 1, 2, 3, 4, 5, 6, 1, 2, 3, 4, 5, 6, 5, 1, 2, 4, 5, 6, 1, 2, 3, 4, 5, 6, 1, 2, 1, 3, 4, 5, 1, 2, 3, 4, 5, 6, 1, 2, 3, 4, 5, 6, 1, 2, 4, 6, 1, 2, 3, 4, 5, 6, 4, 5, 6, 1, 2, 3, 4, 5, 6, 3, 6, 2, 3, 4, 5, 3, 1, 2, 3, 4, 5, 6, 4, 1, 2, 3, 5, 6, 1, 2, 3, 5, 6, 1, 2, 3, 4, 5, 6, 1, 2, 3, 4, 1, 2, 3, 4, 5, 6, 2, 3, 4, 5, 6, 1, 2, 4, 5, 6, 1, 2, 3, 4, 5, 6, 3, 6, 1, 2, 3, 5, 1, 2, 3, 4, 6, 2, 3, 6, 1, 2, 4, 5, 1, 2, 4, 5, 1, 2, 3, 4, 5, 6, 4, 1, 2, 3, 4, 5, 6, 1, 6, 1, 2, 4, 6, 1, 2, 3, 4, 5, 6, 2, 3, 5, 6, 1, 2, 3, 4, 5, 2, 3, 4, 5, 6, 1, 2, 3, 4, 5, 6, 1, 2, 3, 4, 5, 6, 1, 2, 3, 4, 5, 6, 1, 2, 3, 4, 5, 6, 6, 1, 2, 3, 4, 5, 6, 1, 2, 4, 5, 6, 1, 2, 3, 4, 6, 1, 5, 1, 2, 3, 4, 5, 4, 5, 2, 4, 1, 2, 3, 4, 5, 6, 4, 5, 6, 1, 2, 4, 5, 6, 1, 2, 4, 6, 5, 6, 1, 4, 6, 1, 4, 5, 6, 1, 3, 1, 2, 3, 4, 5, 6, 1, 2, 3, 4, 5, 6, 1, 2, 3, 4, 5, 6, 4, 5, 1, 2, 3, 4, 5, 6, 1, 2, 3, 4, 5, 6, 1, 3, 5, 1, 2, 3, 4, 5, 1, 4, 6, 1, 2, 3, 5, 1, 2, 3, 4, 5, 6, 1, 2, 3, 4, 5, 6, 1, 2, 4, 5, 1, 2, 3, 4, 5, 6, 1, 2, 3, 4, 5, 6, 3, 4, 1, 2, 3, 4, 5, 6, 1, 2, 3, 4, 5, 6, 1, 2, 4, 5, 6, 1, 2, 3, 4, 5, 6, 2, 3, 5, 1, 2, 3, 4, 5, 6, 1, 2, 3, 4, 5, 6, 1, 2, 3, 4, 5, 6, 1, 2, 3, 4, 5, 6, 2, 3, 4, 5, 1, 2, 5, 6, 1, 2, 3, 4, 5, 6, 1, 2, 3, 5, 6, 1, 2, 5, 1, 2, 4, 5, 6, 1, 4, 6, 1, 1, 2, 4, 5, 1, 2, 3, 4, 5, 6, 2, 3, 4, 5, 6, 1, 2, 3, 5, 6, 5, 2, 4, 5, 6, 1, 2, 3, 5, 6, 3, 4, 1, 2, 3, 4, 6, 2, 3, 4, 5], \"Freq\": [0.008630468569418006, 0.027935464053642493, 0.14013155545607658, 0.27117840715487107, 0.3045646934628828, 0.2473310597920055, 0.9938559536086652, 0.012114300360426716, 0.004038100120142238, 0.18238752209309111, 0.0006730166866903731, 0.0013460333733807462, 0.7995438237881632, 0.0019482926776129997, 0.9507668266751439, 0.04286243890748599, 0.0038965853552259994, 0.0017361346840618105, 0.9948051739674174, 0.003472269368123621, 0.9984094571518013, 0.05870744104783614, 0.0008508324789541469, 0.026375806847578554, 0.0008508324789541469, 0.9129432499177996, 0.9904794208321629, 0.005725314571284178, 0.0019084381904280595, 0.0019084381904280595, 0.0005604816159272238, 0.00896770585483558, 0.9864476440319139, 0.003923371311490567, 0.9828872991761242, 0.002345793076792659, 0.009383172307170637, 0.002345793076792659, 0.9958840779607068, 0.0034717668580093106, 0.9929253213906628, 0.016010125044427483, 0.004574321441264994, 0.002287160720632497, 0.9743304669894438, 0.002287160720632497, 0.6427712420581424, 0.2559268177135226, 0.028920041369814825, 0.06250460554121269, 0.008396141042849466, 0.0012438727470888097, 0.9965798667603489, 0.0024912398064789545, 0.9940046827851028, 0.0024912398064789545, 0.03411328106148438, 0.5836438468257777, 0.08337769240368254, 0.27253444161382073, 0.019798716256392845, 0.006599572085464281, 0.004260006371096646, 0.002840004247397764, 0.000710001061849441, 0.9925814844655185, 0.0023118451846289613, 0.01502699370008825, 0.0034677677769434424, 0.006935535553886885, 0.9709749775441638, 0.0023118451846289613, 0.0002826639409748801, 0.0016959836458492806, 0.005370614878522722, 0.020917131632141126, 0.9698199814848136, 0.0016959836458492806, 0.15692244718374215, 0.08636000449038159, 0.5652016554045299, 0.021063415729361365, 0.002457398501758826, 0.16780521197724554, 0.23825326892233364, 0.004092136298284357, 0.004546818109204841, 0.7452234880986734, 0.007729590785648229, 0.01195792036185075, 0.01059130089192495, 0.00649144248214755, 0.8582370271134023, 0.1120627965339156, 0.0006833097349629, 0.009818691719217253, 0.006545794479478169, 0.9736869288223775, 0.009818691719217253, 0.9976181510245211, 0.017280094267956098, 0.9815093544199063, 0.9664801605076278, 0.03332690208646992, 0.9948810927930938, 0.0017026885494424218, 0.9943701128743744, 0.0017026885494424218, 0.0017026885494424218, 0.003111321736511425, 0.995622955683656, 0.9921443696394232, 0.0034094308235031725, 0.004309183675807268, 0.0005386479594759085, 0.015620790824801346, 0.01400484694637362, 0.0635604592181572, 0.9022353321221467, 0.9946076750634039, 0.0026053901114954916, 0.0006513475278738729, 0.0013026950557477458, 0.8466516927606591, 0.05191213288945585, 0.04597303294023844, 0.03794424967555565, 0.009458566585790683, 0.008138766597075705, 0.5216298080447209, 0.2384189270273702, 0.14144827575783334, 0.0741817623974415, 0.006286590033681482, 0.0182311110976763, 0.0016945047743052934, 0.0016945047743052934, 0.9912852929685967, 0.005083514322915881, 0.004492859893735238, 0.006739289840602856, 0.018720249557230156, 0.12729769698916507, 0.8424112300753571, 0.9988222940351312, 0.9970521032102182, 0.9750750553474593, 0.019206023817449958, 0.0022160796712442257, 0.0014773864474961504, 0.0014773864474961504, 0.0003083286162344683, 0.16526413830167502, 0.030216204390977896, 0.7162473755126699, 0.08232374053460303, 0.00554991509222043, 0.0016394210569089444, 0.011885802662589847, 0.0004098552642272361, 0.0028689868495906526, 0.24318079010816007, 0.7399936795622748, 0.004274031470136621, 0.02457568095328557, 0.05609666304554315, 0.914642734609237, 0.9961178904739637, 0.0033997197627097736, 0.01214346868648402, 0.9866568307768266, 0.00023590040944428413, 0.2182078787359628, 0.00047180081888856826, 0.7801226540322476, 0.00047180081888856826, 0.00023590040944428413, 0.9611061592209086, 0.012563479205502073, 0.021986088609628626, 0.001267119794442534, 0.9959561584318317, 0.002534239588885068, 0.9954726205504287, 0.0037006417120833785, 0.9490750115174055, 0.004646634083316551, 0.01974819485409534, 0.025556487458241028, 0.04417214335227716, 0.25936976481208895, 0.0028315476507869974, 0.007928333422203592, 0.533746732173349, 0.15177095408218308, 0.06277858712099839, 0.0006975398568999821, 0.02859913413289927, 0.0746367646882981, 0.049525329839898734, 0.78473233901248, 0.7890552234989753, 0.15059682551351872, 0.037423762028808545, 0.009919551381129975, 0.0027053321948536297, 0.009919551381129975, 0.9898964672340372, 0.007260854282890249, 0.0008103351415890949, 0.004051675707945474, 0.9942812187298193, 0.9943088894398734, 0.0018154329702701189, 0.9839646698864045, 0.0018154329702701189, 0.012708030791890833, 0.8179680859299386, 0.0009884810706101978, 0.10823867723181665, 0.05337797781295068, 0.005930886423661187, 0.01334449445323767, 0.946068322851454, 0.04427413333541288, 0.003495326315953648, 0.003495326315953648, 0.0011651087719845494, 0.0011651087719845494, 0.9978689552784801, 0.9981221571184046, 0.2059599306887639, 0.2600504175363181, 0.052703551287360456, 0.08410773504317487, 0.33861041033871814, 0.058548494005319605, 0.08998588845443259, 0.9088574733897692, 0.004011689314066631, 0.004011689314066631, 0.002674459542711087, 0.0013372297713555436, 0.9868755712603912, 0.1225757423169821, 0.0029735355279052263, 0.00495589254650871, 0.002312749855037398, 0.32180262268663223, 0.545478572952392, 0.34125413974358965, 0.06216664931867693, 0.04693072460860775, 0.4776131180852122, 0.053096433270542094, 0.018904776145269787, 0.07798776087721364, 0.002819728747225612, 0.009869050615289643, 0.28182446794639143, 0.41168039709493937, 0.2158576559389291, 0.11720280784872804, 0.16276642869858485, 0.00027447964367383613, 0.0010979185746953445, 0.7174897885634077, 0.0013723982183691807, 0.22041555497400467, 0.15813412052217024, 0.1642225688012683, 0.16987901179796347, 0.14562615449521685, 0.14172599465595379, 0.003148151896698428, 0.002098767931132285, 0.9591369445274543, 0.0346296708636827, 0.0006620194095615553, 0.0038775422560033954, 0.9936911337518946, 0.00018914840273187296, 0.00018914840273187296, 0.001418613020489047, 0.010265412211698285, 0.9649487478996388, 0.004106164884679314, 0.017451200759887084, 0.0010265412211698285, 0.0030796236635094853, 0.8979769586454789, 0.029712472896357756, 0.036315244651103924, 0.030655726004178638, 0.0009432531078208811, 0.004244638985193965, 0.9966046526015735, 0.9959360192789041, 0.0035086548457079654, 0.9929493213353542, 0.001241011586445184, 0.001241011586445184, 0.001241011586445184, 0.001241011586445184, 0.9952912923290376, 0.005977301892990688, 0.24609994690451317, 0.10573640934842149, 0.034627128207670194, 0.26052791699104244, 0.3468896236518389, 0.053215369503826195, 0.945782248908911, 0.00120944021599605, 0.1529315639201369, 0.31304783218551513, 0.17790696473930914, 0.1394174771755163, 0.16456394238386096, 0.05217463869758585, 0.0018879971544664088, 0.03020795447146254, 0.9628785487778685, 0.0037759943089328177, 0.9708591587857676, 0.0026819313778612365, 0.016091588267167417, 0.005363862755722473, 0.008045794133583709, 0.020677897786425842, 0.9756208137413647, 0.003759617779350153, 0.9823360921298071, 0.013874803561155467, 0.9982325335002228, 0.007556782086388218, 0.031066770799596008, 0.0008396424540431354, 0.004198212270215677, 0.954673470247045, 0.0008396424540431354, 0.0026366738243981183, 0.0039550107365971775, 0.9927076948858916, 0.0005624173549466983, 0.0028120867747334914, 0.13835466931688778, 0.017434938003347646, 0.7778232018912837, 0.06242832639908351, 0.9889865230817281, 0.006190838955128188, 0.004643129216346141, 0.0028064818468520113, 0.0056129636937040225, 0.987881610091908, 0.0028064818468520113, 0.00047577177559777404, 0.00035682883169833055, 0.9947198398310462, 0.004163003036480523, 0.00011894294389944351, 0.34532818620952555, 0.023815736979967278, 0.5702545910203276, 0.05557005295325698, 0.004410321662956903, 0.00044103216629569033, 0.11673183274504602, 0.3951299275763273, 0.058854334082753326, 0.1323611994724162, 0.13968746512587096, 0.15727050269416243, 0.0009700577585219695, 0.004850288792609847, 0.0009700577585219695, 0.9923690869679748, 0.001940115517043939, 0.9975755950463259, 0.00046462749372735057, 0.0013938824811820518, 0.00030975166248490036, 0.5357155002676353, 0.4621494804274714, 0.987985649827877, 0.006253073733087829, 0.0031265368665439144, 0.9921750496159772, 0.0004610478855092831, 0.0023052394275464155, 0.005071526740602114, 0.004929251571210256, 0.026289341713121365, 0.9677763918142803, 0.9801993467421339, 0.002952407670910042, 0.011809630683640169, 0.005904815341820084, 0.0008068255696473291, 0.02097746481083056, 0.9778725904125629, 0.9853312663748202, 0.012498916698200678, 0.002501332982912872, 0.9905278612334973, 0.002501332982912872, 0.002501332982912872, 0.2675534988808794, 0.018953542754329186, 0.008374821217029175, 0.669985697362334, 0.007934041152975009, 0.02732836397135836, 0.021830273224567275, 0.9766174863622201, 0.003608527358481279, 0.003608527358481279, 0.025259691509368954, 0.007217054716962558, 0.9598682773560202, 0.001220528631307193, 0.9971718917779767, 0.001220528631307193, 0.9938555778080538, 0.004911560115206001, 0.9872235831564062, 0.004911560115206001, 0.0004035414376624475, 0.0012106243129873424, 0.9975544339015703, 0.0004035414376624475, 0.0004035414376624475, 0.9982060668650569, 0.032183533609976785, 0.9670385575188263, 0.017494070955196693, 0.005831356985065564, 0.002915678492532782, 0.9738366165059492, 0.002915678492532782, 0.14520470808980648, 0.092987247365948, 0.45389023552276997, 0.003012545810991836, 0.1207026688270729, 0.1841669672453009, 0.5010335139736454, 0.33202430569565816, 0.042329545766150355, 0.06772727322584056, 0.007971549494647293, 0.04900340115701785, 0.004642858057938721, 0.0023214290289693606, 0.991250195369917, 0.7333728837454399, 0.17958819504006765, 0.016064980356311504, 0.0404889748817607, 0.022203631386771998, 0.00809779497635214, 0.006043627775702669, 0.7977588663927523, 0.17586956827294767, 0.012087255551405338, 0.0018130883327108008, 0.006043627775702669, 0.00799158551825588, 0.008491059613146872, 0.053943202248227184, 0.09390112983950658, 0.8356201607526303, 0.004122230268147101, 0.9934574946234513, 0.0013740767560490336, 0.13619756350249237, 0.10214817262686929, 0.2071941657537916, 0.03984503187572916, 0.4721032564669727, 0.042259882292440015, 0.8439130657847634, 0.04553999680457408, 0.05052093395507437, 0.0426937470042882, 0.0035578122503573503, 0.01280812410128646, 0.012305066126204344, 0.7117797139224424, 0.04839992676307042, 0.03554796880903477, 0.19141213974095647, 0.9935989189100624, 0.0030809268803412785, 0.0015404634401706392, 0.983984272319856, 0.0045344897341928845, 0.0015114965780642948, 0.006045986312257179, 0.0030229931561285895, 0.17438049343286088, 0.014483254077176079, 0.055184369549532215, 0.1835250297662604, 0.4055839727524527, 0.16687457343666015, 0.2584675658908877, 0.15512838174941296, 0.24172279068277838, 0.1712751292715184, 0.13288175183006767, 0.040426671573863975, 0.002819724558985625, 0.0022557796471885, 0.05131898697353838, 0.001691834735391375, 0.8814458971389065, 0.06090605047408951, 0.9958564212489157, 0.9962685785025046, 0.0025480014795460477, 0.9976246999836661, 0.9934462153181937, 0.004546664600998598, 0.0007577774334997664, 0.0007577774334997664, 0.04780603962201592, 0.052378791238034836, 0.8979221355091687, 0.0012471140770960675, 0.00041570469236535583, 0.00041570469236535583, 0.9938557344639991, 0.37097428100032015, 0.13821213370049226, 0.1831041726777378, 0.031362931340267436, 0.27165833175613996, 0.004765935644844561, 0.2926714973677958, 0.09276987781286895, 0.3190662743187376, 0.1950496384977684, 0.05958232738190537, 0.04095072012241705, 0.06286666963953755, 0.265402639808294, 0.0027871922500287585, 0.02353629011135396, 0.008671264777867248, 0.6367185851176808, 0.9417046194331609, 0.0023860758938340225, 0.0023860758938340225, 0.03976793156390037, 0.0023860758938340225, 0.011135020837892105, 0.009547486570331002, 0.98935829585055, 0.0069201523357116344, 0.0017300380839279086, 0.0017300380839279086, 0.9895817840067637, 0.029742899470798827, 0.0027883968253873902, 0.01673038095232434, 0.049261677248510556, 0.900652174600127, 0.0006127948875743973, 0.0006127948875743973, 0.011030307976339151, 0.0006127948875743973, 0.15258592700602494, 0.8340138419887547, 0.006697272961017914, 0.014138687362148931, 0.004960942934087344, 0.06994929537063155, 0.3730629086433683, 0.5313169882407546, 0.6739267335289091, 0.01222938985016815, 0.2974362317130182, 0.01616026515915077, 0.02680965011066285, 0.8446341224184558, 0.02394648359399012, 0.005726333033345463, 0.027069937975814917, 0.07157916291681829, 0.009568997043674116, 0.002392249260918529, 0.002392249260918529, 0.002392249260918529, 0.002392249260918529, 0.9808221969765968, 0.004267016101783136, 0.9942147517154707, 0.9970388409698134, 0.02563434341424972, 0.004523707661338186, 0.016586928091573347, 0.9529944139885778, 0.00700881153831338, 0.001752202884578345, 0.9917468326713433, 0.9947243081746764, 0.0029085506086978844, 0.9621739018971227, 0.0015128520470080546, 0.01966707661110471, 0.016641372517088603, 0.02424129110477197, 0.09292494923495923, 0.07907278288937523, 0.0839787584701029, 0.5840996809054579, 0.1356357954671765, 0.0012307010574786274, 0.0024614021149572548, 0.0006153505287393137, 0.9894836502128165, 0.006153505287393137, 0.991673641540311, 0.00561854754413774, 0.924153446395087, 0.07511261683327267, 0.0025358818562511887, 0.9966015695067171, 0.9956231505962584, 0.6651549802053223, 0.05175357287237234, 0.12122145592253655, 0.03716531743183785, 0.008336145966019705, 0.11601136469377424, 0.0005125339618084948, 0.04997206127632824, 0.005637873579893443, 0.005125339618084948, 0.9274302038924714, 0.011532014140691134, 0.0009111216158120693, 0.0063778513106844854, 0.0009111216158120693, 0.0018222432316241386, 0.9894780747719073, 0.0015646436861815457, 0.050850919800900236, 0.004693931058544637, 0.940350855395109, 0.0023469655292723186, 0.006751763075130172, 0.6690383410810806, 0.1595871272303495, 0.11846275213637483, 0.000920694964790478, 0.04542095159633024, 0.0017674942952361702, 0.9597494023132405, 0.010604965771417021, 0.028279908723778724, 0.9943174317692419, 0.004361041367408956, 0.0033095214766779087, 0.2532317723445161, 0.04355757298337377, 0.08508672957781592, 0.11903601440309253, 0.495680910200501, 0.9974441508201471, 0.9725477683714344, 0.017962623690237572, 0.002566089098605368, 0.007698267295816103, 0.0031087337544796942, 0.0062174675089593885, 0.9854686001700631, 0.0031087337544796942, 0.9971829505709668, 0.9975231516572965, 0.9988051852751973, 0.04166211961290587, 0.015256550844162713, 0.3491402981644929, 0.00469432333666545, 0.06630731713039949, 0.5228302616211145, 0.027990200667605016, 0.9599366547139992, 0.0006361409242637504, 0.0006361409242637504, 0.0006361409242637504, 0.009542113863956255, 0.043117498848870436, 0.03172797085105561, 0.8843154952589088, 0.0016270754282592618, 0.03904981027822228, 0.000976124522273912, 0.687679725941971, 0.11030207101695207, 0.10054082579421295, 0.000488062261136956, 0.10005276353307599, 0.012867839246050223, 0.19430437261535835, 0.18336670925621568, 0.6086487963381755, 0.00032169598115125555, 0.9849081040452857, 0.008842407011456294, 0.0006801851547274072, 0.005441481237819258, 0.0006801851547274072, 0.00048154512786396415, 0.07271331430745859, 0.03707897484552524, 0.0019261805114558566, 0.8874876706532859, 0.9971427280065438, 0.0018196035182601164, 0.0018196035182601164, 0.9972096082137422, 0.0013420338103210866, 0.993105019637604, 0.005368135241284346, 0.5143704163443868, 0.025729152698499715, 0.09451742458250514, 0.1478894686099715, 0.21720933455799551, 0.0004252752512148713, 0.9924263353470884, 0.004169858551878522, 0.13186670321684027, 0.6253270749948863, 0.0014679039319128787, 0.002691157208506944, 0.15339596088489582, 0.08489377739562814, 0.01730376942703292, 0.4077921661637425, 0.0005767923142344307, 0.03547272732541749, 0.000865188471351646, 0.5381472291807238, 0.9984571096410423, 0.9540768539304444, 0.001080494738313074, 0.002160989476626148, 0.014046431598069963, 0.028092863196139926, 0.8601662620204561, 0.0021498184832502375, 0.00011943436018056876, 0.0002388687203611375, 0.1368717767669318, 0.000477737440722275, 0.001801922295202564, 0.9946611069518154, 0.001801922295202564, 0.0008656161513549484, 0.002596848454064845, 0.0008656161513549484, 0.9954585740581906, 0.17188886780738466, 0.08673874475307951, 0.18412125488794717, 0.000476586509632305, 0.443702040467676, 0.11310986495273372, 0.15237830734357144, 0.28877734588014087, 0.29887624376616617, 0.028251347250779605, 0.015467932205177974, 0.21642321672203563, 0.757884716402171, 0.008184500177129276, 0.17924055387913115, 0.03110110067309125, 0.00040922500885646383, 0.02332582550481844, 0.0005568340741059559, 0.010394236049977844, 0.11303731704350906, 0.4020342015045002, 0.05308484839810114, 0.4209665600241027, 0.014886232629662863, 0.038907198918437025, 0.2459611618582932, 0.01725449691165468, 0.6780002315873722, 0.004736528563983638, 0.11010928156080205, 0.8835818577706984, 0.006317745663324708, 0.0006108398221053335, 0.996279749853799, 0.002443359288421334, 0.5288872591171624, 0.011403113389589744, 0.21272236525579913, 0.06529639929038888, 0.069504691136547, 0.11213061499763247, 0.9959900374792424, 0.05319759032492696, 0.3075520986300979, 0.00022589210329056035, 0.0010165144648075217, 0.024170455052089958, 0.6137488446404525, 0.009074282453998692, 0.0020165072119997093, 0.0030247608179995644, 0.016132057695997674, 0.013107296877998111, 0.9558244184878623, 0.0038903363411353603, 0.007780672682270721, 0.9862002624778138, 0.03291080634279368, 0.005196443106756898, 0.0017321477022522994, 0.9596098270477738, 0.18934308262722083, 0.7595883093692799, 0.0012310993668870015, 0.04259603809429025, 0.002708418607151403, 0.0046781775941706055, 0.017653788783180913, 0.807497375823275, 0.1510379707005478, 0.020269164899207714, 0.001307688058013401, 0.0019615320870201014, 0.1157831681127189, 0.10503187393082357, 0.005789158405635945, 0.7707850905789573, 0.0024810678881296904, 0.967139122692544, 0.016089190580837145, 0.0017876878423152384, 0.0017876878423152384, 0.007150751369260954, 0.005363063526945716, 0.5048764338028596, 0.19703856399381917, 0.11861386642687415, 0.09600745894316401, 0.035444614202854156, 0.048003729471582005, 0.011004833179888885, 0.03591050827121636, 0.00019306724876998045, 0.011777102174968806, 0.08514265670756137, 0.8560601810460933, 0.3507995714070923, 0.5961359994821385, 0.011426268331118318, 0.010769586243123014, 0.028237329783798146, 0.0024953919343821615, 0.9970138259984239, 0.03982822758404717, 0.9558774620171321, 0.003063709814157475, 0.0015318549070787375, 0.9968788565027249, 0.002651273554528524, 0.16280822783928384, 0.00920766327111631, 0.000418530148687105, 0.007952072825054994, 0.8194820311293516, 0.000418530148687105, 0.9980341932484856, 0.031532791704437804, 0.014906410623916051, 0.002293293942140931, 0.03783935004532536, 0.0928784046567077, 0.8198525843153829, 0.9949621928847574, 0.004141251231302316, 0.005521668308403088, 0.9897590442812536, 0.7165369275914819, 0.16458525874880486, 0.04364691944719687, 0.04410157485810517, 0.0004546554109083007, 0.03137122335267275, 0.15251304446102887, 0.011789168798846653, 0.5457340543972432, 0.002984599695910545, 0.05357356454159429, 0.23339569622020462, 0.013817128544106706, 0.022896955873091113, 0.024476056278131878, 0.010658927734025173, 0.9277214879614503, 0.00039477510126019157, 0.9981554828995777, 0.20906573073682522, 0.0129509744704228, 0.0004625348025151, 0.0027752088150906, 0.7747457942127925, 0.024715410635276405, 0.955662544564021, 0.0013730783686264668, 0.01785001879214407, 0.3425596915956423, 0.18123473091480477, 0.17583862496354263, 0.05879894760685658, 0.12950654283029173, 0.11182964402443293, 0.2990809450187499, 0.03524882566292409, 0.007477023625468746, 0.56665157618731, 0.0918605759700446, 0.4240920328477134, 0.018253045369819167, 0.009709066686074025, 0.43457782486867336, 0.11146008555612981, 0.001553450669771844, 0.0007790420555375614, 0.9847091581994776, 0.0029214077082658552, 0.007595660041491223, 0.003895210277687807, 0.20152608880372527, 0.023206941875614725, 0.17008442561740855, 0.17427664737558413, 0.2865683016124296, 0.1444819284514078, 0.9958856459213127, 0.002890814647086539, 0.02044690316253299, 0.8318398652464641, 0.11370472978189078, 0.011968918924409556, 0.017953378386614333, 0.00349093468628612, 0.9263783987641235, 0.047723875140953886, 0.003568140197454496, 0.008028315444272616, 0.000446017524681812, 0.014718578314499796, 0.0006106004616335443, 0.00030530023081677216, 0.9961946531551276, 0.0027477020773509497, 0.00030530023081677216, 0.9988647953837717, 0.001623812638604272, 0.9726637705239588, 0.014614313747438447, 0.009742875831625631, 0.001623812638604272, 0.04844339266284286, 0.034041302952267954, 0.7777128443710448, 0.03862378604199634, 0.04058770736616564, 0.06088156104924846, 0.9940497739916359, 0.0014385669667028014, 0.004315700900108405, 0.022972727323711743, 0.08806212140756169, 0.36108414998552046, 0.1254664338448872, 0.21941899815596472, 0.18260373000899077, 0.4067444285250781, 0.04484369444406403, 0.4452857659121385, 0.04411649939902516, 0.05817560360311009, 0.0007271950450388762, 0.9082844415786873, 0.01682008225145717, 0.011413627242060223, 0.05646741898703479, 0.006607889455929604, 0.0006872761519096455, 0.4245075698295243, 0.00045818410127309694, 0.007789129721642648, 0.39312195889231716, 0.17365177438250373, 0.998830072058827, 0.9978077183415539, 0.0020204899746821222, 0.0040409799493642444, 0.9900400875942399, 0.0040409799493642444, 0.31952806428239044, 0.26756807111707465, 0.27533617640757035, 0.08717540381556303, 0.04712650542900734, 0.003279866678209302, 0.25812267727942295, 0.36164062598002483, 0.1568453768190938, 0.10605735003957771, 0.116812461592887, 0.0005975061974060716, 0.002977694792593567, 0.9419441193904317, 0.03275464271852924, 0.002977694792593567, 0.018858733686425926, 0.0009925649308645224, 0.9711588358244635, 0.02639018575609955, 0.9931981952814423, 0.0027569693137583407, 0.0013784846568791703, 0.0027569693137583407, 0.0009726286377034682, 0.0019452572754069363, 0.9891633245444271, 0.0038905145508138727, 0.0029178859131104044, 0.9981841557927396, 0.010163175352041727, 0.006467475224026554, 0.9710452086359868, 0.00554355019202276, 0.00554355019202276, 0.0009239250320037933, 0.5127300063942258, 0.27205510175343894, 0.048191016994429965, 0.05939823024894856, 0.0014009016568148245, 0.10646852591792667, 0.9981049827735008, 0.004273696616254136, 0.004273696616254136, 0.002136848308127068, 0.9872239183547054, 0.002136848308127068, 0.11260891227262027, 0.44872513396735264, 0.25059046553831194, 0.014539378546591477, 0.15993316401250626, 0.013684120985027273, 0.9968915218501891, 0.0020855471168414, 0.9485173807304428, 0.04796743687217574, 0.0015473366732959915, 0.0015473366732959915, 0.19364869425805406, 0.14714147731955263, 0.6345476209405707, 0.012612126627390224, 0.008933589694401408, 0.003153031656847556, 0.039483658739261636, 0.054193257093104207, 0.006967704483399112, 0.866317924102623, 0.030967575481773833, 0.0023225681611330376, 0.0009909576176878627, 0.0009909576176878627, 0.9978943210116776, 0.0009909576176878627, 0.0013922150987346678, 0.04803142090634604, 0.0020883226481020014, 0.9112047821218401, 0.03480537746836669, 0.0013922150987346678, 0.004944133447952803, 0.9855306006252587, 0.006592177930603737, 0.0005821902452494507, 0.015428041499110444, 0.05297931231770001, 0.9210249679846311, 0.008441758556117035, 0.0011643804904989015, 0.9945791126702014, 0.003584068874487212, 0.15850088197744402, 0.15921808053842795, 0.6569538818612612, 0.02510194963443684, 0.9964379211498166, 0.0015417166843833517, 0.0223548919235586, 0.9103837021283692, 0.0007708583421916758, 0.007708583421916759, 0.05781437566437569, 0.9968017333767965, 0.8883452467165389, 0.0952845561659654, 0.00439774874612148, 0.0109943718653037, 0.00073295812435358, 0.08670192042281168, 0.01941087770659963, 0.005176234055093234, 0.8877241404484897, 0.0012940585137733085, 0.00145829486104773, 0.00291658972209546, 0.005104032013667055, 0.00583317944419092, 0.9471625122505006, 0.03645737152619325, 0.004352365050910678, 0.006528547576366017, 0.9858106840312686, 0.004352365050910678, 0.003611585297669144, 0.13862931257976177, 0.8226080051075643, 0.02694798260568515, 0.005556285073337145, 0.002500328283001715, 0.0019133489404117383, 0.0019133489404117383, 0.0019133489404117383, 0.9872880532524569, 0.007653395761646953, 0.024864518082118606, 0.9359004606109443, 0.0009945807232847443, 0.0019891614465694886, 0.036799486761535535, 0.001586677873194991, 0.8028590038366654, 0.00039666946829874775, 0.009520067239169946, 0.13010758560198926, 0.05553372556182468, 0.9959586946830791, 0.998808789211112, 0.09869212969613123, 0.00822434414134427, 0.0009138160157049188, 0.8918844313280008, 0.01102537060997882, 0.025988373580664366, 0.9584197165960161, 0.0023625794164240333, 0.0015750529442826887, 0.013132149625590395, 0.9827225303150146, 0.0032830374063975987, 0.913399515015396, 0.05590815700170748, 0.0006988519625213435, 0.029351782425896426, 0.0012246016191128177, 0.026328934810925582, 0.01591982104846663, 0.9558015637175543, 0.06908719568503337, 0.034909784392083996, 0.3978006550132928, 0.0003661865495673146, 0.4974033964956024, 0.0003661865495673146, 0.9989926964076831, 0.008596495351818738, 0.42888124980842024, 0.25537881313451766, 0.020442885287861635, 0.21973480801722045, 0.06698976255868505, 0.002680373586473724, 0.9970989741682253, 0.011277406053926882, 0.9736160559890209, 0.011277406053926882, 0.003759135351308961, 0.48815461504638763, 0.16807581289461698, 0.17129037762210966, 0.13179715382719967, 0.025486906053691923, 0.01492476480621599, 0.0010487427422722292, 0.9889644059627122, 0.008389941938177834, 0.0010487427422722292, 0.001673733898424, 0.000836866949212, 0.000836866949212, 0.993361068714644, 0.003347467796848, 0.014432151363455627, 0.97623195294232, 0.0010308679545325448, 0.0020617359090650896, 0.006185207727195269, 0.005710707241041459, 0.1820057662628697, 0.06005453421224244, 0.06539680872805541, 0.3360106454083749, 0.35093217078012834, 0.0007789340922734312, 0.8303437423634777, 0.16630242870037756, 0.0007789340922734312, 0.001168401138410147, 0.0003894670461367156, 0.03845147658566925, 0.017390115038744887, 0.1655925398689374, 0.00019322350043049873, 0.4279900534535547, 0.3503142062804942, 0.045320257318713725, 0.024497436388493905, 0.7508464253073382, 0.0008165812129497968, 0.17719812321010592, 0.0016331624258995937, 0.9963783067604608, 0.1743086590728902, 0.5983965741723314, 0.0012631062251658711, 0.17683487152322194, 0.048945366225177506, 0.0003157765562914678, 0.000785595242639813, 0.9961347676672829, 0.001571190485279626, 0.0003927976213199065, 0.0011783928639597196, 0.04943189879245608, 0.07061699827493725, 0.8738853536523485, 0.004413562392183578, 0.0008827124784367157, 0.9978869393544125, 0.0013095629125385992, 0.8015166309594468, 0.0007061820537087636, 0.1949062468236188, 0.0007061820537087636, 0.002118546161126291, 0.9966002105949243, 0.0025230385078352513, 0.0018936771385081729, 0.9960741748552989, 0.18781475586986415, 0.05074498062322416, 0.7016805941349272, 0.0064160320328214455, 0.04024601911497089, 0.013415339704990295, 0.0013626693623488594, 0.004088008087046578, 0.9947486345146673, 0.013003693038560896, 0.003546461737789335, 0.017732308688946676, 0.9634554387661027, 0.001182153912596445, 0.00816200629846371, 0.8308922411836057, 0.002448601889539113, 0.15834292219019597, 0.0020254586899982486, 0.9965256754791383, 0.9955034958801281, 0.005125480510379451, 0.9917804787584238, 0.0007456830462166268, 0.005965464369733014, 0.003355573707974821, 0.9895214023294638, 0.0030635263506351546, 0.9956460639564252, 0.38111793944636624, 0.15313933094666704, 0.4165908918125434, 0.03590554934625244, 0.009949730541732604, 0.0032444773505649793, 0.008262182810866455, 0.6175673360719285, 0.0008632131294935103, 0.0007398969681372945, 0.17979496325736255, 0.19286647636112142, 0.002253027656289951, 0.7784210552481782, 0.00037550460938165855, 0.020652753515991218, 0.17536065258123454, 0.022905781172281172, 0.9982338912966688, 0.0014509213536288792, 0.05567552695366239, 0.10701703085105166, 0.8344661315270477, 0.0013335455557763447, 0.00033338638894408616, 0.0016669319447204308, 0.8087132109582912, 0.10508702741265931, 0.0552433780469711, 0.015783822299134602, 0.0024921824682844107, 0.012460912341422053, 0.018790193321860098, 0.008351197031937822, 0.9708266549627718, 0.9508221711224737, 0.00491804571270245, 0.03606566855981797, 0.0032786971418016335, 0.00491804571270245, 0.9912574931018382, 0.0032714768749235587, 0.0032714768749235587, 0.0019798850126447353, 0.003959770025289471, 0.9919223913350124, 0.0009899425063223677, 0.12957251089626584, 0.0018713397368930532, 0.0019424032712054477, 0.8241001195760673, 0.011630731782461887, 0.03086526173634998, 0.034475365306252136, 0.047705189464407584, 0.008793941940420975, 0.8431289113497419, 0.06412573591952994, 0.0018288286336273708, 0.0004862493754524697, 0.0009724987509049394, 0.9977837184284678, 0.0009724987509049394, 0.17798016407744668, 0.007371959458829153, 0.0010531370655470218, 0.8140749516678478, 0.0010531370655470218, 0.0010531370655470218, 0.1702547847580515, 0.4384551111647556, 0.00020292584595715316, 0.3145350612335874, 0.05005504200276444, 0.02651564387173468, 0.014236955508223435, 0.982349930067417, 0.14356065881217106, 0.11289458235512886, 0.015468728832313329, 0.02415292747501555, 0.17286982923129107, 0.5310930232427576, 0.010710706392035156, 0.0006300415524726562, 0.00015751038811816405, 0.0006300415524726562, 0.017326142692998047, 0.9705790115841268, 0.0018528258315797025, 0.0004632064578949256, 0.0013896193736847768, 0.0006948096868423884, 0.9956622812451427, 0.36070270289664613, 0.10032790411694793, 0.5077199996221304, 0.001085799828105497, 0.0008686398624843976, 0.029099435393227322, 0.01351632304895237, 0.002703264609790474, 0.9812850533539421, 0.5651971289144729, 0.049571936323786994, 0.006806509391608059, 0.019392130530807867, 0.004366439987069321, 0.35470903659663133, 0.0012923942516534196, 0.9007987934024334, 0.0865904148607791, 0.0012923942516534196, 0.009046759761573937, 0.002584788503306839, 0.6479534023077922, 0.23154749584519815, 0.11767167821641218, 0.0015183442350504798, 0.0011387581762878599, 0.00037958605876261994, 0.7037698627937304, 0.13875897826279826, 0.07677165549584859, 0.031884283837022964, 0.02547180217147645, 0.02333430828296094, 0.9904434960726045, 0.004522573041427418, 0.002261286520713709, 0.002261286520713709, 0.001979903280076165, 0.017819129520685484, 0.9780722203576255, 0.001979903280076165, 0.6734564144830161, 0.13125585233755485, 0.06926873572863847, 0.10138254312843852, 0.02259169008939422, 0.002240498190683724, 0.0017097032946465057, 0.01538732965181855, 0.006838813178586023, 0.9694017680645687, 0.005983961531262769, 0.0013642755120546303, 0.0013642755120546303, 0.9972853993119347, 0.0041352817436586765, 0.0016541126974634708, 0.0016541126974634708, 0.990813505780619, 0.0016541126974634708, 0.002080094885094098, 0.003120142327641147, 0.994285355074979, 0.9983054385430054, 0.9836475183893475, 0.00262306004903826, 0.00524612009807652, 0.00786918014711478, 0.0037236571953499584, 0.004033961961629122, 0.6519503139525219, 0.0009309142988374896, 0.3382321952442879, 0.001551523831395816, 0.0009224849381229173, 0.9962837331727508, 0.0009224849381229173, 0.0009224849381229173, 0.0009224849381229173, 0.0006951868828697608, 0.0006951868828697608, 0.9948124293866277, 0.0006951868828697608, 0.002780747531479043, 0.9978547315374371, 0.0010577978620583317, 0.004231191448233327, 0.01163577648264165, 0.9837520117142485, 0.0028278105920166614, 0.9515582642136065, 0.018380768848108298, 0.02545029532814995, 0.0014139052960083307, 0.995511266778625, 0.0033406418348276004, 0.0011875496901806771, 0.1757573541467402, 0.8205968359148478, 0.0005937748450903386, 0.0017813245352710156, 0.0006436585304822285, 0.0008582113739763047, 0.9980998279344423, 0.00021455284349407617], \"Term\": [\"     \", \"     \", \"     \", \"     \", \"     \", \"     \", \"actforequal\", \"actuel\", \"actuel\", \"actuel\", \"actuel\", \"actuel\", \"actuel\", \"admettre\", \"admettre\", \"admettre\", \"admettre\", \"administrer\", \"administrer\", \"administrer\", \"afriqu\", \"afrique\", \"afrique\", \"afrique\", \"afrique\", \"afrique\", \"agent\", \"agent\", \"agent\", \"agent\", \"aide\", \"aide\", \"aide\", \"aide\", \"aimer\", \"aimer\", \"aimer\", \"aimer\", \"alexandre\", \"alg\\u00e9rie\", \"alg\\u00e9rie\", \"allemand\", \"allemand\", \"allemand\", \"allemand\", \"allemand\", \"aller\", \"aller\", \"aller\", \"aller\", \"aller\", \"aller\", \"allezvou\", \"alsace\", \"alsace\", \"alsace\", \"an\", \"an\", \"an\", \"an\", \"an\", \"an\", \"anglais\", \"anglais\", \"anglais\", \"anglais\", \"annonce\", \"annonce\", \"annonce\", \"annonce\", \"annonce\", \"annonce\", \"annoncer\", \"annoncer\", \"annoncer\", \"annoncer\", \"annoncer\", \"annoncer\", \"ann\\u00e9e\", \"ann\\u00e9e\", \"ann\\u00e9e\", \"ann\\u00e9e\", \"ann\\u00e9e\", \"ann\\u00e9e\", \"anti\", \"anti\", \"anti\", \"anti\", \"anti\", \"anticovid\", \"anticovid\", \"anticovid\", \"anticovid\", \"anticovid\", \"anticovid\", \"ao\\u00fbt\", \"ao\\u00fbt\", \"ao\\u00fbt\", \"ao\\u00fbt\", \"apocalypse\", \"arn\", \"arn\", \"astrazeneca\", \"astrazeneca\", \"autonomisation\", \"autotest\", \"autotest\", \"autotest\", \"autotest\", \"avocat\", \"avocat\", \"bah\", \"bah\", \"baisse\", \"baisse\", \"baisse\", \"baisse\", \"baisse\", \"baisse\", \"barri\\u00e8re\", \"barri\\u00e8re\", \"barri\\u00e8re\", \"barri\\u00e8re\", \"bien\", \"bien\", \"bien\", \"bien\", \"bien\", \"bien\", \"bon\", \"bon\", \"bon\", \"bon\", \"bon\", \"bon\", \"bordeaux\", \"bordeaux\", \"bordeaux\", \"bordeaux\", \"bretagne\", \"bretagne\", \"bretagne\", \"bretagne\", \"bretagne\", \"brevet\", \"br\\u00e9silien\", \"c\", \"c\", \"c\", \"c\", \"c\", \"campagne\", \"campagne\", \"campagne\", \"campagne\", \"campagne\", \"campagne\", \"cas\", \"cas\", \"cas\", \"cas\", \"cas\", \"cas\", \"castex\", \"castex\", \"castex\", \"castex\", \"catholique\", \"catholique\", \"cdanslair\", \"cdanslair\", \"centre\", \"centre\", \"centre\", \"centre\", \"centre\", \"centre\", \"cerveau\", \"cerveau\", \"cerveau\", \"changement\", \"changement\", \"changement\", \"charge\", \"charge\", \"cha\\u00eene\", \"cha\\u00eene\", \"cha\\u00eene\", \"cha\\u00eene\", \"chiffre\", \"chiffre\", \"chiffre\", \"chiffre\", \"chiffre\", \"chiffre\", \"chine\", \"chine\", \"chine\", \"chine\", \"chine\", \"chine\", \"chose\", \"chose\", \"chose\", \"chose\", \"chose\", \"chose\", \"ch\\u00f4mage\", \"ch\\u00f4mage\", \"classique\", \"classique\", \"classique\", \"climatonegationnist\", \"coll\\u00e8ge\", \"coll\\u00e8ge\", \"coll\\u00e8ge\", \"coll\\u00e8ge\", \"comprendre\", \"comprendre\", \"comprendre\", \"comprendre\", \"comprendre\", \"comprendre\", \"con\", \"con\", \"con\", \"con\", \"con\", \"con\", \"concret\", \"concr\\u00e9tiser\", \"confinement\", \"confinement\", \"confinement\", \"confinement\", \"confinement\", \"confinement\", \"confirmer\", \"confirmer\", \"contagieux\", \"contagieux\", \"contagieux\", \"contagieux\", \"contagieux\", \"contamination\", \"contamination\", \"contamination\", \"contamination\", \"contamination\", \"contamination\", \"contre\", \"contre\", \"contre\", \"contre\", \"contre\", \"contre\", \"coronavirus\", \"coronavirus\", \"coronavirus\", \"coronavirus\", \"coronavirus\", \"coronavirus\", \"couvrefeu\", \"couvrefeu\", \"couvrefeu\", \"couvrefeu\", \"couvrefeu\", \"couvrefeu\", \"covid\", \"covid\", \"covid\", \"covid\", \"covid\", \"covid\", \"covidle\", \"covidle\", \"covidle\", \"covidle\", \"crise\", \"crise\", \"crise\", \"crise\", \"crise\", \"crise\", \"critique\", \"critique\", \"critique\", \"critique\", \"critique\", \"critique\", \"croire\", \"croire\", \"croire\", \"croire\", \"croire\", \"croire\", \"debutant\", \"deconfinement\", \"delta\", \"delta\", \"delter\", \"delter\", \"delter\", \"delter\", \"delter\", \"dernier\", \"dernier\", \"dernier\", \"dernier\", \"dernier\", \"dernier\", \"dette\", \"dette\", \"dette\", \"devoir\", \"devoir\", \"devoir\", \"devoir\", \"devoir\", \"devoir\", \"dici\", \"dici\", \"dici\", \"dici\", \"dieu\", \"dieu\", \"dieu\", \"dieu\", \"dieu\", \"difficult\\u00e9\", \"difficult\\u00e9\", \"difficult\\u00e9\", \"diffusion\", \"diffusion\", \"digital\", \"dimanche\", \"dimanche\", \"dimanche\", \"dimanche\", \"dimanche\", \"dimanche\", \"dincidence\", \"dincidence\", \"dincidence\", \"direct\", \"direct\", \"direct\", \"direct\", \"direct\", \"direct\", \"distanciation\", \"distanciation\", \"distanciation\", \"doctolib\", \"doctolib\", \"doctolib\", \"doctolib\", \"dose\", \"dose\", \"dose\", \"dose\", \"dose\", \"droit\", \"droit\", \"droit\", \"droit\", \"droit\", \"droit\", \"dun\", \"dun\", \"dun\", \"dun\", \"dun\", \"dun\", \"d\\u00e9cembre\", \"d\\u00e9cembre\", \"d\\u00e9cembre\", \"d\\u00e9cembre\", \"d\\u00e9cembre\", \"d\\u00e9confinement\", \"d\\u00e9c\\u00e8s\", \"d\\u00e9c\\u00e8s\", \"d\\u00e9c\\u00e8s\", \"d\\u00e9c\\u00e8s\", \"d\\u00e9c\\u00e8s\", \"d\\u00e9fi\", \"d\\u00e9fi\", \"d\\u00e9fi\", \"d\\u00e9pistage\", \"d\\u00e9pistage\", \"d\\u00e9pistage\", \"d\\u00e9pistage\", \"d\\u00e9placement\", \"d\\u00e9placement\", \"d\\u00e9placement\", \"d\\u00e9sinformation\", \"d\\u00e9sinformation\", \"d\\u00e9sinformation\", \"d\\u00e9sinformation\", \"d\\u00e9tecter\", \"d\\u00e9tecter\", \"d\\u00e9tecter\", \"economie\", \"economie\", \"education\", \"education\", \"education\", \"education\", \"efficace\", \"efficace\", \"efficace\", \"efficace\", \"efficace\", \"efficace\", \"emmanuel\", \"emmanuel\", \"emmanuelmacron\", \"emmanuelmacron\", \"emmanuelmacron\", \"emmanuelmacron\", \"emmanuelmacron\", \"emploi\", \"emploi\", \"emploi\", \"engagements\", \"enjeu\", \"enjeu\", \"enjeu\", \"entreprise\", \"entreprise\", \"entreprise\", \"entreprise\", \"entreprise\", \"eric\", \"essai\", \"essai\", \"exp\\u00e9rimental\", \"exp\\u00e9rimental\", \"exp\\u00e9rimental\", \"exp\\u00e9rimental\", \"exp\\u00e9rimental\", \"face\", \"face\", \"face\", \"face\", \"face\", \"face\", \"faire\", \"faire\", \"faire\", \"faire\", \"faire\", \"faire\", \"fake\", \"fake\", \"fake\", \"falloir\", \"falloir\", \"falloir\", \"falloir\", \"falloir\", \"falloir\", \"famille\", \"famille\", \"famille\", \"famille\", \"famille\", \"famille\", \"femme\", \"femme\", \"femme\", \"femme\", \"femme\", \"festival\", \"festival\", \"festival\", \"fin\", \"fin\", \"fin\", \"fin\", \"fin\", \"fin\", \"finir\", \"finir\", \"finir\", \"finir\", \"finir\", \"finir\", \"fois\", \"fois\", \"fois\", \"fois\", \"fois\", \"formation\", \"formation\", \"formation\", \"foutre\", \"foutre\", \"foutre\", \"foutre\", \"foutre\", \"france\", \"france\", \"france\", \"france\", \"france\", \"france\", \"fran\\u00e7ais\", \"fran\\u00e7ais\", \"fran\\u00e7ais\", \"fran\\u00e7ais\", \"fran\\u00e7ais\", \"fran\\u00e7ais\", \"f\\u00e9vrier\", \"f\\u00e9vrier\", \"f\\u00e9vrier\", \"f\\u00e9vrier\", \"f\\u00e9vrier\", \"f\\u00e9vrier\", \"gard\", \"gauche\", \"gauche\", \"gen\\u00e8ve\", \"geste\", \"geste\", \"geste\", \"geste\", \"gestion\", \"gestion\", \"gestion\", \"gestion\", \"gestion\", \"gestion\", \"glblctzn\", \"gouvernement\", \"gouvernement\", \"gouvernement\", \"gouvernement\", \"gouvernement\", \"gouvernement\", \"grand\", \"grand\", \"grand\", \"grand\", \"grand\", \"grand\", \"grave\", \"grave\", \"grave\", \"grave\", \"grave\", \"grave\", \"guerre\", \"guerre\", \"guerre\", \"guerre\", \"guerre\", \"guerre\", \"gu\\u00e9rison\", \"gu\\u00e9rison\", \"g\\u00e9n\\u00e9ration\", \"g\\u00e9n\\u00e9ration\", \"g\\u00e9n\\u00e9ration\", \"g\\u00e9n\\u00e9ration\", \"habitant\", \"habitant\", \"habitant\", \"habitant\", \"habitant\", \"hausse\", \"hausse\", \"hausse\", \"hausse\", \"hausse\", \"hausse\", \"heure\", \"heure\", \"heure\", \"heure\", \"heure\", \"heure\", \"hospitaliser\", \"hospitaliser\", \"hospitaliser\", \"hospitaliser\", \"h\\u00f4pital\", \"h\\u00f4pital\", \"h\\u00f4pital\", \"h\\u00f4pital\", \"h\\u00f4pital\", \"h\\u00f4pital\", \"identifier\", \"identifier\", \"identifier\", \"identifier\", \"identifier\", \"identifier\", \"incidence\", \"incidence\", \"inclusion\", \"ind\", \"ind\", \"ind\", \"ind\", \"indien\", \"indien\", \"indien\", \"ind\\u00e9sirable\", \"ind\\u00e9sirable\", \"infecter\", \"infecter\", \"infecter\", \"infecter\", \"info\", \"info\", \"info\", \"info\", \"info\", \"info\", \"injection\", \"injection\", \"injection\", \"injection\", \"injection\", \"inscription\", \"inscription\", \"intensif\", \"intensif\", \"in\\u00e9galit\\u00e9\", \"in\\u00e9galit\\u00e9\", \"islam\", \"jamais\", \"jamais\", \"jamais\", \"jamais\", \"jamais\", \"jamais\", \"janvier\", \"janvier\", \"janvier\", \"janvier\", \"janvier\", \"janvier\", \"jean\", \"jean\", \"jean\", \"jean\", \"jean\", \"jeudi\", \"jeudi\", \"jeudi\", \"jeudi\", \"jeudi\", \"jeune\", \"jeune\", \"jeune\", \"jeune\", \"jeune\", \"jeune\", \"jeunesse\", \"jeunesse\", \"jeunesse\", \"jeunesse\", \"joueur\", \"joueur\", \"jour\", \"jour\", \"jour\", \"jour\", \"jour\", \"jour\", \"journalistique\", \"lair\", \"lair\", \"lair\", \"lair\", \"lallemagne\", \"lallemagne\", \"lallemagne\", \"lallemagne\", \"laurent\", \"limpact\", \"linvestigation\", \"lire\", \"lire\", \"lire\", \"lire\", \"lire\", \"lire\", \"lit\", \"lit\", \"lit\", \"lit\", \"lit\", \"lit\", \"loi\", \"loi\", \"loi\", \"loi\", \"loi\", \"long\", \"long\", \"long\", \"long\", \"long\", \"long\", \"lundi\", \"lundi\", \"lundi\", \"lundi\", \"lundi\", \"lutter\", \"lutter\", \"lutter\", \"lutter\", \"lutter\", \"luxembourg\", \"luxembourg\", \"luxembourg\", \"luxembourg\", \"luxembourg\", \"lyc\\u00e9e\", \"lyc\\u00e9e\", \"lyc\\u00e9e\", \"l\\u00e9galit\\u00e9\", \"l\\u00e9volution\", \"l\\u00e9volution\", \"l\\u00e9volution\", \"macron\", \"macron\", \"macron\", \"macron\", \"macron\", \"macron\", \"macrondestitution\", \"macrondestitution\", \"malade\", \"malade\", \"malade\", \"malade\", \"malade\", \"malade\", \"maladie\", \"maladie\", \"maladie\", \"maladie\", \"maladie\", \"maladie\", \"management\", \"manifestation\", \"manifestation\", \"manifestation\", \"manifestation\", \"manifestation\", \"masque\", \"masque\", \"masque\", \"masque\", \"masque\", \"masque\", \"mental\", \"mental\", \"mental\", \"mercredi\", \"mercredi\", \"mercredi\", \"mercredi\", \"mesure\", \"mesure\", \"mesure\", \"mesure\", \"mesure\", \"mesure\", \"mettre\", \"mettre\", \"mettre\", \"mettre\", \"mettre\", \"mettre\", \"mieux\", \"mieux\", \"mieux\", \"mieux\", \"mieux\", \"mieux\", \"million\", \"million\", \"million\", \"million\", \"million\", \"million\", \"ministre\", \"ministre\", \"ministre\", \"ministre\", \"ministre\", \"ministre\", \"minist\\u00e8re\", \"minist\\u00e8re\", \"minist\\u00e8re\", \"moderna\", \"moderna\", \"moderna\", \"monde\", \"monde\", \"monde\", \"monde\", \"monde\", \"monde\", \"montpellier\", \"mort\", \"mort\", \"mort\", \"mort\", \"mort\", \"mort\", \"mortalit\\u00e9\", \"mortalit\\u00e9\", \"mortalit\\u00e9\", \"mortalit\\u00e9\", \"mortalit\\u00e9\", \"mortalit\\u00e9\", \"moyenne\", \"moyenne\", \"moyenne\", \"mutation\", \"mutation\", \"mutation\", \"mutation\", \"m\\u00e9decin\", \"m\\u00e9decin\", \"m\\u00e9decin\", \"m\\u00e9decin\", \"m\\u00e9decin\", \"m\\u00e9decin\", \"m\\u00e9dical\", \"m\\u00e9dical\", \"m\\u00e9dical\", \"m\\u00e9dical\", \"m\\u00e9dical\", \"m\\u00e9dical\", \"m\\u00e9dicament\", \"m\\u00e9dicament\", \"m\\u00e9dicament\", \"m\\u00e9dicament\", \"m\\u00e9dicament\", \"n\", \"n\", \"n\", \"n\", \"n\", \"n\", \"nest\", \"nest\", \"nest\", \"nest\", \"nest\", \"nest\", \"nombre\", \"nombre\", \"nombre\", \"nombre\", \"nombre\", \"nombre\", \"non\", \"non\", \"non\", \"non\", \"non\", \"non\", \"noussavon\", \"num\\u00e9rique\", \"num\\u00e9rique\", \"num\\u00e9rique\", \"num\\u00e9rique\", \"nwo\", \"nwo\", \"obligatoire\", \"obligatoire\", \"obligatoire\", \"obligatoire\", \"obligatoire\", \"obligatoire\", \"olivier\", \"omicron\", \"omicron\", \"omicron\", \"omicron\", \"omicron\", \"omicron\", \"onu\", \"origine\", \"origine\", \"origine\", \"oui\", \"oui\", \"oui\", \"oui\", \"oui\", \"oui\", \"pand\\u00e9mie\", \"pand\\u00e9mie\", \"pand\\u00e9mie\", \"pand\\u00e9mie\", \"pand\\u00e9mie\", \"pand\\u00e9mie\", \"partir\", \"partir\", \"partir\", \"partir\", \"partir\", \"partir\", \"pasessentiel\", \"pass\", \"pass\", \"pass\", \"pass\", \"pass\", \"passeport\", \"passeport\", \"passeport\", \"passeport\", \"passer\", \"passer\", \"passer\", \"passer\", \"passer\", \"passer\", \"passsanitair\", \"passsanitair\", \"passsanitair\", \"passsanitair\", \"passsanitair\", \"passsanitaire\", \"passsanitaire\", \"passsanitaire\", \"passsanitaire\", \"passsanitaire\", \"passsanitaire\", \"patient\", \"patient\", \"patient\", \"patient\", \"patient\", \"pays\", \"pays\", \"pays\", \"pays\", \"pays\", \"pays\", \"perpignan\", \"perpignan\", \"personnel\", \"personnel\", \"personnel\", \"personnel\", \"personnel\", \"personnel\", \"peur\", \"peur\", \"peur\", \"peur\", \"peur\", \"peur\", \"pfizer\", \"pfizer\", \"pfizer\", \"pfizer\", \"pfizer\", \"pfizerbiontech\", \"pharmacie\", \"pharmacie\", \"pharmacie\", \"pharmacie\", \"pharmacie\", \"plan\", \"plan\", \"plan\", \"plan\", \"plan\", \"plan\", \"podcast\", \"podcast\", \"podcast\", \"point\", \"point\", \"point\", \"point\", \"point\", \"point\", \"politique\", \"politique\", \"politique\", \"politique\", \"politique\", \"politique\", \"porter\", \"porter\", \"porter\", \"porter\", \"porter\", \"positif\", \"positif\", \"positif\", \"positif\", \"positif\", \"positif\", \"positivit\\u00e9\", \"postcovid\", \"poste\", \"poste\", \"poste\", \"poste\", \"pouvoir\", \"pouvoir\", \"pouvoir\", \"pouvoir\", \"pouvoir\", \"pouvoir\", \"prendre\", \"prendre\", \"prendre\", \"prendre\", \"prendre\", \"prendre\", \"prise\", \"prise\", \"prise\", \"prise\", \"prise\", \"prise\", \"prison\", \"prison\", \"professionnel\", \"professionnel\", \"professionnel\", \"professionnel\", \"programme\", \"programme\", \"programme\", \"programme\", \"programme\", \"progresser\", \"projet\", \"projet\", \"projet\", \"projet\", \"projet\", \"projet\", \"prot\\u00e9ger\", \"prot\\u00e9ger\", \"prot\\u00e9ger\", \"prot\\u00e9ger\", \"prot\\u00e9ger\", \"prot\\u00e9ger\", \"provenance\", \"pr\\u00e9fet\", \"pr\\u00e9fet\", \"pr\\u00e9fet\", \"pr\\u00e9fet\", \"pr\\u00e9fet\", \"public\", \"public\", \"public\", \"public\", \"public\", \"public\", \"qu\", \"qu\", \"quebec\", \"quebec\", \"quebec\", \"quebec\", \"question\", \"question\", \"question\", \"question\", \"question\", \"question\", \"radio\", \"radio\", \"radio\", \"radio\", \"radio\", \"radio\", \"raoult\", \"raoult\", \"raoult\", \"raoult\", \"rappel\", \"rappel\", \"rappel\", \"rappel\", \"rappel\", \"rappel\", \"rdc\", \"rdc\", \"rdc\", \"recevoir\", \"recevoir\", \"recevoir\", \"recevoir\", \"recevoir\", \"recevoir\", \"relance\", \"relance\", \"rendezvou\", \"rendezvou\", \"rendezvou\", \"rendezvou\", \"replay\", \"reprendre\", \"reprendre\", \"reprendre\", \"reprendre\", \"reprendre\", \"reprendre\", \"resistance\", \"respecter\", \"respecter\", \"respecter\", \"respecter\", \"respecter\", \"restriction\", \"restriction\", \"restriction\", \"restriction\", \"restriction\", \"retenir\", \"retenir\", \"retenir\", \"retenir\", \"retenir\", \"retenir\", \"retraite\", \"retraite\", \"retraite\", \"retraite\", \"retrouver\", \"retrouver\", \"retrouver\", \"retrouver\", \"retrouver\", \"retrouver\", \"rouge\", \"rouge\", \"rouge\", \"rouge\", \"rouge\", \"r\\u00e9a\", \"r\\u00e9a\", \"r\\u00e9a\", \"r\\u00e9a\", \"r\\u00e9a\", \"r\\u00e9animation\", \"r\\u00e9animation\", \"r\\u00e9animation\", \"r\\u00e9animation\", \"r\\u00e9animation\", \"r\\u00e9animation\", \"r\\u00e9forme\", \"r\\u00e9f\\u00e9rence\", \"r\\u00e9ouverture\", \"r\\u00e9ouverture\", \"r\\u00e9ouverture\", \"r\\u00e9ouverture\", \"r\\u00e9pondre\", \"r\\u00e9pondre\", \"r\\u00e9pondre\", \"r\\u00e9pondre\", \"r\\u00e9pondre\", \"salari\\u00e9\", \"salari\\u00e9\", \"salari\\u00e9\", \"salle\", \"salle\", \"salle\", \"salle\", \"samedi\", \"samedi\", \"samedi\", \"samedi\", \"sanitaire\", \"sanitaire\", \"sanitaire\", \"sanitaire\", \"sanitaire\", \"sanitaire\", \"sanofi\", \"sant\\u00e9\", \"sant\\u00e9\", \"sant\\u00e9\", \"sant\\u00e9\", \"sant\\u00e9\", \"sant\\u00e9\", \"sarscov\", \"sarscov\", \"saturer\", \"saturer\", \"saturer\", \"saturer\", \"savoir\", \"savoir\", \"savoir\", \"savoir\", \"savoir\", \"savoir\", \"scolaire\", \"scolaire\", \"scolaire\", \"scolaire\", \"secondaire\", \"secondaire\", \"secondaire\", \"secondaire\", \"secondaire\", \"secteur\", \"secteur\", \"secteur\", \"secteur\", \"secteur\", \"semaine\", \"semaine\", \"semaine\", \"semaine\", \"semaine\", \"semaine\", \"service\", \"service\", \"service\", \"service\", \"service\", \"service\", \"situation\", \"situation\", \"situation\", \"situation\", \"situation\", \"situation\", \"social\", \"social\", \"social\", \"social\", \"social\", \"social\", \"socio\\u00e9conomique\", \"soignant\", \"soignant\", \"soignant\", \"soignant\", \"soignant\", \"soignant\", \"soin\", \"soin\", \"soin\", \"soin\", \"soin\", \"soutien\", \"soutien\", \"soutien\", \"soutien\", \"soutien\", \"spectacle\", \"spectacle\", \"sport\", \"sport\", \"sport\", \"sport\", \"sport\", \"stopcouvrefeu\", \"stopcouvrefeu\", \"stopdictaturesanitair\", \"stopdictaturesanitair\", \"strat\\u00e9gie\", \"strat\\u00e9gie\", \"strat\\u00e9gie\", \"strat\\u00e9gie\", \"strat\\u00e9gie\", \"strat\\u00e9gie\", \"sudafricain\", \"sudafricain\", \"sudafricain\", \"suspendre\", \"suspendre\", \"suspendre\", \"suspendre\", \"suspendre\", \"sympt\\u00f4me\", \"sympt\\u00f4me\", \"sympt\\u00f4me\", \"sympt\\u00f4me\", \"s\\u00e9n\\u00e9gal\", \"s\\u00e9n\\u00e9gal\", \"t\", \"tal\", \"tal\", \"taux\", \"taux\", \"taux\", \"taux\", \"teletravail\", \"teletravail\", \"temps\", \"temps\", \"temps\", \"temps\", \"temps\", \"temps\", \"test\", \"test\", \"test\", \"test\", \"test\", \"test\", \"tester\", \"tester\", \"tester\", \"tester\", \"tester\", \"tester\", \"toulouse\", \"toulouse\", \"travail\", \"travail\", \"travail\", \"travail\", \"travail\", \"travail\", \"trop\", \"trop\", \"trop\", \"trop\", \"trop\", \"trop\", \"tunisi\", \"tunisi\", \"tunisi\", \"twitter\", \"twitter\", \"twitter\", \"twitter\", \"twitter\", \"t\\u00e9l\\u00e9\", \"t\\u00e9l\\u00e9\", \"t\\u00e9l\\u00e9\", \"t\\u00e9l\\u00e9travail\", \"t\\u00e9l\\u00e9travail\", \"t\\u00e9l\\u00e9travail\", \"t\\u00e9l\\u00e9travail\", \"vaccin\", \"vaccin\", \"vaccin\", \"vaccin\", \"vaccin\", \"vaccin\", \"vaccination\", \"vaccination\", \"vaccination\", \"vaccination\", \"vaccination\", \"vaccination\", \"vaccinationcovid\", \"vaccinationcovid\", \"vaccinationcovid\", \"vaccinationcovid\", \"vaccinationobligatoir\", \"vaccinationobligatoir\", \"vaccinationobligatoir\", \"vaccinationobligatoir\", \"vaccinationobligatoir\", \"vaccinationobligatoir\", \"vacciner\", \"vacciner\", \"vacciner\", \"vacciner\", \"vacciner\", \"vacciner\", \"vaccinobligatoir\", \"vaccinobligatoir\", \"vague\", \"vague\", \"vague\", \"vague\", \"vague\", \"vague\", \"variant\", \"variant\", \"variant\", \"variant\", \"variant\", \"variant\", \"varier\", \"varier\", \"varier\", \"varier\", \"varier\", \"vie\", \"vie\", \"vie\", \"vie\", \"vie\", \"vie\", \"vigueur\", \"vigueur\", \"vigueur\", \"virus\", \"virus\", \"virus\", \"virus\", \"virus\", \"virus\", \"visite\", \"visite\", \"visite\", \"visite\", \"visite\", \"visite\", \"vivre\", \"vivre\", \"vivre\", \"vivre\", \"vivre\", \"vivre\", \"voir\", \"voir\", \"voir\", \"voir\", \"voir\", \"voir\", \"voire\", \"voire\", \"voire\", \"voire\", \"vol\", \"vol\", \"vol\", \"vol\", \"vouloir\", \"vouloir\", \"vouloir\", \"vouloir\", \"vouloir\", \"vouloir\", \"voyage\", \"voyage\", \"voyage\", \"voyage\", \"voyage\", \"voyageur\", \"voyageur\", \"voyageur\", \"v\\u00e9ran\", \"v\\u00e9ran\", \"v\\u00e9ran\", \"v\\u00e9ran\", \"v\\u00e9ran\", \"wuhan\", \"wuhan\", \"wuhan\", \"y\\u2019\", \"zemmour\", \"zemmour\", \"zemmour\", \"zemmour\", \"\\u00e9cole\", \"\\u00e9cole\", \"\\u00e9cole\", \"\\u00e9cole\", \"\\u00e9cole\", \"\\u00e9cole\", \"\\u00e9conomie\", \"\\u00e9conomie\", \"\\u00e9conomie\", \"\\u00e9conomie\", \"\\u00e9conomie\", \"\\u00e9conomique\", \"\\u00e9conomique\", \"\\u00e9conomique\", \"\\u00e9conomique\", \"\\u00e9conomique\", \"\\u00e9dition\", \"\\u00e9lev\\u00e9\", \"\\u00e9lev\\u00e9\", \"\\u00e9lev\\u00e9\", \"\\u00e9lev\\u00e9\", \"\\u00e9l\\u00e9ment\", \"\\u00e9l\\u00e9ment\", \"\\u00e9l\\u00e9ment\", \"\\u00e9l\\u00e9ment\", \"\\u00e9l\\u00e9ment\", \"\\u00e9mission\", \"\\u00e9mission\", \"\\u00e9tudiant\", \"\\u00e9tudiant\", \"\\u00e9tudiant\", \"\\u00e9tudiant\", \"\\u00e9tudiant\", \"\\u2066\", \"\\u2066\", \"\\u2066\", \"\\u2066\"]}, \"R\": 30, \"lambda.step\": 0.01, \"plot.opts\": {\"xlab\": \"PC1\", \"ylab\": \"PC2\"}, \"topic.order\": [6, 3, 1, 5, 2, 4]};\n",
       "\n",
       "function LDAvis_load_lib(url, callback){\n",
       "  var s = document.createElement('script');\n",
       "  s.src = url;\n",
       "  s.async = true;\n",
       "  s.onreadystatechange = s.onload = callback;\n",
       "  s.onerror = function(){console.warn(\"failed to load library \" + url);};\n",
       "  document.getElementsByTagName(\"head\")[0].appendChild(s);\n",
       "}\n",
       "\n",
       "if(typeof(LDAvis) !== \"undefined\"){\n",
       "   // already loaded: just create the visualization\n",
       "   !function(LDAvis){\n",
       "       new LDAvis(\"#\" + \"ldavis_el2227619143979895687557120401\", ldavis_el2227619143979895687557120401_data);\n",
       "   }(LDAvis);\n",
       "}else if(typeof define === \"function\" && define.amd){\n",
       "   // require.js is available: use it to load d3/LDAvis\n",
       "   require.config({paths: {d3: \"https://d3js.org/d3.v5\"}});\n",
       "   require([\"d3\"], function(d3){\n",
       "      window.d3 = d3;\n",
       "      LDAvis_load_lib(\"https://cdn.jsdelivr.net/gh/bmabey/pyLDAvis@3.3.1/pyLDAvis/js/ldavis.v3.0.0.js\", function(){\n",
       "        new LDAvis(\"#\" + \"ldavis_el2227619143979895687557120401\", ldavis_el2227619143979895687557120401_data);\n",
       "      });\n",
       "    });\n",
       "}else{\n",
       "    // require.js not available: dynamically load d3 & LDAvis\n",
       "    LDAvis_load_lib(\"https://d3js.org/d3.v5.js\", function(){\n",
       "         LDAvis_load_lib(\"https://cdn.jsdelivr.net/gh/bmabey/pyLDAvis@3.3.1/pyLDAvis/js/ldavis.v3.0.0.js\", function(){\n",
       "                 new LDAvis(\"#\" + \"ldavis_el2227619143979895687557120401\", ldavis_el2227619143979895687557120401_data);\n",
       "            })\n",
       "         });\n",
       "}\n",
       "</script>"
      ],
      "text/plain": [
       "PreparedData(topic_coordinates=              x         y  topics  cluster       Freq\n",
       "topic                                                \n",
       "5      0.141864 -0.010810       1        1  22.550221\n",
       "2      0.052407 -0.044734       2        1  17.186660\n",
       "0      0.079468 -0.158474       3        1  17.171070\n",
       "4      0.079919  0.216620       4        1  15.269585\n",
       "1     -0.141876 -0.019910       5        1  14.428739\n",
       "3     -0.211781  0.017307       6        1  13.393726, topic_info=            Term          Freq         Total Category  logprob  loglift\n",
       "39        vaccin  42215.000000  42215.000000  Default  30.0000  30.0000\n",
       "74   vaccination  25699.000000  25699.000000  Default  29.0000  29.0000\n",
       "123          cas  14639.000000  14639.000000  Default  28.0000  28.0000\n",
       "152        crise  10573.000000  10573.000000  Default  27.0000  27.0000\n",
       "419         dose   8407.000000   8407.000000  Default  26.0000  26.0000\n",
       "..           ...           ...           ...      ...      ...      ...\n",
       "121    situation   1812.853337   5175.353918   Topic6  -5.0093   0.9614\n",
       "378      dernier   1683.045350   4851.687353   Topic6  -5.0836   0.9517\n",
       "104       mettre   1692.573731   7822.635786   Topic6  -5.0779   0.4796\n",
       "45      pandémie   1564.200395   6701.066152   Topic6  -5.1568   0.5555\n",
       "228         test   1563.588597   8109.237175   Topic6  -5.1572   0.3644\n",
       "\n",
       "[434 rows x 6 columns], token_table=      Topic      Freq      Term\n",
       "term                           \n",
       "129       1  0.008630          \n",
       "129       2  0.027935          \n",
       "129       3  0.140132          \n",
       "129       4  0.271178          \n",
       "129       5  0.304565          \n",
       "...     ...       ...       ...\n",
       "657       6  0.001781  étudiant\n",
       "917       2  0.000644         ⁦\n",
       "917       3  0.000858         ⁦\n",
       "917       4  0.998100         ⁦\n",
       "917       5  0.000215         ⁦\n",
       "\n",
       "[1501 rows x 3 columns], R=30, lambda_step=0.01, plot_opts={'xlab': 'PC1', 'ylab': 'PC2'}, topic_order=[6, 3, 1, 5, 2, 4])"
      ]
     },
     "execution_count": 32,
     "metadata": {},
     "output_type": "execute_result"
    }
   ],
   "source": [
    "#Creating Topic Distance Visualization \n",
    "pyLDAvis.enable_notebook()\n",
    "pyLDAvis.gensim_models.prepare(base_model, corpus, id2word)"
   ]
  },
  {
   "cell_type": "markdown",
   "metadata": {},
   "source": [
    "#### **<span style=\"color:#8EA3EB\">4.2 Visualisation de l'évolution de la quantité de tweet</span>**"
   ]
  },
  {
   "cell_type": "markdown",
   "metadata": {},
   "source": [
    "##### **<span style=\"color:#6DEFA2\">4.2.1. Préparation de la viz</span>**"
   ]
  },
  {
   "cell_type": "code",
   "execution_count": 33,
   "metadata": {},
   "outputs": [],
   "source": [
    "# je crée une copie de mon Df\n",
    "tweet_ts = df_tweet.copy()"
   ]
  },
  {
   "cell_type": "code",
   "execution_count": 34,
   "metadata": {},
   "outputs": [],
   "source": [
    "# j'initialise des reglages pour une analyse de timeserie\n",
    "tweet_ts['Datetime'] = pd.to_datetime(tweet_ts['Datetime'])\n",
    "tweet_ts = pd.DataFrame(tweet_ts, index=tweet_ts.set_index('Datetime',inplace = True))\n",
    "\n",
    "# je groupe mes tweets par semaine\n",
    "tweet_ts_count = tweet_ts.groupby([pd.Grouper(freq='W')]).count()"
   ]
  },
  {
   "cell_type": "markdown",
   "metadata": {},
   "source": [
    "##### **<span style=\"color:#6DEFA2\">4.2.2. Visualisation</span>**"
   ]
  },
  {
   "cell_type": "code",
   "execution_count": 35,
   "metadata": {},
   "outputs": [
    {
     "name": "stderr",
     "output_type": "stream",
     "text": [
      "c:\\Users\\PEGON\\AppData\\Local\\Programs\\Python\\Python39\\lib\\site-packages\\seaborn\\rcmod.py:400: DeprecationWarning: distutils Version classes are deprecated. Use packaging.version instead.\n",
      "  if LooseVersion(mpl.__version__) >= \"3.0\":\n",
      "c:\\Users\\PEGON\\AppData\\Local\\Programs\\Python\\Python39\\lib\\site-packages\\setuptools\\_distutils\\version.py:351: DeprecationWarning: distutils Version classes are deprecated. Use packaging.version instead.\n",
      "  other = LooseVersion(other)\n"
     ]
    },
    {
     "data": {
      "text/plain": [
       "Text(0, 0.5, 'Nombre tweet')"
      ]
     },
     "execution_count": 35,
     "metadata": {},
     "output_type": "execute_result"
    },
    {
     "data": {
      "image/png": "[encoded data removed]",
      "text/plain": [
       "<Figure size 432x288 with 1 Axes>"
      ]
     },
     "metadata": {},
     "output_type": "display_data"
    }
   ],
   "source": [
    "sns.set_theme(style=\"darkgrid\")\n",
    "\n",
    "# création d'un graphique du nombre de tweet par jour pour voir l'évolution\n",
    "p = sns.lineplot(x=\"Datetime\", y=\"Text\", data=tweet_ts_count)\n",
    "p.set_xlabel(\"Jours\", fontsize = 20)\n",
    "p.set_ylabel(\"Nombre tweet\", fontsize = 20)"
   ]
  },
  {
   "cell_type": "markdown",
   "metadata": {},
   "source": [
    "`` il semble avoir des variations sur la quantité de tweet selon la période``\n",
    "\n",
    "Nous allons créer un graphique interactif, regroupant plusieurs groupe de Twittos ainsi que des annonces et moments importants de l'année 2021.\n",
    "\n",
    "Nous etudierons si ces variations ont un lien avec les annonces"
   ]
  },
  {
   "cell_type": "markdown",
   "metadata": {},
   "source": [
    "#### **<span style=\"color:#8EA3EB\">4.3 Visualisation de l'évolution par groupe de Twittos</span>**"
   ]
  },
  {
   "cell_type": "markdown",
   "metadata": {},
   "source": [
    "##### **<span style=\"color:#6DEFA2\">4.3.1. Préparation de la viz</span>**"
   ]
  },
  {
   "cell_type": "code",
   "execution_count": 38,
   "metadata": {},
   "outputs": [],
   "source": [
    "# création de Dataframe pour les listes que nous avons créées précédemment\n",
    "cols_sup = ['Unnamed: 0']\n",
    "\n",
    "df_tweets_base = pd.read_csv(r'Tweets_scrapé_initial.csv', header=0)\n",
    "df_tweets_base = pd.DataFrame(df_tweets_base)\n",
    "df_tweets_base = df_tweets_base.drop(columns=cols_sup)\n",
    "\n",
    "df_tweets_gouv = pd.read_csv(r'Tweets_scrapé_gouv.csv', header=0)\n",
    "df_tweets_gouv = pd.DataFrame(df_tweets_gouv)\n",
    "df_tweets_gouv = df_tweets_gouv.drop(columns=cols_sup)\n",
    "\n",
    "df_tweets_influence = pd.read_csv(r'Tweets_scrapé_influenceurs.csv', header=0)\n",
    "df_tweets_influence = pd.DataFrame(df_tweets_influence)\n",
    "df_tweets_influence = df_tweets_influence.drop(columns=cols_sup)\n",
    "\n",
    "df_tweets_like = pd.read_csv(r'Tweets_scrapé_like.csv', header=0)\n",
    "df_tweets_like = pd.DataFrame(df_tweets_like)\n",
    "df_tweets_like = df_tweets_like.drop(columns=cols_sup)"
   ]
  },
  {
   "cell_type": "code",
   "execution_count": 39,
   "metadata": {},
   "outputs": [],
   "source": [
    "# création d'une copie de ces DataFrame pour l'utilisation dans le graphique\n",
    "df_fig_base = df_tweets_base.copy()\n",
    "df_fig_like = df_tweets_like.copy()\n",
    "df_fig_influence = df_tweets_influence.copy()\n",
    "df_fig_gouv = df_tweets_gouv.copy()"
   ]
  },
  {
   "cell_type": "code",
   "execution_count": 40,
   "metadata": {},
   "outputs": [],
   "source": [
    "# groupement par semaine et initialisation des reglages de timeseries\n",
    "\n",
    "# TweetBase\n",
    "df_fig_base['Datetime'] = pd.to_datetime(df_fig_base['Datetime'])\n",
    "df_fig_base = pd.DataFrame(df_fig_base, index=df_fig_base.set_index('Datetime',inplace = True))\n",
    "df_fig_base_ok = df_fig_base.groupby([pd.Grouper(freq='W')]).count()\n",
    "# TweetGouv\n",
    "df_fig_gouv['Datetime'] = pd.to_datetime(df_fig_gouv['Datetime'])\n",
    "df_fig_gouv = pd.DataFrame(df_fig_gouv, index=df_fig_gouv.set_index('Datetime',inplace = True))\n",
    "df_fig_gouv_ok = df_fig_gouv.groupby([pd.Grouper(freq='W')]).count()\n",
    "# TweetBuzz\n",
    "df_fig_like['Datetime'] = pd.to_datetime(df_fig_like['Datetime'])\n",
    "df_fig_like = pd.DataFrame(df_fig_like, index=df_fig_like.set_index('Datetime',inplace = True))\n",
    "df_fig_like_ok = df_fig_like.groupby([pd.Grouper(freq='W')]).count()\n",
    "# TweetInfluence\n",
    "df_fig_influence['Datetime'] = pd.to_datetime(df_fig_influence['Datetime'])\n",
    "df_fig_influence = pd.DataFrame(df_fig_influence, index=df_fig_influence.set_index('Datetime',inplace = True))\n",
    "df_fig_influence_ok = df_fig_influence.groupby([pd.Grouper(freq='W')]).count()"
   ]
  },
  {
   "cell_type": "code",
   "execution_count": 41,
   "metadata": {},
   "outputs": [],
   "source": [
    "# passage en string des counts de la colonne utilisées (utiles pour le graphique suivant)\n",
    "df_fig_gouv_ok['Text'] = df_fig_gouv_ok['Text'].astype(str)\n",
    "df_fig_base_ok['Text'] = df_fig_base_ok['Text'].astype(str)\n",
    "df_fig_like_ok['Text'] = df_fig_like_ok['Text'].astype(str)\n",
    "df_fig_influence_ok['Text'] = df_fig_influence_ok['Text'].astype(str)\n",
    "\n",
    "# passage en string de l'index datetime (utiles pour le graphique suivant)\n",
    "df_fig_gouv_ok.index = df_fig_gouv_ok.index.astype(str)\n",
    "df_fig_base_ok.index = df_fig_base_ok.index.astype(str)\n",
    "df_fig_like_ok.index = df_fig_like_ok.index.astype(str)\n",
    "df_fig_influence_ok.index = df_fig_influence_ok.index.astype(str)"
   ]
  },
  {
   "cell_type": "code",
   "execution_count": 42,
   "metadata": {},
   "outputs": [],
   "source": [
    "# création de liste pour récupérer les valeurs (chiffre et date en string) de chaque groupe de Twittos\n",
    "base = list(df_fig_base_ok.Text)\n",
    "basedate = list(df_fig_base_ok.index)\n",
    "\n",
    "like = list(df_fig_like_ok.Text)\n",
    "likedate = list(df_fig_like_ok.index)\n",
    "\n",
    "influence = list(df_fig_influence_ok.Text)\n",
    "influencedate = list(df_fig_influence_ok.index)\n",
    "\n",
    "basegouv = list(df_fig_gouv_ok.index)\n",
    "gouv = list(df_fig_gouv_ok.Text)"
   ]
  },
  {
   "cell_type": "markdown",
   "metadata": {},
   "source": [
    "##### **<span style=\"color:#6DEFA2\">4.3.2. Visualisation</span>**"
   ]
  },
  {
   "cell_type": "code",
   "execution_count": 43,
   "metadata": {},
   "outputs": [
    {
     "name": "stderr",
     "output_type": "stream",
     "text": [
      "c:\\Users\\PEGON\\AppData\\Local\\Programs\\Python\\Python39\\lib\\site-packages\\plotly\\io\\_renderers.py:396: DeprecationWarning:\n",
      "\n",
      "distutils Version classes are deprecated. Use packaging.version instead.\n",
      "\n",
      "c:\\Users\\PEGON\\AppData\\Local\\Programs\\Python\\Python39\\lib\\site-packages\\plotly\\io\\_renderers.py:396: DeprecationWarning:\n",
      "\n",
      "distutils Version classes are deprecated. Use packaging.version instead.\n",
      "\n"
     ]
    },
    {
     "data": {
      "application/vnd.plotly.v1+json": {
       "config": {
        "plotlyServerURL": "https://plot.ly"
       },
       "data": [
        {
         "hoverinfo": "name+x+text",
         "line": {
          "width": 0.5
         },
         "marker": {
          "size": 8
         },
         "mode": "lines+markers",
         "name": "TweetBase",
         "showlegend": false,
         "text": [
          "1993",
          "5302",
          "5852",
          "5687",
          "6469",
          "4923",
          "4372",
          "4239",
          "4987",
          "4808",
          "4397",
          "5911",
          "6093",
          "5538",
          "4183",
          "4567",
          "4230",
          "3851",
          "3342",
          "3009",
          "3007",
          "2731",
          "2618",
          "2607",
          "2413",
          "2455",
          "3159",
          "3931",
          "4999",
          "5257",
          "4288",
          "4263",
          "4065",
          "3567",
          "3730",
          "3238",
          "2939",
          "2744",
          "2328",
          "2383",
          "2164",
          "2020",
          "2223",
          "2153",
          "2416",
          "3165",
          "3997",
          "5403",
          "4233",
          "4058",
          "4729",
          "5388",
          "3705"
         ],
         "type": "scatter",
         "x": [
          "2021-01-03 00:00:00+00:00",
          "2021-01-10 00:00:00+00:00",
          "2021-01-17 00:00:00+00:00",
          "2021-01-24 00:00:00+00:00",
          "2021-01-31 00:00:00+00:00",
          "2021-02-07 00:00:00+00:00",
          "2021-02-14 00:00:00+00:00",
          "2021-02-21 00:00:00+00:00",
          "2021-02-28 00:00:00+00:00",
          "2021-03-07 00:00:00+00:00",
          "2021-03-14 00:00:00+00:00",
          "2021-03-21 00:00:00+00:00",
          "2021-03-28 00:00:00+00:00",
          "2021-04-04 00:00:00+00:00",
          "2021-04-11 00:00:00+00:00",
          "2021-04-18 00:00:00+00:00",
          "2021-04-25 00:00:00+00:00",
          "2021-05-02 00:00:00+00:00",
          "2021-05-09 00:00:00+00:00",
          "2021-05-16 00:00:00+00:00",
          "2021-05-23 00:00:00+00:00",
          "2021-05-30 00:00:00+00:00",
          "2021-06-06 00:00:00+00:00",
          "2021-06-13 00:00:00+00:00",
          "2021-06-20 00:00:00+00:00",
          "2021-06-27 00:00:00+00:00",
          "2021-07-04 00:00:00+00:00",
          "2021-07-11 00:00:00+00:00",
          "2021-07-18 00:00:00+00:00",
          "2021-07-25 00:00:00+00:00",
          "2021-08-01 00:00:00+00:00",
          "2021-08-08 00:00:00+00:00",
          "2021-08-15 00:00:00+00:00",
          "2021-08-22 00:00:00+00:00",
          "2021-08-29 00:00:00+00:00",
          "2021-09-05 00:00:00+00:00",
          "2021-09-12 00:00:00+00:00",
          "2021-09-19 00:00:00+00:00",
          "2021-09-26 00:00:00+00:00",
          "2021-10-03 00:00:00+00:00",
          "2021-10-10 00:00:00+00:00",
          "2021-10-17 00:00:00+00:00",
          "2021-10-24 00:00:00+00:00",
          "2021-10-31 00:00:00+00:00",
          "2021-11-07 00:00:00+00:00",
          "2021-11-14 00:00:00+00:00",
          "2021-11-21 00:00:00+00:00",
          "2021-11-28 00:00:00+00:00",
          "2021-12-05 00:00:00+00:00",
          "2021-12-12 00:00:00+00:00",
          "2021-12-19 00:00:00+00:00",
          "2021-12-26 00:00:00+00:00",
          "2022-01-02 00:00:00+00:00"
         ],
         "y": [
          "1993",
          "5302",
          "5852",
          "5687",
          "6469",
          "4923",
          "4372",
          "4239",
          "4987",
          "4808",
          "4397",
          "5911",
          "6093",
          "5538",
          "4183",
          "4567",
          "4230",
          "3851",
          "3342",
          "3009",
          "3007",
          "2731",
          "2618",
          "2607",
          "2413",
          "2455",
          "3159",
          "3931",
          "4999",
          "5257",
          "4288",
          "4263",
          "4065",
          "3567",
          "3730",
          "3238",
          "2939",
          "2744",
          "2328",
          "2383",
          "2164",
          "2020",
          "2223",
          "2153",
          "2416",
          "3165",
          "3997",
          "5403",
          "4233",
          "4058",
          "4729",
          "5388",
          "3705"
         ],
         "yaxis": "y"
        },
        {
         "hoverinfo": "name+x+text",
         "line": {
          "width": 0.5
         },
         "marker": {
          "size": 8
         },
         "mode": "lines+markers",
         "name": "TweetGouv",
         "showlegend": false,
         "text": [
          "1",
          "8",
          "6",
          "2",
          "1",
          "3",
          "0",
          "2",
          "6",
          "0",
          "2",
          "5",
          "4",
          "6",
          "10",
          "4",
          "5",
          "2",
          "7",
          "9",
          "2",
          "1",
          "4",
          "2",
          "2",
          "5",
          "3",
          "3",
          "7",
          "3",
          "4",
          "6",
          "8",
          "8",
          "3",
          "3",
          "2",
          "4",
          "7",
          "8",
          "3",
          "4",
          "3",
          "3",
          "0",
          "4",
          "3",
          "5",
          "3",
          "1",
          "6",
          "9",
          "4"
         ],
         "type": "scatter",
         "x": [
          "2021-01-03 00:00:00+00:00",
          "2021-01-10 00:00:00+00:00",
          "2021-01-17 00:00:00+00:00",
          "2021-01-24 00:00:00+00:00",
          "2021-01-31 00:00:00+00:00",
          "2021-02-07 00:00:00+00:00",
          "2021-02-14 00:00:00+00:00",
          "2021-02-21 00:00:00+00:00",
          "2021-02-28 00:00:00+00:00",
          "2021-03-07 00:00:00+00:00",
          "2021-03-14 00:00:00+00:00",
          "2021-03-21 00:00:00+00:00",
          "2021-03-28 00:00:00+00:00",
          "2021-04-04 00:00:00+00:00",
          "2021-04-11 00:00:00+00:00",
          "2021-04-18 00:00:00+00:00",
          "2021-04-25 00:00:00+00:00",
          "2021-05-02 00:00:00+00:00",
          "2021-05-09 00:00:00+00:00",
          "2021-05-16 00:00:00+00:00",
          "2021-05-23 00:00:00+00:00",
          "2021-05-30 00:00:00+00:00",
          "2021-06-06 00:00:00+00:00",
          "2021-06-13 00:00:00+00:00",
          "2021-06-20 00:00:00+00:00",
          "2021-06-27 00:00:00+00:00",
          "2021-07-04 00:00:00+00:00",
          "2021-07-11 00:00:00+00:00",
          "2021-07-18 00:00:00+00:00",
          "2021-07-25 00:00:00+00:00",
          "2021-08-01 00:00:00+00:00",
          "2021-08-08 00:00:00+00:00",
          "2021-08-15 00:00:00+00:00",
          "2021-08-22 00:00:00+00:00",
          "2021-08-29 00:00:00+00:00",
          "2021-09-05 00:00:00+00:00",
          "2021-09-12 00:00:00+00:00",
          "2021-09-19 00:00:00+00:00",
          "2021-09-26 00:00:00+00:00",
          "2021-10-03 00:00:00+00:00",
          "2021-10-10 00:00:00+00:00",
          "2021-10-17 00:00:00+00:00",
          "2021-10-24 00:00:00+00:00",
          "2021-10-31 00:00:00+00:00",
          "2021-11-07 00:00:00+00:00",
          "2021-11-14 00:00:00+00:00",
          "2021-11-21 00:00:00+00:00",
          "2021-11-28 00:00:00+00:00",
          "2021-12-05 00:00:00+00:00",
          "2021-12-12 00:00:00+00:00",
          "2021-12-19 00:00:00+00:00",
          "2021-12-26 00:00:00+00:00",
          "2022-01-02 00:00:00+00:00"
         ],
         "y": [
          "1",
          "8",
          "6",
          "2",
          "1",
          "3",
          "0",
          "2",
          "6",
          "0",
          "2",
          "5",
          "4",
          "6",
          "10",
          "4",
          "5",
          "2",
          "7",
          "9",
          "2",
          "1",
          "4",
          "2",
          "2",
          "5",
          "3",
          "3",
          "7",
          "3",
          "4",
          "6",
          "8",
          "8",
          "3",
          "3",
          "2",
          "4",
          "7",
          "8",
          "3",
          "4",
          "3",
          "3",
          "0",
          "4",
          "3",
          "5",
          "3",
          "1",
          "6",
          "9",
          "4"
         ],
         "yaxis": "y2"
        },
        {
         "hoverinfo": "name+x+text",
         "line": {
          "width": 0.5
         },
         "marker": {
          "size": 8
         },
         "mode": "lines+markers",
         "name": "TweetVerifié",
         "showlegend": false,
         "text": [
          "96",
          "472",
          "618",
          "573",
          "535",
          "429",
          "443",
          "470",
          "445",
          "465",
          "435",
          "545",
          "613",
          "505",
          "413",
          "429",
          "384",
          "410",
          "388",
          "314",
          "376",
          "340",
          "292",
          "300",
          "295",
          "293",
          "311",
          "395",
          "445",
          "472",
          "319",
          "342",
          "306",
          "242",
          "276",
          "286",
          "250",
          "273",
          "216",
          "224",
          "167",
          "198",
          "184",
          "211",
          "205",
          "286",
          "312",
          "493",
          "349",
          "337",
          "412",
          "496",
          "292"
         ],
         "type": "scatter",
         "x": [
          "2021-01-03 00:00:00+00:00",
          "2021-01-10 00:00:00+00:00",
          "2021-01-17 00:00:00+00:00",
          "2021-01-24 00:00:00+00:00",
          "2021-01-31 00:00:00+00:00",
          "2021-02-07 00:00:00+00:00",
          "2021-02-14 00:00:00+00:00",
          "2021-02-21 00:00:00+00:00",
          "2021-02-28 00:00:00+00:00",
          "2021-03-07 00:00:00+00:00",
          "2021-03-14 00:00:00+00:00",
          "2021-03-21 00:00:00+00:00",
          "2021-03-28 00:00:00+00:00",
          "2021-04-04 00:00:00+00:00",
          "2021-04-11 00:00:00+00:00",
          "2021-04-18 00:00:00+00:00",
          "2021-04-25 00:00:00+00:00",
          "2021-05-02 00:00:00+00:00",
          "2021-05-09 00:00:00+00:00",
          "2021-05-16 00:00:00+00:00",
          "2021-05-23 00:00:00+00:00",
          "2021-05-30 00:00:00+00:00",
          "2021-06-06 00:00:00+00:00",
          "2021-06-13 00:00:00+00:00",
          "2021-06-20 00:00:00+00:00",
          "2021-06-27 00:00:00+00:00",
          "2021-07-04 00:00:00+00:00",
          "2021-07-11 00:00:00+00:00",
          "2021-07-18 00:00:00+00:00",
          "2021-07-25 00:00:00+00:00",
          "2021-08-01 00:00:00+00:00",
          "2021-08-08 00:00:00+00:00",
          "2021-08-15 00:00:00+00:00",
          "2021-08-22 00:00:00+00:00",
          "2021-08-29 00:00:00+00:00",
          "2021-09-05 00:00:00+00:00",
          "2021-09-12 00:00:00+00:00",
          "2021-09-19 00:00:00+00:00",
          "2021-09-26 00:00:00+00:00",
          "2021-10-03 00:00:00+00:00",
          "2021-10-10 00:00:00+00:00",
          "2021-10-17 00:00:00+00:00",
          "2021-10-24 00:00:00+00:00",
          "2021-10-31 00:00:00+00:00",
          "2021-11-07 00:00:00+00:00",
          "2021-11-14 00:00:00+00:00",
          "2021-11-21 00:00:00+00:00",
          "2021-11-28 00:00:00+00:00",
          "2021-12-05 00:00:00+00:00",
          "2021-12-12 00:00:00+00:00",
          "2021-12-19 00:00:00+00:00",
          "2021-12-26 00:00:00+00:00",
          "2022-01-02 00:00:00+00:00"
         ],
         "y": [
          "96",
          "472",
          "618",
          "573",
          "535",
          "429",
          "443",
          "470",
          "445",
          "465",
          "435",
          "545",
          "613",
          "505",
          "413",
          "429",
          "384",
          "410",
          "388",
          "314",
          "376",
          "340",
          "292",
          "300",
          "295",
          "293",
          "311",
          "395",
          "445",
          "472",
          "319",
          "342",
          "306",
          "242",
          "276",
          "286",
          "250",
          "273",
          "216",
          "224",
          "167",
          "198",
          "184",
          "211",
          "205",
          "286",
          "312",
          "493",
          "349",
          "337",
          "412",
          "496",
          "292"
         ],
         "yaxis": "y3"
        }
       ],
       "layout": {
        "dragmode": "zoom",
        "height": 600,
        "hovermode": "x",
        "legend": {
         "traceorder": "reversed"
        },
        "margin": {
         "b": 100,
         "t": 100
        },
        "shapes": [
         {
          "fillcolor": "rgba(242,220,37,0.2)",
          "line": {
           "width": 0
          },
          "type": "rect",
          "x0": "2021-01-13",
          "x1": "2021-01-31",
          "xref": "x",
          "y0": 0,
          "y1": 1,
          "yref": "paper"
         },
         {
          "fillcolor": "rgba(234,92,26,0.2)",
          "line": {
           "width": 0
          },
          "type": "rect",
          "x0": "2021-03-20",
          "x1": "2021-04-03",
          "xref": "x",
          "y0": 0,
          "y1": 1,
          "yref": "paper"
         },
         {
          "fillcolor": "rgba(164,6,62,0.2)",
          "line": {
           "width": 0
          },
          "type": "rect",
          "x0": "2021-04-03",
          "x1": "2021-04-30",
          "xref": "x",
          "y0": 0,
          "y1": 1,
          "yref": "paper"
         },
         {
          "fillcolor": "rgba(234,92,26,0.2)",
          "line": {
           "width": 0
          },
          "type": "rect",
          "x0": "2021-04-30",
          "x1": "2021-06-10",
          "xref": "x",
          "y0": 0,
          "y1": 1,
          "yref": "paper"
         },
         {
          "fillcolor": "rgba(42,183,55,0.2)",
          "line": {
           "width": 0
          },
          "type": "rect",
          "x0": "2021-07-11",
          "x1": "2021-08-09",
          "xref": "x",
          "y0": 0,
          "y1": 1,
          "yref": "paper"
         },
         {
          "fillcolor": "rgba(42,112,183,0.2)",
          "line": {
           "width": 0
          },
          "type": "rect",
          "x0": "2021-11-07",
          "x1": "2021-11-30",
          "xref": "x",
          "y0": 0,
          "y1": 1,
          "yref": "paper"
         },
         {
          "fillcolor": "rgba(14,25,172,0.2)",
          "line": {
           "width": 0
          },
          "type": "rect",
          "x0": "2021-12-16",
          "x1": "2021-12-31",
          "xref": "x",
          "y0": 0,
          "y1": 1,
          "yref": "paper"
         }
        ],
        "template": {
         "data": {
          "bar": [
           {
            "error_x": {
             "color": "#2a3f5f"
            },
            "error_y": {
             "color": "#2a3f5f"
            },
            "marker": {
             "line": {
              "color": "white",
              "width": 0.5
             },
             "pattern": {
              "fillmode": "overlay",
              "size": 10,
              "solidity": 0.2
             }
            },
            "type": "bar"
           }
          ],
          "barpolar": [
           {
            "marker": {
             "line": {
              "color": "white",
              "width": 0.5
             },
             "pattern": {
              "fillmode": "overlay",
              "size": 10,
              "solidity": 0.2
             }
            },
            "type": "barpolar"
           }
          ],
          "carpet": [
           {
            "aaxis": {
             "endlinecolor": "#2a3f5f",
             "gridcolor": "#C8D4E3",
             "linecolor": "#C8D4E3",
             "minorgridcolor": "#C8D4E3",
             "startlinecolor": "#2a3f5f"
            },
            "baxis": {
             "endlinecolor": "#2a3f5f",
             "gridcolor": "#C8D4E3",
             "linecolor": "#C8D4E3",
             "minorgridcolor": "#C8D4E3",
             "startlinecolor": "#2a3f5f"
            },
            "type": "carpet"
           }
          ],
          "choropleth": [
           {
            "colorbar": {
             "outlinewidth": 0,
             "ticks": ""
            },
            "type": "choropleth"
           }
          ],
          "contour": [
           {
            "colorbar": {
             "outlinewidth": 0,
             "ticks": ""
            },
            "colorscale": [
             [
              0,
              "#0d0887"
             ],
             [
              0.1111111111111111,
              "#46039f"
             ],
             [
              0.2222222222222222,
              "#7201a8"
             ],
             [
              0.3333333333333333,
              "#9c179e"
             ],
             [
              0.4444444444444444,
              "#bd3786"
             ],
             [
              0.5555555555555556,
              "#d8576b"
             ],
             [
              0.6666666666666666,
              "#ed7953"
             ],
             [
              0.7777777777777778,
              "#fb9f3a"
             ],
             [
              0.8888888888888888,
              "#fdca26"
             ],
             [
              1,
              "#f0f921"
             ]
            ],
            "type": "contour"
           }
          ],
          "contourcarpet": [
           {
            "colorbar": {
             "outlinewidth": 0,
             "ticks": ""
            },
            "type": "contourcarpet"
           }
          ],
          "heatmap": [
           {
            "colorbar": {
             "outlinewidth": 0,
             "ticks": ""
            },
            "colorscale": [
             [
              0,
              "#0d0887"
             ],
             [
              0.1111111111111111,
              "#46039f"
             ],
             [
              0.2222222222222222,
              "#7201a8"
             ],
             [
              0.3333333333333333,
              "#9c179e"
             ],
             [
              0.4444444444444444,
              "#bd3786"
             ],
             [
              0.5555555555555556,
              "#d8576b"
             ],
             [
              0.6666666666666666,
              "#ed7953"
             ],
             [
              0.7777777777777778,
              "#fb9f3a"
             ],
             [
              0.8888888888888888,
              "#fdca26"
             ],
             [
              1,
              "#f0f921"
             ]
            ],
            "type": "heatmap"
           }
          ],
          "heatmapgl": [
           {
            "colorbar": {
             "outlinewidth": 0,
             "ticks": ""
            },
            "colorscale": [
             [
              0,
              "#0d0887"
             ],
             [
              0.1111111111111111,
              "#46039f"
             ],
             [
              0.2222222222222222,
              "#7201a8"
             ],
             [
              0.3333333333333333,
              "#9c179e"
             ],
             [
              0.4444444444444444,
              "#bd3786"
             ],
             [
              0.5555555555555556,
              "#d8576b"
             ],
             [
              0.6666666666666666,
              "#ed7953"
             ],
             [
              0.7777777777777778,
              "#fb9f3a"
             ],
             [
              0.8888888888888888,
              "#fdca26"
             ],
             [
              1,
              "#f0f921"
             ]
            ],
            "type": "heatmapgl"
           }
          ],
          "histogram": [
           {
            "marker": {
             "pattern": {
              "fillmode": "overlay",
              "size": 10,
              "solidity": 0.2
             }
            },
            "type": "histogram"
           }
          ],
          "histogram2d": [
           {
            "colorbar": {
             "outlinewidth": 0,
             "ticks": ""
            },
            "colorscale": [
             [
              0,
              "#0d0887"
             ],
             [
              0.1111111111111111,
              "#46039f"
             ],
             [
              0.2222222222222222,
              "#7201a8"
             ],
             [
              0.3333333333333333,
              "#9c179e"
             ],
             [
              0.4444444444444444,
              "#bd3786"
             ],
             [
              0.5555555555555556,
              "#d8576b"
             ],
             [
              0.6666666666666666,
              "#ed7953"
             ],
             [
              0.7777777777777778,
              "#fb9f3a"
             ],
             [
              0.8888888888888888,
              "#fdca26"
             ],
             [
              1,
              "#f0f921"
             ]
            ],
            "type": "histogram2d"
           }
          ],
          "histogram2dcontour": [
           {
            "colorbar": {
             "outlinewidth": 0,
             "ticks": ""
            },
            "colorscale": [
             [
              0,
              "#0d0887"
             ],
             [
              0.1111111111111111,
              "#46039f"
             ],
             [
              0.2222222222222222,
              "#7201a8"
             ],
             [
              0.3333333333333333,
              "#9c179e"
             ],
             [
              0.4444444444444444,
              "#bd3786"
             ],
             [
              0.5555555555555556,
              "#d8576b"
             ],
             [
              0.6666666666666666,
              "#ed7953"
             ],
             [
              0.7777777777777778,
              "#fb9f3a"
             ],
             [
              0.8888888888888888,
              "#fdca26"
             ],
             [
              1,
              "#f0f921"
             ]
            ],
            "type": "histogram2dcontour"
           }
          ],
          "mesh3d": [
           {
            "colorbar": {
             "outlinewidth": 0,
             "ticks": ""
            },
            "type": "mesh3d"
           }
          ],
          "parcoords": [
           {
            "line": {
             "colorbar": {
              "outlinewidth": 0,
              "ticks": ""
             }
            },
            "type": "parcoords"
           }
          ],
          "pie": [
           {
            "automargin": true,
            "type": "pie"
           }
          ],
          "scatter": [
           {
            "marker": {
             "colorbar": {
              "outlinewidth": 0,
              "ticks": ""
             }
            },
            "type": "scatter"
           }
          ],
          "scatter3d": [
           {
            "line": {
             "colorbar": {
              "outlinewidth": 0,
              "ticks": ""
             }
            },
            "marker": {
             "colorbar": {
              "outlinewidth": 0,
              "ticks": ""
             }
            },
            "type": "scatter3d"
           }
          ],
          "scattercarpet": [
           {
            "marker": {
             "colorbar": {
              "outlinewidth": 0,
              "ticks": ""
             }
            },
            "type": "scattercarpet"
           }
          ],
          "scattergeo": [
           {
            "marker": {
             "colorbar": {
              "outlinewidth": 0,
              "ticks": ""
             }
            },
            "type": "scattergeo"
           }
          ],
          "scattergl": [
           {
            "marker": {
             "colorbar": {
              "outlinewidth": 0,
              "ticks": ""
             }
            },
            "type": "scattergl"
           }
          ],
          "scattermapbox": [
           {
            "marker": {
             "colorbar": {
              "outlinewidth": 0,
              "ticks": ""
             }
            },
            "type": "scattermapbox"
           }
          ],
          "scatterpolar": [
           {
            "marker": {
             "colorbar": {
              "outlinewidth": 0,
              "ticks": ""
             }
            },
            "type": "scatterpolar"
           }
          ],
          "scatterpolargl": [
           {
            "marker": {
             "colorbar": {
              "outlinewidth": 0,
              "ticks": ""
             }
            },
            "type": "scatterpolargl"
           }
          ],
          "scatterternary": [
           {
            "marker": {
             "colorbar": {
              "outlinewidth": 0,
              "ticks": ""
             }
            },
            "type": "scatterternary"
           }
          ],
          "surface": [
           {
            "colorbar": {
             "outlinewidth": 0,
             "ticks": ""
            },
            "colorscale": [
             [
              0,
              "#0d0887"
             ],
             [
              0.1111111111111111,
              "#46039f"
             ],
             [
              0.2222222222222222,
              "#7201a8"
             ],
             [
              0.3333333333333333,
              "#9c179e"
             ],
             [
              0.4444444444444444,
              "#bd3786"
             ],
             [
              0.5555555555555556,
              "#d8576b"
             ],
             [
              0.6666666666666666,
              "#ed7953"
             ],
             [
              0.7777777777777778,
              "#fb9f3a"
             ],
             [
              0.8888888888888888,
              "#fdca26"
             ],
             [
              1,
              "#f0f921"
             ]
            ],
            "type": "surface"
           }
          ],
          "table": [
           {
            "cells": {
             "fill": {
              "color": "#EBF0F8"
             },
             "line": {
              "color": "white"
             }
            },
            "header": {
             "fill": {
              "color": "#C8D4E3"
             },
             "line": {
              "color": "white"
             }
            },
            "type": "table"
           }
          ]
         },
         "layout": {
          "annotationdefaults": {
           "arrowcolor": "#2a3f5f",
           "arrowhead": 0,
           "arrowwidth": 1
          },
          "autotypenumbers": "strict",
          "coloraxis": {
           "colorbar": {
            "outlinewidth": 0,
            "ticks": ""
           }
          },
          "colorscale": {
           "diverging": [
            [
             0,
             "#8e0152"
            ],
            [
             0.1,
             "#c51b7d"
            ],
            [
             0.2,
             "#de77ae"
            ],
            [
             0.3,
             "#f1b6da"
            ],
            [
             0.4,
             "#fde0ef"
            ],
            [
             0.5,
             "#f7f7f7"
            ],
            [
             0.6,
             "#e6f5d0"
            ],
            [
             0.7,
             "#b8e186"
            ],
            [
             0.8,
             "#7fbc41"
            ],
            [
             0.9,
             "#4d9221"
            ],
            [
             1,
             "#276419"
            ]
           ],
           "sequential": [
            [
             0,
             "#0d0887"
            ],
            [
             0.1111111111111111,
             "#46039f"
            ],
            [
             0.2222222222222222,
             "#7201a8"
            ],
            [
             0.3333333333333333,
             "#9c179e"
            ],
            [
             0.4444444444444444,
             "#bd3786"
            ],
            [
             0.5555555555555556,
             "#d8576b"
            ],
            [
             0.6666666666666666,
             "#ed7953"
            ],
            [
             0.7777777777777778,
             "#fb9f3a"
            ],
            [
             0.8888888888888888,
             "#fdca26"
            ],
            [
             1,
             "#f0f921"
            ]
           ],
           "sequentialminus": [
            [
             0,
             "#0d0887"
            ],
            [
             0.1111111111111111,
             "#46039f"
            ],
            [
             0.2222222222222222,
             "#7201a8"
            ],
            [
             0.3333333333333333,
             "#9c179e"
            ],
            [
             0.4444444444444444,
             "#bd3786"
            ],
            [
             0.5555555555555556,
             "#d8576b"
            ],
            [
             0.6666666666666666,
             "#ed7953"
            ],
            [
             0.7777777777777778,
             "#fb9f3a"
            ],
            [
             0.8888888888888888,
             "#fdca26"
            ],
            [
             1,
             "#f0f921"
            ]
           ]
          },
          "colorway": [
           "#636efa",
           "#EF553B",
           "#00cc96",
           "#ab63fa",
           "#FFA15A",
           "#19d3f3",
           "#FF6692",
           "#B6E880",
           "#FF97FF",
           "#FECB52"
          ],
          "font": {
           "color": "#2a3f5f"
          },
          "geo": {
           "bgcolor": "white",
           "lakecolor": "white",
           "landcolor": "white",
           "showlakes": true,
           "showland": true,
           "subunitcolor": "#C8D4E3"
          },
          "hoverlabel": {
           "align": "left"
          },
          "hovermode": "closest",
          "mapbox": {
           "style": "light"
          },
          "paper_bgcolor": "white",
          "plot_bgcolor": "white",
          "polar": {
           "angularaxis": {
            "gridcolor": "#EBF0F8",
            "linecolor": "#EBF0F8",
            "ticks": ""
           },
           "bgcolor": "white",
           "radialaxis": {
            "gridcolor": "#EBF0F8",
            "linecolor": "#EBF0F8",
            "ticks": ""
           }
          },
          "scene": {
           "xaxis": {
            "backgroundcolor": "white",
            "gridcolor": "#DFE8F3",
            "gridwidth": 2,
            "linecolor": "#EBF0F8",
            "showbackground": true,
            "ticks": "",
            "zerolinecolor": "#EBF0F8"
           },
           "yaxis": {
            "backgroundcolor": "white",
            "gridcolor": "#DFE8F3",
            "gridwidth": 2,
            "linecolor": "#EBF0F8",
            "showbackground": true,
            "ticks": "",
            "zerolinecolor": "#EBF0F8"
           },
           "zaxis": {
            "backgroundcolor": "white",
            "gridcolor": "#DFE8F3",
            "gridwidth": 2,
            "linecolor": "#EBF0F8",
            "showbackground": true,
            "ticks": "",
            "zerolinecolor": "#EBF0F8"
           }
          },
          "shapedefaults": {
           "line": {
            "color": "#2a3f5f"
           }
          },
          "ternary": {
           "aaxis": {
            "gridcolor": "#DFE8F3",
            "linecolor": "#A2B1C6",
            "ticks": ""
           },
           "baxis": {
            "gridcolor": "#DFE8F3",
            "linecolor": "#A2B1C6",
            "ticks": ""
           },
           "bgcolor": "white",
           "caxis": {
            "gridcolor": "#DFE8F3",
            "linecolor": "#A2B1C6",
            "ticks": ""
           }
          },
          "title": {
           "x": 0.05
          },
          "xaxis": {
           "automargin": true,
           "gridcolor": "#EBF0F8",
           "linecolor": "#EBF0F8",
           "ticks": "",
           "title": {
            "standoff": 15
           },
           "zerolinecolor": "#EBF0F8",
           "zerolinewidth": 2
          },
          "yaxis": {
           "automargin": true,
           "gridcolor": "#EBF0F8",
           "linecolor": "#EBF0F8",
           "ticks": "",
           "title": {
            "standoff": 15
           },
           "zerolinecolor": "#EBF0F8",
           "zerolinewidth": 2
          }
         }
        },
        "title": {
         "text": "Evolution de la quantité de Tweet assimilé au #covid en France, par groupe de Twittos, durant l'année 2021",
         "x": 0.5,
         "xanchor": "center",
         "y": 0.93,
         "yanchor": "top"
        },
        "xaxis": {
         "autorange": true,
         "range": [
          "2021-01-01 00:00:00.0000",
          "2021-12-31 00:00:00.0000"
         ],
         "rangeslider": {
          "autorange": true,
          "range": [
           "2021-01-01 00:00:00.0000",
           "2021-12-31 00:00:00.0000"
          ]
         },
         "type": "date"
        },
        "yaxis": {
         "anchor": "x",
         "autorange": true,
         "domain": [
          0,
          0.33
         ],
         "linecolor": "#5B42BF",
         "mirror": true,
         "range": [
          -60.0858369099,
          28.4406294707
         ],
         "showline": true,
         "side": "right",
         "tickfont": {
          "color": "#000000"
         },
         "tickmode": "auto",
         "ticks": "",
         "title": {
          "font": {
           "color": "#000000"
          }
         },
         "type": "linear",
         "zeroline": false
        },
        "yaxis2": {
         "anchor": "x",
         "autorange": true,
         "domain": [
          0.33,
          0.66
         ],
         "linecolor": "#E91E63",
         "mirror": true,
         "range": [
          29.3787777032,
          100.621222297
         ],
         "showline": true,
         "side": "right",
         "tickfont": {
          "color": "#000000"
         },
         "tickmode": "auto",
         "ticks": "",
         "title": {
          "font": {
           "color": "#000000"
          }
         },
         "type": "linear",
         "zeroline": false
        },
        "yaxis3": {
         "anchor": "x",
         "autorange": true,
         "domain": [
          0.66,
          1
         ],
         "linecolor": "#31CF3E",
         "mirror": true,
         "range": [
          29.3787777032,
          100.621222297
         ],
         "showline": true,
         "side": "right",
         "tickfont": {
          "color": "#000000"
         },
         "tickmode": "auto",
         "ticks": "",
         "title": {
          "font": {
           "color": "#000000"
          }
         },
         "type": "linear",
         "zeroline": false
        }
       }
      }
     },
     "metadata": {},
     "output_type": "display_data"
    }
   ],
   "source": [
    "# création de la figure\n",
    "fig = go.Figure()\n",
    "\n",
    "# création des tracés\n",
    "fig.add_trace(go.Scatter(\n",
    "    x=basedate,\n",
    "    y=base,\n",
    "    name=\"TweetBase\",\n",
    "    text=base,\n",
    "    yaxis=\"y\",\n",
    "))\n",
    "\n",
    "fig.add_trace(go.Scatter(\n",
    "    x=basegouv,\n",
    "    y=gouv,\n",
    "    name=\"TweetGouv\",\n",
    "    text=gouv,\n",
    "    yaxis=\"y2\",\n",
    "))\n",
    "\n",
    "fig.add_trace(go.Scatter(\n",
    "    x=influencedate,\n",
    "    y=influence,\n",
    "    name=\"TweetVerifié\",\n",
    "    text=influence,\n",
    "    yaxis=\"y3\",\n",
    "))\n",
    "\n",
    "# création du style des tracé\n",
    "fig.update_traces(\n",
    "    hoverinfo=\"name+x+text\",\n",
    "    line={\"width\": 0.5},\n",
    "    marker={\"size\": 8},\n",
    "    mode=\"lines+markers\",\n",
    "    showlegend=False\n",
    ")\n",
    "\n",
    "# fond transparent arrière\n",
    "fig.update_layout(\n",
    "    shapes=[\n",
    "        dict(\n",
    "            fillcolor=\"rgba(242,220,37,0.2)\",\n",
    "            line={\"width\": 0},\n",
    "            type=\"rect\",\n",
    "            x0=\"2021-01-13\",\n",
    "            x1=\"2021-01-31\",\n",
    "            xref=\"x\",\n",
    "            y0=0,\n",
    "            y1=1,\n",
    "            yref=\"paper\"\n",
    "        ),\n",
    "        dict(\n",
    "            fillcolor=\"rgba(234,92,26,0.2)\",\n",
    "            line={\"width\": 0},\n",
    "            type=\"rect\",\n",
    "            x0=\"2021-03-20\",\n",
    "            x1=\"2021-04-03\",\n",
    "            xref=\"x\",\n",
    "            y0=0,\n",
    "            y1=1,\n",
    "            yref=\"paper\"\n",
    "        ),\n",
    "        dict(\n",
    "            fillcolor=\"rgba(164,6,62,0.2)\",\n",
    "            line={\"width\": 0},\n",
    "            type=\"rect\",\n",
    "            x0=\"2021-04-03\",\n",
    "            x1=\"2021-04-30\",\n",
    "            xref=\"x\",\n",
    "            y0=0,\n",
    "            y1=1,\n",
    "            yref=\"paper\"\n",
    "        ),\n",
    "        dict(\n",
    "            fillcolor=\"rgba(234,92,26,0.2)\",\n",
    "            line={\"width\": 0},\n",
    "            type=\"rect\",\n",
    "            x0=\"2021-04-30\",\n",
    "            x1=\"2021-06-10\",\n",
    "            xref=\"x\",\n",
    "            y0=0,\n",
    "            y1=1,\n",
    "            yref=\"paper\"\n",
    "        ),\n",
    "        dict(\n",
    "            fillcolor=\"rgba(42,183,55,0.2)\",\n",
    "            line={\"width\": 0},\n",
    "            type=\"rect\",\n",
    "            x0=\"2021-07-11\",\n",
    "            x1=\"2021-08-09\",\n",
    "            xref=\"x\",\n",
    "            y0=0,\n",
    "            y1=1,\n",
    "            yref=\"paper\"\n",
    "        ),\n",
    "        dict(\n",
    "            fillcolor=\"rgba(42,112,183,0.2)\",\n",
    "            line={\"width\": 0},\n",
    "            type=\"rect\",\n",
    "            x0=\"2021-11-07\",\n",
    "            x1=\"2021-11-30\",\n",
    "            xref=\"x\",\n",
    "            y0=0,\n",
    "            y1=1,\n",
    "            yref=\"paper\"\n",
    "        ),\n",
    "        dict(\n",
    "            fillcolor=\"rgba(14,25,172,0.2)\",\n",
    "            line={\"width\": 0},\n",
    "            type=\"rect\",\n",
    "            x0=\"2021-12-16\",\n",
    "            x1=\"2021-12-31\",\n",
    "            xref=\"x\",\n",
    "            y0=0,\n",
    "            y1=1,\n",
    "            yref=\"paper\"\n",
    "        )\n",
    "    ]\n",
    ")\n",
    "\n",
    "# Axes\n",
    "fig.update_layout(\n",
    "    xaxis=dict(\n",
    "        autorange=True,\n",
    "        range=[\"2021-01-01 00:00:00.0000\", \"2021-12-31 00:00:00.0000\"],\n",
    "        rangeslider=dict(\n",
    "            autorange=True,\n",
    "            range=[\"2021-01-01 00:00:00.0000\", \"2021-12-31 00:00:00.0000\"]\n",
    "        ),\n",
    "        type=\"date\"\n",
    "    ),\n",
    "    yaxis=dict(\n",
    "        anchor=\"x\",\n",
    "        autorange=True,\n",
    "        domain=[0, 0.33],\n",
    "        linecolor=\"#5B42BF\",\n",
    "        mirror=True,\n",
    "        range=[-60.0858369099, 28.4406294707],\n",
    "        showline=True,\n",
    "        side=\"right\",\n",
    "        tickfont={\"color\": \"#000000\"},\n",
    "        tickmode=\"auto\",\n",
    "        ticks=\"\",\n",
    "        titlefont={\"color\": \"#000000\"},\n",
    "        type=\"linear\",\n",
    "        zeroline=False\n",
    "    ),\n",
    "    yaxis2=dict(\n",
    "        anchor=\"x\",\n",
    "        autorange=True,\n",
    "        domain=[0.33, 0.66],\n",
    "        linecolor=\"#E91E63\",\n",
    "        mirror=True,\n",
    "        range=[29.3787777032, 100.621222297],\n",
    "        showline=True,\n",
    "        side=\"right\",\n",
    "        tickfont={\"color\": \"#000000\"},\n",
    "        tickmode=\"auto\",\n",
    "        ticks=\"\",\n",
    "        titlefont={\"color\": \"#000000\"},\n",
    "        type=\"linear\",\n",
    "        zeroline=False\n",
    "    ),\n",
    "    yaxis3=dict(\n",
    "        anchor=\"x\",\n",
    "        autorange=True,\n",
    "        domain=[0.66, 1],\n",
    "        linecolor=\"#31CF3E\",\n",
    "        mirror=True,\n",
    "        range=[29.3787777032, 100.621222297],\n",
    "        showline=True,\n",
    "        side=\"right\",\n",
    "        tickfont={\"color\": \"#000000\"},\n",
    "        tickmode=\"auto\",\n",
    "        ticks=\"\",\n",
    "        titlefont={\"color\": \"#000000\"},\n",
    "        type=\"linear\",\n",
    "        zeroline=False\n",
    "    )\n",
    ")\n",
    "\n",
    "# mise à jour du ruban inférieur\n",
    "fig.update_layout(\n",
    "    dragmode=\"zoom\",\n",
    "    hovermode=\"x\",\n",
    "    legend=dict(traceorder=\"reversed\"),\n",
    "    height=600,\n",
    "    template=\"plotly_white\",\n",
    "    margin=dict(\n",
    "        t=100,\n",
    "        b=100\n",
    "    ),\n",
    ")\n",
    "\n",
    "# titre\n",
    "fig.update_layout(\n",
    "    title={\n",
    "        'text': \"Evolution de la quantité de Tweet assimilé au #covid en France, par groupe de Twittos, durant l'année 2021\",\n",
    "        'y':0.93,\n",
    "        'x':0.5,\n",
    "        'xanchor': 'center',\n",
    "        'yanchor': 'top'}\n",
    ")\n",
    "\n",
    "# sous titre axe\n",
    "\n",
    "fig.show()"
   ]
  },
  {
   "cell_type": "markdown",
   "metadata": {},
   "source": [
    "#### **<span style=\"color:#8EA3EB\">4.4 Analyse des hashtags</span>**"
   ]
  },
  {
   "cell_type": "markdown",
   "metadata": {},
   "source": [
    "##### **<span style=\"color:#6DEFA2\">4.4.1. Cleaning des #</span>**"
   ]
  },
  {
   "cell_type": "code",
   "execution_count": 44,
   "metadata": {},
   "outputs": [],
   "source": [
    "# création de liste pour récupérer les tweets\n",
    "tweets_ht = []\n",
    "\n",
    "# création d'une boucle for pour analyser les tweets\n",
    "# paramètres (mots clef, date, langue etc)\n",
    "for i,tweet in enumerate(sntwitter.TwitterSearchScraper('#covid since:2021-01-01 until:2021-12-30 lang:fr').get_items()):\n",
    "    if i>1000000:\n",
    "        break\n",
    "\n",
    "    tweets_ht.append([tweet.date, tweet.id, tweet.content, tweet.hashtags])"
   ]
  },
  {
   "cell_type": "code",
   "execution_count": 45,
   "metadata": {},
   "outputs": [],
   "source": [
    "# création de la liste de colonne\n",
    "cols_name = ['Datetime', 'Tweet Id', 'Text', 'Hashtags']\n",
    "\n",
    "# création des DataFrame finaux\n",
    "df_tweets_ht = pd.DataFrame(tweets_ht, columns=cols_name)"
   ]
  },
  {
   "cell_type": "code",
   "execution_count": 46,
   "metadata": {},
   "outputs": [],
   "source": [
    "# cleaning des hashtags\n",
    "hashtag_list = df_tweets_ht[\"Hashtags\"]\n",
    "total = {}\n",
    "\n",
    "# on énumère la liste des #hashtags\n",
    "for i, items in enumerate(hashtag_list):\n",
    "    if str(items) not in \"nan\":\n",
    "        items = str(items).replace('[', '').replace(']', '').replace('\"', \"\").replace(\"'\", \"\")   # on clean le superflu des hashtags\n",
    "        for item in items.split(','):                                                            # pour chaque ligne de hashtag on les sépare par les virgule pour obtenir que des moys\n",
    "            item = item.lower().replace(\" \", \"\")                                                 # on met le tout en minuscule et on ajuste les espaces\n",
    "            item = item.replace(\"covid19\",\"covid\").replace(\"covid19france\",\"covid\").replace(\"covid_19\",\"covid\")\n",
    "            item = item.replace(\"passevaccinal\",\"passvaccinal\").replace(\"passvacinal\",\"passvaccinal\")\n",
    "            item = item.replace(\"passesanitaire\",\"passsanitaire\")\n",
    "            item = item.replace(\"vaccins\",\"vaccin\")\n",
    "            item = item.replace(\"vaccinationcovid\",\"vaccination\")\n",
    "            if item not in total:\n",
    "                total[item] = 0                                                                  # si il n'est pas présent dans la liste, on l'ajoute\n",
    "            total[item] += 1                                                                     "
   ]
  },
  {
   "cell_type": "code",
   "execution_count": 47,
   "metadata": {},
   "outputs": [],
   "source": [
    "total = {k: v for k, v in sorted(total.items(), key=lambda item: item[1], reverse=True)}\n",
    "\n",
    "# on initialise les colonnes du df\n",
    "df_total_hashtag = {\"name\": [], \"count\": []}\n",
    "\n",
    "\n",
    "for x, y in total.items():\n",
    "    df_total_hashtag[\"name\"].append(x)    # on récupère le x du dictionnaire (nom\n",
    "    df_total_hashtag[\"count\"].append(y)   # on récupère le y du dictionnaire (nombre)\n",
    "    \n",
    "df_total_hashtag = pd.DataFrame(df_total_hashtag)"
   ]
  },
  {
   "cell_type": "markdown",
   "metadata": {},
   "source": [
    "##### **<span style=\"color:#6DEFA2\">4.4.2. Fréquence des hashtags</span>**"
   ]
  },
  {
   "cell_type": "code",
   "execution_count": 48,
   "metadata": {},
   "outputs": [
    {
     "data": {
      "text/html": [
       "<style type=\"text/css\">\n",
       "#T_377b6_row0_col1, #T_377b6_row0_col2 {\n",
       "  background-color: #ffff00;\n",
       "  color: #000000;\n",
       "}\n",
       "#T_377b6_row1_col1, #T_377b6_row1_col2 {\n",
       "  background-color: #f3f3cd;\n",
       "  color: #000000;\n",
       "}\n",
       "#T_377b6_row2_col1, #T_377b6_row2_col2 {\n",
       "  background-color: #f3f3d3;\n",
       "  color: #000000;\n",
       "}\n",
       "#T_377b6_row3_col1, #T_377b6_row3_col2 {\n",
       "  background-color: #f2f2d7;\n",
       "  color: #000000;\n",
       "}\n",
       "#T_377b6_row4_col1, #T_377b6_row4_col2 {\n",
       "  background-color: #f2f2d8;\n",
       "  color: #000000;\n",
       "}\n",
       "#T_377b6_row5_col1, #T_377b6_row5_col2, #T_377b6_row6_col1, #T_377b6_row6_col2 {\n",
       "  background-color: #f2f2d9;\n",
       "  color: #000000;\n",
       "}\n",
       "#T_377b6_row7_col1, #T_377b6_row7_col2 {\n",
       "  background-color: #f2f2db;\n",
       "  color: #000000;\n",
       "}\n",
       "#T_377b6_row8_col1, #T_377b6_row8_col2 {\n",
       "  background-color: #f2f2dc;\n",
       "  color: #000000;\n",
       "}\n",
       "#T_377b6_row9_col1, #T_377b6_row9_col2 {\n",
       "  background-color: #f2f2dd;\n",
       "  color: #000000;\n",
       "}\n",
       "</style>\n",
       "<table id=\"T_377b6_\">\n",
       "  <thead>\n",
       "    <tr>\n",
       "      <th class=\"blank level0\" >&nbsp;</th>\n",
       "      <th class=\"col_heading level0 col0\" >name</th>\n",
       "      <th class=\"col_heading level0 col1\" >count</th>\n",
       "      <th class=\"col_heading level0 col2\" >Pourcentage</th>\n",
       "    </tr>\n",
       "  </thead>\n",
       "  <tbody>\n",
       "    <tr>\n",
       "      <th id=\"T_377b6_level0_row0\" class=\"row_heading level0 row0\" >0</th>\n",
       "      <td id=\"T_377b6_row0_col0\" class=\"data row0 col0\" >covid</td>\n",
       "      <td id=\"T_377b6_row0_col1\" class=\"data row0 col1\" >232152</td>\n",
       "      <td id=\"T_377b6_row0_col2\" class=\"data row0 col2\" >33.744642</td>\n",
       "    </tr>\n",
       "    <tr>\n",
       "      <th id=\"T_377b6_level0_row1\" class=\"row_heading level0 row1\" >1</th>\n",
       "      <td id=\"T_377b6_row1_col0\" class=\"data row1 col0\" >vaccin</td>\n",
       "      <td id=\"T_377b6_row1_col1\" class=\"data row1 col1\" >19655</td>\n",
       "      <td id=\"T_377b6_row1_col2\" class=\"data row1 col2\" >2.856968</td>\n",
       "    </tr>\n",
       "    <tr>\n",
       "      <th id=\"T_377b6_level0_row2\" class=\"row_heading level0 row2\" >2</th>\n",
       "      <td id=\"T_377b6_row2_col0\" class=\"data row2 col0\" >vaccination</td>\n",
       "      <td id=\"T_377b6_row2_col1\" class=\"data row2 col1\" >13995</td>\n",
       "      <td id=\"T_377b6_row2_col2\" class=\"data row2 col2\" >2.034255</td>\n",
       "    </tr>\n",
       "    <tr>\n",
       "      <th id=\"T_377b6_level0_row3\" class=\"row_heading level0 row3\" >3</th>\n",
       "      <td id=\"T_377b6_row3_col0\" class=\"data row3 col0\" >coronavirus</td>\n",
       "      <td id=\"T_377b6_row3_col1\" class=\"data row3 col1\" >9749</td>\n",
       "      <td id=\"T_377b6_row3_col2\" class=\"data row3 col2\" >1.417074</td>\n",
       "    </tr>\n",
       "    <tr>\n",
       "      <th id=\"T_377b6_level0_row4\" class=\"row_heading level0 row4\" >4</th>\n",
       "      <td id=\"T_377b6_row4_col0\" class=\"data row4 col0\" >passsanitaire</td>\n",
       "      <td id=\"T_377b6_row4_col1\" class=\"data row4 col1\" >8022</td>\n",
       "      <td id=\"T_377b6_row4_col2\" class=\"data row4 col2\" >1.166044</td>\n",
       "    </tr>\n",
       "    <tr>\n",
       "      <th id=\"T_377b6_level0_row5\" class=\"row_heading level0 row5\" >5</th>\n",
       "      <td id=\"T_377b6_row5_col0\" class=\"data row5 col0\" >macron</td>\n",
       "      <td id=\"T_377b6_row5_col1\" class=\"data row5 col1\" >7883</td>\n",
       "      <td id=\"T_377b6_row5_col2\" class=\"data row5 col2\" >1.145840</td>\n",
       "    </tr>\n",
       "    <tr>\n",
       "      <th id=\"T_377b6_level0_row6\" class=\"row_heading level0 row6\" >6</th>\n",
       "      <td id=\"T_377b6_row6_col0\" class=\"data row6 col0\" >france</td>\n",
       "      <td id=\"T_377b6_row6_col1\" class=\"data row6 col1\" >7219</td>\n",
       "      <td id=\"T_377b6_row6_col2\" class=\"data row6 col2\" >1.049324</td>\n",
       "    </tr>\n",
       "    <tr>\n",
       "      <th id=\"T_377b6_level0_row7\" class=\"row_heading level0 row7\" >7</th>\n",
       "      <td id=\"T_377b6_row7_col0\" class=\"data row7 col0\" >confinement</td>\n",
       "      <td id=\"T_377b6_row7_col1\" class=\"data row7 col1\" >5404</td>\n",
       "      <td id=\"T_377b6_row7_col2\" class=\"data row7 col2\" >0.785503</td>\n",
       "    </tr>\n",
       "    <tr>\n",
       "      <th id=\"T_377b6_level0_row8\" class=\"row_heading level0 row8\" >8</th>\n",
       "      <td id=\"T_377b6_row8_col0\" class=\"data row8 col0\" >covidfrance</td>\n",
       "      <td id=\"T_377b6_row8_col1\" class=\"data row8 col1\" >3643</td>\n",
       "      <td id=\"T_377b6_row8_col2\" class=\"data row8 col2\" >0.529531</td>\n",
       "    </tr>\n",
       "    <tr>\n",
       "      <th id=\"T_377b6_level0_row9\" class=\"row_heading level0 row9\" >9</th>\n",
       "      <td id=\"T_377b6_row9_col0\" class=\"data row9 col0\" >castex</td>\n",
       "      <td id=\"T_377b6_row9_col1\" class=\"data row9 col1\" >2601</td>\n",
       "      <td id=\"T_377b6_row9_col2\" class=\"data row9 col2\" >0.378070</td>\n",
       "    </tr>\n",
       "  </tbody>\n",
       "</table>\n"
      ],
      "text/plain": [
       "<pandas.io.formats.style.Styler at 0x1bdee630f40>"
      ]
     },
     "execution_count": 48,
     "metadata": {},
     "output_type": "execute_result"
    }
   ],
   "source": [
    "# comptages et classement des mots\n",
    "cm = sns.light_palette(\"yellow\", as_cmap=True)\n",
    "df_total_hashtag['Pourcentage'] = df_total_hashtag['count'] /df_total_hashtag['count'].sum() * 100\n",
    "df_total_hashtag.sort_values(by='count', ascending=False).head(10).style.background_gradient(cmap=cm)"
   ]
  },
  {
   "cell_type": "code",
   "execution_count": 49,
   "metadata": {},
   "outputs": [
    {
     "name": "stdout",
     "output_type": "stream",
     "text": [
      "Les 10 # les plus rencontrés représentent: \u001b[1m\u001b[92m 44.73 \u001b[0m % de tous les hashtags rencontrés\n"
     ]
    }
   ],
   "source": [
    "print('Les 10 # les plus rencontrés représentent:', color.BOLD + color.GREEN, round(df_total_hashtag['Pourcentage'][0:9].sum(),2), color.END, r'% de tous les hashtags rencontrés')"
   ]
  },
  {
   "cell_type": "markdown",
   "metadata": {},
   "source": [
    "`` 44.14 % des hashtags sont représentant par les 10 hashtags les plus utilisés``"
   ]
  },
  {
   "cell_type": "code",
   "execution_count": 50,
   "metadata": {},
   "outputs": [],
   "source": [
    "# je filtre les hashtags représentant moins de 0.1% des hashtags totaux\n",
    "df_total_hashtag = df_total_hashtag[(df_total_hashtag['Pourcentage'] > 0.1)]"
   ]
  },
  {
   "cell_type": "code",
   "execution_count": 51,
   "metadata": {},
   "outputs": [
    {
     "data": {
      "text/html": [
       "<style type=\"text/css\">\n",
       "#T_cb5dc_row0_col1, #T_cb5dc_row0_col2 {\n",
       "  background-color: #ffff00;\n",
       "  color: #000000;\n",
       "}\n",
       "#T_cb5dc_row1_col1, #T_cb5dc_row1_col2 {\n",
       "  background-color: #f3f3cd;\n",
       "  color: #000000;\n",
       "}\n",
       "#T_cb5dc_row2_col1, #T_cb5dc_row2_col2 {\n",
       "  background-color: #f3f3d3;\n",
       "  color: #000000;\n",
       "}\n",
       "#T_cb5dc_row3_col1, #T_cb5dc_row3_col2 {\n",
       "  background-color: #f2f2d7;\n",
       "  color: #000000;\n",
       "}\n",
       "#T_cb5dc_row4_col1, #T_cb5dc_row4_col2 {\n",
       "  background-color: #f2f2d8;\n",
       "  color: #000000;\n",
       "}\n",
       "#T_cb5dc_row5_col1, #T_cb5dc_row5_col2, #T_cb5dc_row6_col1, #T_cb5dc_row6_col2 {\n",
       "  background-color: #f2f2d9;\n",
       "  color: #000000;\n",
       "}\n",
       "#T_cb5dc_row7_col1, #T_cb5dc_row7_col2 {\n",
       "  background-color: #f2f2db;\n",
       "  color: #000000;\n",
       "}\n",
       "#T_cb5dc_row8_col1, #T_cb5dc_row8_col2 {\n",
       "  background-color: #f2f2dc;\n",
       "  color: #000000;\n",
       "}\n",
       "#T_cb5dc_row9_col1, #T_cb5dc_row9_col2 {\n",
       "  background-color: #f2f2dd;\n",
       "  color: #000000;\n",
       "}\n",
       "</style>\n",
       "<table id=\"T_cb5dc_\">\n",
       "  <thead>\n",
       "    <tr>\n",
       "      <th class=\"blank level0\" >&nbsp;</th>\n",
       "      <th class=\"col_heading level0 col0\" >name</th>\n",
       "      <th class=\"col_heading level0 col1\" >count</th>\n",
       "      <th class=\"col_heading level0 col2\" >Pourcentage</th>\n",
       "    </tr>\n",
       "  </thead>\n",
       "  <tbody>\n",
       "    <tr>\n",
       "      <th id=\"T_cb5dc_level0_row0\" class=\"row_heading level0 row0\" >0</th>\n",
       "      <td id=\"T_cb5dc_row0_col0\" class=\"data row0 col0\" >covid</td>\n",
       "      <td id=\"T_cb5dc_row0_col1\" class=\"data row0 col1\" >232152</td>\n",
       "      <td id=\"T_cb5dc_row0_col2\" class=\"data row0 col2\" >62.108930</td>\n",
       "    </tr>\n",
       "    <tr>\n",
       "      <th id=\"T_cb5dc_level0_row1\" class=\"row_heading level0 row1\" >1</th>\n",
       "      <td id=\"T_cb5dc_row1_col0\" class=\"data row1 col0\" >vaccin</td>\n",
       "      <td id=\"T_cb5dc_row1_col1\" class=\"data row1 col1\" >19655</td>\n",
       "      <td id=\"T_cb5dc_row1_col2\" class=\"data row1 col2\" >5.258413</td>\n",
       "    </tr>\n",
       "    <tr>\n",
       "      <th id=\"T_cb5dc_level0_row2\" class=\"row_heading level0 row2\" >2</th>\n",
       "      <td id=\"T_cb5dc_row2_col0\" class=\"data row2 col0\" >vaccination</td>\n",
       "      <td id=\"T_cb5dc_row2_col1\" class=\"data row2 col1\" >13995</td>\n",
       "      <td id=\"T_cb5dc_row2_col2\" class=\"data row2 col2\" >3.744161</td>\n",
       "    </tr>\n",
       "    <tr>\n",
       "      <th id=\"T_cb5dc_level0_row3\" class=\"row_heading level0 row3\" >3</th>\n",
       "      <td id=\"T_cb5dc_row3_col0\" class=\"data row3 col0\" >coronavirus</td>\n",
       "      <td id=\"T_cb5dc_row3_col1\" class=\"data row3 col1\" >9749</td>\n",
       "      <td id=\"T_cb5dc_row3_col2\" class=\"data row3 col2\" >2.608205</td>\n",
       "    </tr>\n",
       "    <tr>\n",
       "      <th id=\"T_cb5dc_level0_row4\" class=\"row_heading level0 row4\" >4</th>\n",
       "      <td id=\"T_cb5dc_row4_col0\" class=\"data row4 col0\" >passsanitaire</td>\n",
       "      <td id=\"T_cb5dc_row4_col1\" class=\"data row4 col1\" >8022</td>\n",
       "      <td id=\"T_cb5dc_row4_col2\" class=\"data row4 col2\" >2.146171</td>\n",
       "    </tr>\n",
       "    <tr>\n",
       "      <th id=\"T_cb5dc_level0_row5\" class=\"row_heading level0 row5\" >5</th>\n",
       "      <td id=\"T_cb5dc_row5_col0\" class=\"data row5 col0\" >macron</td>\n",
       "      <td id=\"T_cb5dc_row5_col1\" class=\"data row5 col1\" >7883</td>\n",
       "      <td id=\"T_cb5dc_row5_col2\" class=\"data row5 col2\" >2.108983</td>\n",
       "    </tr>\n",
       "    <tr>\n",
       "      <th id=\"T_cb5dc_level0_row6\" class=\"row_heading level0 row6\" >6</th>\n",
       "      <td id=\"T_cb5dc_row6_col0\" class=\"data row6 col0\" >france</td>\n",
       "      <td id=\"T_cb5dc_row6_col1\" class=\"data row6 col1\" >7219</td>\n",
       "      <td id=\"T_cb5dc_row6_col2\" class=\"data row6 col2\" >1.931340</td>\n",
       "    </tr>\n",
       "    <tr>\n",
       "      <th id=\"T_cb5dc_level0_row7\" class=\"row_heading level0 row7\" >7</th>\n",
       "      <td id=\"T_cb5dc_row7_col0\" class=\"data row7 col0\" >confinement</td>\n",
       "      <td id=\"T_cb5dc_row7_col1\" class=\"data row7 col1\" >5404</td>\n",
       "      <td id=\"T_cb5dc_row7_col2\" class=\"data row7 col2\" >1.445763</td>\n",
       "    </tr>\n",
       "    <tr>\n",
       "      <th id=\"T_cb5dc_level0_row8\" class=\"row_heading level0 row8\" >8</th>\n",
       "      <td id=\"T_cb5dc_row8_col0\" class=\"data row8 col0\" >covidfrance</td>\n",
       "      <td id=\"T_cb5dc_row8_col1\" class=\"data row8 col1\" >3643</td>\n",
       "      <td id=\"T_cb5dc_row8_col2\" class=\"data row8 col2\" >0.974632</td>\n",
       "    </tr>\n",
       "    <tr>\n",
       "      <th id=\"T_cb5dc_level0_row9\" class=\"row_heading level0 row9\" >9</th>\n",
       "      <td id=\"T_cb5dc_row9_col0\" class=\"data row9 col0\" >castex</td>\n",
       "      <td id=\"T_cb5dc_row9_col1\" class=\"data row9 col1\" >2601</td>\n",
       "      <td id=\"T_cb5dc_row9_col2\" class=\"data row9 col2\" >0.695860</td>\n",
       "    </tr>\n",
       "  </tbody>\n",
       "</table>\n"
      ],
      "text/plain": [
       "<pandas.io.formats.style.Styler at 0x1bdee632a60>"
      ]
     },
     "execution_count": 51,
     "metadata": {},
     "output_type": "execute_result"
    }
   ],
   "source": [
    "# je réétablis des pourcentages plus justes\n",
    "df_total_hashtag['Pourcentage'] = df_total_hashtag['count'] /df_total_hashtag['count'].sum() * 100\n",
    "df_total_hashtag.sort_values(by='count', ascending=False).head(10).style.background_gradient(cmap=cm)"
   ]
  },
  {
   "cell_type": "markdown",
   "metadata": {},
   "source": [
    "##### **<span style=\"color:#6DEFA2\">4.4.3. Visualisation des hashtags</span>**"
   ]
  },
  {
   "cell_type": "code",
   "execution_count": 52,
   "metadata": {},
   "outputs": [
    {
     "data": {
      "text/plain": [
       "<AxesSubplot:title={'center':'Nombre des 12 sur 63 hashtags les plus présents'}, xlabel='name'>"
      ]
     },
     "execution_count": 52,
     "metadata": {},
     "output_type": "execute_result"
    },
    {
     "data": {
      "image/png": "[encoded data removed]",
      "text/plain": [
       "<Figure size 1440x360 with 1 Axes>"
      ]
     },
     "metadata": {},
     "output_type": "display_data"
    },
    {
     "data": {
      "image/png": "[encoded data removed]",
      "text/plain": [
       "<Figure size 1440x360 with 1 Axes>"
      ]
     },
     "metadata": {},
     "output_type": "display_data"
    }
   ],
   "source": [
    "# visualisation des #\n",
    "p = df_total_hashtag[1:].head(12)\n",
    "c = df_total_hashtag.head(12)\n",
    "p.plot.bar(x='name', y='count', rot=0, figsize=(20, 5), title=\"Nombre des 12 sur 63 hashtags les plus présents hors 'covid'\", color='orange')\n",
    "c.plot.bar(x='name', y='count', rot=0, figsize=(20, 5), title=\"Nombre des 12 sur 63 hashtags les plus présents\", color='blue')"
   ]
  },
  {
   "cell_type": "markdown",
   "metadata": {},
   "source": [
    "#### **<span style=\"color:#8EA3EB\">4.5 Analyse des retweet</span>**"
   ]
  },
  {
   "cell_type": "markdown",
   "metadata": {},
   "source": [
    "##### **<span style=\"color:#6DEFA2\">4.5.1. Cleaning des retweets</span>**"
   ]
  },
  {
   "cell_type": "code",
   "execution_count": 53,
   "metadata": {},
   "outputs": [],
   "source": [
    "# création de liste pour récupérer les tweets\n",
    "tweets_rt = []\n",
    "\n",
    "# création d'une boucle for pour analyser les tweets\n",
    "# paramètres (mots clef, date, langue etc)\n",
    "for i,tweet in enumerate(sntwitter.TwitterSearchScraper('#covid since:2021-01-01 until:2021-12-30 lang:fr').get_items()):\n",
    "    if i>1000000:\n",
    "        break\n",
    "\n",
    "    tweets_rt.append([tweet.date, tweet.id, tweet.content, tweet.retweetCount, tweet.retweetedTweet])"
   ]
  },
  {
   "cell_type": "code",
   "execution_count": null,
   "metadata": {},
   "outputs": [],
   "source": [
    "# création de la liste de colonne\n",
    "cols_name = ['Datetime', 'Tweet Id', 'Text', 'Nombre_retweet', 'Retweeté']\n",
    "\n",
    "# création des DataFrame finaux\n",
    "df_tweets_rt = pd.DataFrame(tweets_rt, columns=cols_name)"
   ]
  },
  {
   "cell_type": "code",
   "execution_count": null,
   "metadata": {},
   "outputs": [],
   "source": [
    "# passage du nombre de retweet en int\n",
    "df_tweets_rt['Nombre_retweet'] = df_tweets_rt['Nombre_retweet'].astype(int)\n",
    "\n",
    "# création d'une nouvelle colonne pour classer les retweet ou non\n",
    "for i in range(len(df_tweets_rt['Text'])):\n",
    "    if df_tweets_rt['Nombre_retweet'][i] > 0:\n",
    "        df_tweets_rt['Retweeté'][i] = \"oui\"\n",
    "    else:\n",
    "        df_tweets_rt['Retweeté'][i] = \"non\""
   ]
  },
  {
   "cell_type": "markdown",
   "metadata": {},
   "source": [
    "##### **<span style=\"color:#6DEFA2\">4.5.2. Fréquences des retweets</span>**"
   ]
  },
  {
   "cell_type": "code",
   "execution_count": null,
   "metadata": {},
   "outputs": [],
   "source": [
    "# encodage pour compter les retweets\n",
    "encodage = pd.get_dummies(df_tweets_rt['Retweeté'])\n",
    "\n",
    "# filtre pour tirer la moyenne des retweetq\n",
    "df_moy_rt = df_tweets_rt[(df_tweets_rt['Nombre_retweet'].astype(int)) > 0.1]"
   ]
  },
  {
   "cell_type": "code",
   "execution_count": null,
   "metadata": {},
   "outputs": [],
   "source": [
    "print(r'% de tweet non retweeté = ', round(encodage['non'].sum() / len(encodage) * 100,2), \"%\")\n",
    "print(r'% de tweet non retweeté = ', round(encodage['oui'].sum() / len(encodage) * 100,2), \"%\")\n",
    "print(r'moyenne de retweets pour un tweet retweeté = ', round((df_moy_rt['Nombre_retweet']).mean(),2))\n",
    "print(r'mediane de retweets pour un tweet retweeté = ', round((df_moy_rt['Nombre_retweet']).median(),2))"
   ]
  },
  {
   "cell_type": "code",
   "execution_count": null,
   "metadata": {},
   "outputs": [],
   "source": [
    "# graphique du nombre de tweet retweeté ou non\n",
    "df_tweets_rt[\"Retweeté\"].value_counts().plot.pie(figsize=(12, 6), autopct='%1.1f%%', fontsize=20)"
   ]
  }
 ],
 "metadata": {
  "interpreter": {
   "hash": "f9e7e9156cfe6a39422315f0b6c888438b8276390da6e4dc465c601263f7841a"
  },
  "kernelspec": {
   "display_name": "Python 3.9.8 64-bit",
   "language": "python",
   "name": "python3"
  },
  "language_info": {
   "codemirror_mode": {
    "name": "ipython",
    "version": 3
   },
   "file_extension": ".py",
   "mimetype": "text/x-python",
   "name": "python",
   "nbconvert_exporter": "python",
   "pygments_lexer": "ipython3",
   "version": "3.9.8"
  },
  "orig_nbformat": 4
 },
 "nbformat": 4,
 "nbformat_minor": 2
}
